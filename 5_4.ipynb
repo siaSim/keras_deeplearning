{
  "nbformat": 4,
  "nbformat_minor": 0,
  "metadata": {
    "colab": {
      "provenance": [],
      "authorship_tag": "ABX9TyPZ/QBj2KM/D0q4lyeA3/8K",
      "include_colab_link": true
    },
    "kernelspec": {
      "name": "python3",
      "display_name": "Python 3"
    },
    "language_info": {
      "name": "python"
    }
  },
  "cells": [
    {
      "cell_type": "markdown",
      "metadata": {
        "id": "view-in-github",
        "colab_type": "text"
      },
      "source": [
        "<a href=\"https://colab.research.google.com/github/siaSim/keras_deeplearning/blob/main/5_4.ipynb\" target=\"_parent\"><img src=\"https://colab.research.google.com/assets/colab-badge.svg\" alt=\"Open In Colab\"/></a>"
      ]
    },
    {
      "cell_type": "markdown",
      "source": [
        "원본 모델"
      ],
      "metadata": {
        "id": "tCAAlD0_NX1x"
      }
    },
    {
      "cell_type": "code",
      "execution_count": 1,
      "metadata": {
        "colab": {
          "base_uri": "https://localhost:8080/"
        },
        "id": "NK5nqkYUH3cA",
        "outputId": "8e711d66-f40c-489e-8239-de946254a619"
      },
      "outputs": [
        {
          "output_type": "stream",
          "name": "stdout",
          "text": [
            "Downloading data from https://storage.googleapis.com/tensorflow/tf-keras-datasets/imdb.npz\n",
            "17464789/17464789 [==============================] - 0s 0us/step\n",
            "Epoch 1/20\n",
            "30/30 [==============================] - 4s 68ms/step - loss: 0.5549 - accuracy: 0.7711 - val_loss: 0.4460 - val_accuracy: 0.8617\n",
            "Epoch 2/20\n",
            "30/30 [==============================] - 1s 35ms/step - loss: 0.3666 - accuracy: 0.8889 - val_loss: 0.3475 - val_accuracy: 0.8782\n",
            "Epoch 3/20\n",
            "30/30 [==============================] - 1s 34ms/step - loss: 0.2739 - accuracy: 0.9141 - val_loss: 0.2963 - val_accuracy: 0.8880\n",
            "Epoch 4/20\n",
            "30/30 [==============================] - 1s 35ms/step - loss: 0.2202 - accuracy: 0.9309 - val_loss: 0.2799 - val_accuracy: 0.8908\n",
            "Epoch 5/20\n",
            "30/30 [==============================] - 1s 33ms/step - loss: 0.1862 - accuracy: 0.9395 - val_loss: 0.2750 - val_accuracy: 0.8925\n",
            "Epoch 6/20\n",
            "30/30 [==============================] - 1s 33ms/step - loss: 0.1584 - accuracy: 0.9506 - val_loss: 0.2812 - val_accuracy: 0.8876\n",
            "Epoch 7/20\n",
            "30/30 [==============================] - 1s 37ms/step - loss: 0.1367 - accuracy: 0.9576 - val_loss: 0.2852 - val_accuracy: 0.8881\n",
            "Epoch 8/20\n",
            "30/30 [==============================] - 2s 56ms/step - loss: 0.1171 - accuracy: 0.9657 - val_loss: 0.2996 - val_accuracy: 0.8856\n",
            "Epoch 9/20\n",
            "30/30 [==============================] - 2s 58ms/step - loss: 0.1032 - accuracy: 0.9706 - val_loss: 0.3350 - val_accuracy: 0.8769\n",
            "Epoch 10/20\n",
            "30/30 [==============================] - 1s 39ms/step - loss: 0.0888 - accuracy: 0.9756 - val_loss: 0.3345 - val_accuracy: 0.8798\n",
            "Epoch 11/20\n",
            "30/30 [==============================] - 1s 32ms/step - loss: 0.0793 - accuracy: 0.9798 - val_loss: 0.3425 - val_accuracy: 0.8828\n",
            "Epoch 12/20\n",
            "30/30 [==============================] - 1s 33ms/step - loss: 0.0661 - accuracy: 0.9843 - val_loss: 0.3894 - val_accuracy: 0.8737\n",
            "Epoch 13/20\n",
            "30/30 [==============================] - 1s 32ms/step - loss: 0.0581 - accuracy: 0.9876 - val_loss: 0.3821 - val_accuracy: 0.8763\n",
            "Epoch 14/20\n",
            "30/30 [==============================] - 1s 35ms/step - loss: 0.0512 - accuracy: 0.9887 - val_loss: 0.4440 - val_accuracy: 0.8715\n",
            "Epoch 15/20\n",
            "30/30 [==============================] - 1s 32ms/step - loss: 0.0412 - accuracy: 0.9924 - val_loss: 0.4547 - val_accuracy: 0.8704\n",
            "Epoch 16/20\n",
            "30/30 [==============================] - 1s 34ms/step - loss: 0.0368 - accuracy: 0.9931 - val_loss: 0.5005 - val_accuracy: 0.8678\n",
            "Epoch 17/20\n",
            "30/30 [==============================] - 1s 33ms/step - loss: 0.0320 - accuracy: 0.9941 - val_loss: 0.4734 - val_accuracy: 0.8735\n",
            "Epoch 18/20\n",
            "30/30 [==============================] - 1s 33ms/step - loss: 0.0282 - accuracy: 0.9947 - val_loss: 0.4891 - val_accuracy: 0.8721\n",
            "Epoch 19/20\n",
            "30/30 [==============================] - 1s 33ms/step - loss: 0.0234 - accuracy: 0.9967 - val_loss: 0.5199 - val_accuracy: 0.8709\n",
            "Epoch 20/20\n",
            "30/30 [==============================] - 1s 49ms/step - loss: 0.0203 - accuracy: 0.9967 - val_loss: 0.5352 - val_accuracy: 0.8703\n"
          ]
        }
      ],
      "source": [
        "from tensorflow import keras\n",
        "from tensorflow.keras import layers\n",
        "from tensorflow.keras.datasets import imdb\n",
        "import numpy as np\n",
        "(train_data,train_labels),_ = imdb.load_data(num_words=10000)\n",
        "\n",
        "def vectorize_sequences(sequences, dimension=10000):\n",
        "  results = np.zeros((len(sequences), dimension))\n",
        "  for i, sequence in enumerate(sequences):\n",
        "    results[i, sequence] = 1.\n",
        "  return results\n",
        "train_data =vectorize_sequences(train_data)\n",
        "model = keras.Sequential([\n",
        "    layers.Dense(16,activation=\"relu\"),\n",
        "    layers.Dense(16,activation=\"relu\"),\n",
        "    layers.Dense(1,activation=\"sigmoid\")\n",
        "  ])\n",
        "model.compile(optimizer=\"rmsprop\",\n",
        "              loss=\"binary_crossentropy\",\n",
        "              metrics=[\"accuracy\"])\n",
        "history_original =model.fit(train_data,train_labels,\n",
        "                            epochs=20,batch_size=512,validation_split=0.4)"
      ]
    },
    {
      "cell_type": "markdown",
      "source": [
        "작은 용량의 모델"
      ],
      "metadata": {
        "id": "q4L0-_oiNaFL"
      }
    },
    {
      "cell_type": "code",
      "source": [
        "model = keras.Sequential([\n",
        "    layers.Dense(4,activation=\"relu\"),\n",
        "    layers.Dense(4,activation=\"relu\"),\n",
        "    layers.Dense(1,activation=\"sigmoid\")])\n",
        "model.compile(optimizer=\"rmsprop\",\n",
        "              loss=\"binary_crossentropy\",\n",
        "              metrics=[\"accuracy\"])\n",
        "history_smaller_model =model.fit(\n",
        "    train_data, train_labels,\n",
        "    epochs=20,batch_size=512,validation_split=0.4)"
      ],
      "metadata": {
        "colab": {
          "base_uri": "https://localhost:8080/"
        },
        "id": "Dh7ptuDxJ7x9",
        "outputId": "aa5d6ed9-6280-4326-a634-8bb22d95123a"
      },
      "execution_count": 2,
      "outputs": [
        {
          "output_type": "stream",
          "name": "stdout",
          "text": [
            "Epoch 1/20\n",
            "30/30 [==============================] - 2s 63ms/step - loss: 0.6524 - accuracy: 0.6125 - val_loss: 0.6158 - val_accuracy: 0.7057\n",
            "Epoch 2/20\n",
            "30/30 [==============================] - 1s 31ms/step - loss: 0.5854 - accuracy: 0.7355 - val_loss: 0.5703 - val_accuracy: 0.7683\n",
            "Epoch 3/20\n",
            "30/30 [==============================] - 1s 29ms/step - loss: 0.5395 - accuracy: 0.7975 - val_loss: 0.5345 - val_accuracy: 0.8081\n",
            "Epoch 4/20\n",
            "30/30 [==============================] - 1s 33ms/step - loss: 0.4993 - accuracy: 0.8412 - val_loss: 0.5053 - val_accuracy: 0.8179\n",
            "Epoch 5/20\n",
            "30/30 [==============================] - 1s 41ms/step - loss: 0.4628 - accuracy: 0.8723 - val_loss: 0.4836 - val_accuracy: 0.8691\n",
            "Epoch 6/20\n",
            "30/30 [==============================] - 2s 54ms/step - loss: 0.4347 - accuracy: 0.8965 - val_loss: 0.4686 - val_accuracy: 0.8681\n",
            "Epoch 7/20\n",
            "30/30 [==============================] - 2s 55ms/step - loss: 0.4118 - accuracy: 0.9121 - val_loss: 0.4578 - val_accuracy: 0.8799\n",
            "Epoch 8/20\n",
            "30/30 [==============================] - 1s 32ms/step - loss: 0.3926 - accuracy: 0.9252 - val_loss: 0.4515 - val_accuracy: 0.8728\n",
            "Epoch 9/20\n",
            "30/30 [==============================] - 1s 32ms/step - loss: 0.3745 - accuracy: 0.9360 - val_loss: 0.4452 - val_accuracy: 0.8772\n",
            "Epoch 10/20\n",
            "30/30 [==============================] - 1s 33ms/step - loss: 0.3593 - accuracy: 0.9435 - val_loss: 0.4446 - val_accuracy: 0.8719\n",
            "Epoch 11/20\n",
            "30/30 [==============================] - 1s 33ms/step - loss: 0.3444 - accuracy: 0.9514 - val_loss: 0.4412 - val_accuracy: 0.8748\n",
            "Epoch 12/20\n",
            "30/30 [==============================] - 1s 33ms/step - loss: 0.3319 - accuracy: 0.9573 - val_loss: 0.4422 - val_accuracy: 0.8734\n",
            "Epoch 13/20\n",
            "30/30 [==============================] - 1s 33ms/step - loss: 0.3199 - accuracy: 0.9620 - val_loss: 0.4377 - val_accuracy: 0.8750\n",
            "Epoch 14/20\n",
            "30/30 [==============================] - 1s 32ms/step - loss: 0.3088 - accuracy: 0.9669 - val_loss: 0.4526 - val_accuracy: 0.8682\n",
            "Epoch 15/20\n",
            "30/30 [==============================] - 1s 32ms/step - loss: 0.2978 - accuracy: 0.9707 - val_loss: 0.4688 - val_accuracy: 0.8619\n",
            "Epoch 16/20\n",
            "30/30 [==============================] - 1s 30ms/step - loss: 0.2873 - accuracy: 0.9743 - val_loss: 0.4701 - val_accuracy: 0.8629\n",
            "Epoch 17/20\n",
            "30/30 [==============================] - 1s 30ms/step - loss: 0.2779 - accuracy: 0.9771 - val_loss: 0.4556 - val_accuracy: 0.8705\n",
            "Epoch 18/20\n",
            "30/30 [==============================] - 1s 34ms/step - loss: 0.2692 - accuracy: 0.9785 - val_loss: 0.4486 - val_accuracy: 0.8723\n",
            "Epoch 19/20\n",
            "30/30 [==============================] - 2s 52ms/step - loss: 0.2610 - accuracy: 0.9797 - val_loss: 0.4440 - val_accuracy: 0.8741\n",
            "Epoch 20/20\n",
            "30/30 [==============================] - 2s 51ms/step - loss: 0.2528 - accuracy: 0.9821 - val_loss: 0.4837 - val_accuracy: 0.8635\n"
          ]
        }
      ]
    },
    {
      "cell_type": "markdown",
      "source": [
        "큰 용량의 모델"
      ],
      "metadata": {
        "id": "5hmLL2-YNcAb"
      }
    },
    {
      "cell_type": "code",
      "source": [
        "model = keras.Sequential([\n",
        "    layers.Dense(512,activation=\"relu\"),\n",
        "    layers.Dense(512,activation=\"relu\"),\n",
        "    layers.Dense(1,activation=\"sigmoid\")])\n",
        "model.compile(optimizer=\"rmsprop\",\n",
        "              loss=\"binary_crossentropy\",\n",
        "              metrics=[\"accuracy\"])\n",
        "history_larger_model =model.fit(\n",
        "    train_data, train_labels,\n",
        "    epochs=20,batch_size=512,validation_split=0.4)"
      ],
      "metadata": {
        "colab": {
          "base_uri": "https://localhost:8080/"
        },
        "id": "k6bmIgxgKIRc",
        "outputId": "90fd24ef-1764-4414-9cd7-824668cf781f"
      },
      "execution_count": 3,
      "outputs": [
        {
          "output_type": "stream",
          "name": "stdout",
          "text": [
            "Epoch 1/20\n",
            "30/30 [==============================] - 11s 350ms/step - loss: 0.5607 - accuracy: 0.7237 - val_loss: 0.5376 - val_accuracy: 0.7463\n",
            "Epoch 2/20\n",
            "30/30 [==============================] - 10s 333ms/step - loss: 0.3165 - accuracy: 0.8664 - val_loss: 0.2820 - val_accuracy: 0.8841\n",
            "Epoch 3/20\n",
            "30/30 [==============================] - 14s 489ms/step - loss: 0.2441 - accuracy: 0.9039 - val_loss: 0.2704 - val_accuracy: 0.8894\n",
            "Epoch 4/20\n",
            "30/30 [==============================] - 11s 378ms/step - loss: 0.1924 - accuracy: 0.9257 - val_loss: 0.2872 - val_accuracy: 0.8858\n",
            "Epoch 5/20\n",
            "30/30 [==============================] - 12s 403ms/step - loss: 0.1353 - accuracy: 0.9487 - val_loss: 0.3632 - val_accuracy: 0.8732\n",
            "Epoch 6/20\n",
            "30/30 [==============================] - 9s 316ms/step - loss: 0.1158 - accuracy: 0.9637 - val_loss: 0.3222 - val_accuracy: 0.8852\n",
            "Epoch 7/20\n",
            "30/30 [==============================] - 11s 377ms/step - loss: 0.0817 - accuracy: 0.9741 - val_loss: 0.3584 - val_accuracy: 0.8853\n",
            "Epoch 8/20\n",
            "30/30 [==============================] - 12s 388ms/step - loss: 0.0870 - accuracy: 0.9754 - val_loss: 0.3639 - val_accuracy: 0.8838\n",
            "Epoch 9/20\n",
            "30/30 [==============================] - 12s 407ms/step - loss: 0.0568 - accuracy: 0.9850 - val_loss: 0.3386 - val_accuracy: 0.8757\n",
            "Epoch 10/20\n",
            "30/30 [==============================] - 9s 316ms/step - loss: 0.0135 - accuracy: 0.9988 - val_loss: 0.4503 - val_accuracy: 0.8828\n",
            "Epoch 11/20\n",
            "30/30 [==============================] - 11s 352ms/step - loss: 0.0708 - accuracy: 0.9839 - val_loss: 0.3543 - val_accuracy: 0.8832\n",
            "Epoch 12/20\n",
            "30/30 [==============================] - 11s 378ms/step - loss: 0.0073 - accuracy: 0.9999 - val_loss: 0.4689 - val_accuracy: 0.8845\n",
            "Epoch 13/20\n",
            "30/30 [==============================] - 12s 406ms/step - loss: 0.0027 - accuracy: 0.9999 - val_loss: 0.5378 - val_accuracy: 0.8821\n",
            "Epoch 14/20\n",
            "30/30 [==============================] - 9s 317ms/step - loss: 0.1050 - accuracy: 0.9809 - val_loss: 0.4188 - val_accuracy: 0.8816\n",
            "Epoch 15/20\n",
            "30/30 [==============================] - 11s 378ms/step - loss: 0.0034 - accuracy: 1.0000 - val_loss: 0.5010 - val_accuracy: 0.8816\n",
            "Epoch 16/20\n",
            "30/30 [==============================] - 11s 387ms/step - loss: 0.0013 - accuracy: 1.0000 - val_loss: 0.5798 - val_accuracy: 0.8822\n",
            "Epoch 17/20\n",
            "30/30 [==============================] - 10s 343ms/step - loss: 7.5129e-04 - accuracy: 1.0000 - val_loss: 0.6299 - val_accuracy: 0.8823\n",
            "Epoch 18/20\n",
            "30/30 [==============================] - 10s 336ms/step - loss: 4.9745e-04 - accuracy: 1.0000 - val_loss: 0.6788 - val_accuracy: 0.8817\n",
            "Epoch 19/20\n",
            "30/30 [==============================] - 12s 389ms/step - loss: 3.4434e-04 - accuracy: 1.0000 - val_loss: 0.6954 - val_accuracy: 0.8832\n",
            "Epoch 20/20\n",
            "30/30 [==============================] - 13s 431ms/step - loss: 2.5290e-04 - accuracy: 1.0000 - val_loss: 0.7190 - val_accuracy: 0.8831\n"
          ]
        }
      ]
    },
    {
      "cell_type": "markdown",
      "source": [
        "모델에 L2 가중치 추가하기"
      ],
      "metadata": {
        "id": "vGvMVVV1Ndum"
      }
    },
    {
      "cell_type": "code",
      "source": [
        "from tensorflow.keras import regularizers\n",
        "model = keras.Sequential([\n",
        "    layers.Dense(16,\n",
        "                 kernel_regularizer=regularizers.l2(0.002),\n",
        "                 activation=\"relu\"),\n",
        "    layers.Dense(16,\n",
        "                 kernel_regularizer=regularizers.l2(0.002),activation=\"relu\"),\n",
        "    layers.Dense(1,activation=\"sigmoid\")])\n",
        "model.compile(optimizer=\"rmsprop\",\n",
        "              loss=\"binary_crossentropy\",metrics=[\"accuracy\"])\n",
        "history_l2_reg =model.fit(\n",
        "    train_data, train_labels,\n",
        "    epochs=20,batch_size=512,validation_split=0.4)"
      ],
      "metadata": {
        "colab": {
          "base_uri": "https://localhost:8080/"
        },
        "id": "z5QI3tMzKY_8",
        "outputId": "a4d70681-9369-4d8b-c194-e40853f81bb5"
      },
      "execution_count": 4,
      "outputs": [
        {
          "output_type": "stream",
          "name": "stdout",
          "text": [
            "Epoch 1/20\n",
            "30/30 [==============================] - 2s 62ms/step - loss: 0.6154 - accuracy: 0.7834 - val_loss: 0.4903 - val_accuracy: 0.8551\n",
            "Epoch 2/20\n",
            "30/30 [==============================] - 1s 33ms/step - loss: 0.4143 - accuracy: 0.8898 - val_loss: 0.4049 - val_accuracy: 0.8748\n",
            "Epoch 3/20\n",
            "30/30 [==============================] - 1s 48ms/step - loss: 0.3370 - accuracy: 0.9103 - val_loss: 0.3625 - val_accuracy: 0.8898\n",
            "Epoch 4/20\n",
            "30/30 [==============================] - 2s 55ms/step - loss: 0.2946 - accuracy: 0.9249 - val_loss: 0.3706 - val_accuracy: 0.8764\n",
            "Epoch 5/20\n",
            "30/30 [==============================] - 2s 55ms/step - loss: 0.2706 - accuracy: 0.9343 - val_loss: 0.3506 - val_accuracy: 0.8897\n",
            "Epoch 6/20\n",
            "30/30 [==============================] - 1s 35ms/step - loss: 0.2565 - accuracy: 0.9375 - val_loss: 0.3598 - val_accuracy: 0.8845\n",
            "Epoch 7/20\n",
            "30/30 [==============================] - 1s 33ms/step - loss: 0.2390 - accuracy: 0.9467 - val_loss: 0.3685 - val_accuracy: 0.8813\n",
            "Epoch 8/20\n",
            "30/30 [==============================] - 1s 33ms/step - loss: 0.2345 - accuracy: 0.9484 - val_loss: 0.3633 - val_accuracy: 0.8824\n",
            "Epoch 9/20\n",
            "30/30 [==============================] - 1s 34ms/step - loss: 0.2258 - accuracy: 0.9525 - val_loss: 0.3713 - val_accuracy: 0.8817\n",
            "Epoch 10/20\n",
            "30/30 [==============================] - 1s 35ms/step - loss: 0.2187 - accuracy: 0.9541 - val_loss: 0.3947 - val_accuracy: 0.8745\n",
            "Epoch 11/20\n",
            "30/30 [==============================] - 1s 32ms/step - loss: 0.2153 - accuracy: 0.9543 - val_loss: 0.3763 - val_accuracy: 0.8816\n",
            "Epoch 12/20\n",
            "30/30 [==============================] - 1s 33ms/step - loss: 0.2074 - accuracy: 0.9587 - val_loss: 0.4039 - val_accuracy: 0.8741\n",
            "Epoch 13/20\n",
            "30/30 [==============================] - 1s 33ms/step - loss: 0.2032 - accuracy: 0.9617 - val_loss: 0.3853 - val_accuracy: 0.8788\n",
            "Epoch 14/20\n",
            "30/30 [==============================] - 1s 31ms/step - loss: 0.2021 - accuracy: 0.9593 - val_loss: 0.4495 - val_accuracy: 0.8633\n",
            "Epoch 15/20\n",
            "30/30 [==============================] - 1s 35ms/step - loss: 0.1968 - accuracy: 0.9623 - val_loss: 0.4589 - val_accuracy: 0.8596\n",
            "Epoch 16/20\n",
            "30/30 [==============================] - 2s 52ms/step - loss: 0.1919 - accuracy: 0.9662 - val_loss: 0.4298 - val_accuracy: 0.8703\n",
            "Epoch 17/20\n",
            "30/30 [==============================] - 2s 57ms/step - loss: 0.1939 - accuracy: 0.9639 - val_loss: 0.4024 - val_accuracy: 0.8770\n",
            "Epoch 18/20\n",
            "30/30 [==============================] - 1s 45ms/step - loss: 0.1850 - accuracy: 0.9699 - val_loss: 0.4422 - val_accuracy: 0.8666\n",
            "Epoch 19/20\n",
            "30/30 [==============================] - 1s 32ms/step - loss: 0.1890 - accuracy: 0.9647 - val_loss: 0.4105 - val_accuracy: 0.8752\n",
            "Epoch 20/20\n",
            "30/30 [==============================] - 1s 34ms/step - loss: 0.1852 - accuracy: 0.9674 - val_loss: 0.4240 - val_accuracy: 0.8734\n"
          ]
        }
      ]
    },
    {
      "cell_type": "markdown",
      "source": [
        "케라스에서 사용할 수 있는 가중치 규제"
      ],
      "metadata": {
        "id": "jahfLe5VNhIz"
      }
    },
    {
      "cell_type": "code",
      "source": [
        "from tensorflow.keras import regularizers\n",
        "\n",
        "regularizers.l1(0.001)\n",
        "regularizers.l1_l2(l1=0.001,l2=0.001)"
      ],
      "metadata": {
        "colab": {
          "base_uri": "https://localhost:8080/"
        },
        "id": "IBtu5MztKqeR",
        "outputId": "231ed531-60bd-4e9e-946c-7802117f6f50"
      },
      "execution_count": 5,
      "outputs": [
        {
          "output_type": "execute_result",
          "data": {
            "text/plain": [
              "<keras.src.regularizers.L1L2 at 0x785ae5f470a0>"
            ]
          },
          "metadata": {},
          "execution_count": 5
        }
      ]
    },
    {
      "cell_type": "markdown",
      "source": [
        "IMDB 모델에 드롭아웃 추가하기"
      ],
      "metadata": {
        "id": "CWSQirIlNkaL"
      }
    },
    {
      "cell_type": "code",
      "source": [
        "model = keras.Sequential([\n",
        "    layers.Dense(16,activation=\"relu\"),\n",
        "    layers.Dropout(0.5),\n",
        "    layers.Dense(16,activation=\"relu\"),\n",
        "    layers.Dropout(0.5),\n",
        "    layers.Dense(1,activation=\"sigmoid\")])\n",
        "model.compile(optimizer=\"rmsprop\",\n",
        "              loss=\"binary_crossentropy\",\n",
        "              metrics=[\"accuracy\"])\n",
        "history_dropout =model.fit(\n",
        "    train_data, train_labels,\n",
        "    epochs=20,batch_size=512,validation_split=0.4)"
      ],
      "metadata": {
        "colab": {
          "base_uri": "https://localhost:8080/"
        },
        "id": "xXkMkrBIK4cQ",
        "outputId": "98f4f14a-d436-444c-828d-3f8140489d7d"
      },
      "execution_count": 6,
      "outputs": [
        {
          "output_type": "stream",
          "name": "stdout",
          "text": [
            "Epoch 1/20\n",
            "30/30 [==============================] - 3s 63ms/step - loss: 0.6442 - accuracy: 0.6253 - val_loss: 0.5535 - val_accuracy: 0.8455\n",
            "Epoch 2/20\n",
            "30/30 [==============================] - 1s 32ms/step - loss: 0.5273 - accuracy: 0.7573 - val_loss: 0.4449 - val_accuracy: 0.8692\n",
            "Epoch 3/20\n",
            "30/30 [==============================] - 1s 34ms/step - loss: 0.4397 - accuracy: 0.8157 - val_loss: 0.3552 - val_accuracy: 0.8789\n",
            "Epoch 4/20\n",
            "30/30 [==============================] - 1s 33ms/step - loss: 0.3817 - accuracy: 0.8503 - val_loss: 0.3193 - val_accuracy: 0.8846\n",
            "Epoch 5/20\n",
            "30/30 [==============================] - 1s 33ms/step - loss: 0.3386 - accuracy: 0.8749 - val_loss: 0.3040 - val_accuracy: 0.8801\n",
            "Epoch 6/20\n",
            "30/30 [==============================] - 2s 56ms/step - loss: 0.2950 - accuracy: 0.8925 - val_loss: 0.2796 - val_accuracy: 0.8873\n",
            "Epoch 7/20\n",
            "30/30 [==============================] - 2s 56ms/step - loss: 0.2622 - accuracy: 0.9069 - val_loss: 0.2728 - val_accuracy: 0.8910\n",
            "Epoch 8/20\n",
            "30/30 [==============================] - 1s 43ms/step - loss: 0.2363 - accuracy: 0.9211 - val_loss: 0.2764 - val_accuracy: 0.8895\n",
            "Epoch 9/20\n",
            "30/30 [==============================] - 1s 33ms/step - loss: 0.2088 - accuracy: 0.9295 - val_loss: 0.2905 - val_accuracy: 0.8883\n",
            "Epoch 10/20\n",
            "30/30 [==============================] - 1s 32ms/step - loss: 0.1912 - accuracy: 0.9344 - val_loss: 0.3004 - val_accuracy: 0.8886\n",
            "Epoch 11/20\n",
            "30/30 [==============================] - 1s 32ms/step - loss: 0.1734 - accuracy: 0.9395 - val_loss: 0.3085 - val_accuracy: 0.8888\n",
            "Epoch 12/20\n",
            "30/30 [==============================] - 1s 32ms/step - loss: 0.1573 - accuracy: 0.9455 - val_loss: 0.3362 - val_accuracy: 0.8885\n",
            "Epoch 13/20\n",
            "30/30 [==============================] - 1s 34ms/step - loss: 0.1452 - accuracy: 0.9523 - val_loss: 0.3573 - val_accuracy: 0.8856\n",
            "Epoch 14/20\n",
            "30/30 [==============================] - 1s 34ms/step - loss: 0.1312 - accuracy: 0.9552 - val_loss: 0.3857 - val_accuracy: 0.8863\n",
            "Epoch 15/20\n",
            "30/30 [==============================] - 1s 33ms/step - loss: 0.1201 - accuracy: 0.9573 - val_loss: 0.4016 - val_accuracy: 0.8792\n",
            "Epoch 16/20\n",
            "30/30 [==============================] - 1s 36ms/step - loss: 0.1185 - accuracy: 0.9593 - val_loss: 0.4212 - val_accuracy: 0.8850\n",
            "Epoch 17/20\n",
            "30/30 [==============================] - 1s 35ms/step - loss: 0.1018 - accuracy: 0.9625 - val_loss: 0.4356 - val_accuracy: 0.8847\n",
            "Epoch 18/20\n",
            "30/30 [==============================] - 1s 35ms/step - loss: 0.1026 - accuracy: 0.9647 - val_loss: 0.4579 - val_accuracy: 0.8852\n",
            "Epoch 19/20\n",
            "30/30 [==============================] - 2s 59ms/step - loss: 0.0961 - accuracy: 0.9662 - val_loss: 0.4635 - val_accuracy: 0.8842\n",
            "Epoch 20/20\n",
            "30/30 [==============================] - 2s 59ms/step - loss: 0.0937 - accuracy: 0.9639 - val_loss: 0.5188 - val_accuracy: 0.8825\n"
          ]
        }
      ]
    },
    {
      "cell_type": "markdown",
      "source": [
        "결과 그래프 그리기"
      ],
      "metadata": {
        "id": "_zYIV5grNnMm"
      }
    },
    {
      "cell_type": "code",
      "source": [
        "import matplotlib.pyplot as plt\n",
        "\n",
        "epochs = range(1, 21)\n",
        "\n",
        "plt.plot(epochs, history_original.history['val_loss'], 'b-', label='Validation loss (Original Model)')\n",
        "plt.plot(epochs, history_dropout.history['val_loss'], 'r--', label='Validation loss (Dropout Model)')\n",
        "plt.title('Validation Loss Comparison: Original vs Dropout Model')\n",
        "plt.xlabel('Epochs')\n",
        "plt.ylabel('Loss')\n",
        "plt.legend()\n",
        "\n",
        "plt.show()"
      ],
      "metadata": {
        "colab": {
          "base_uri": "https://localhost:8080/",
          "height": 472
        },
        "id": "hU2kdKqlMj86",
        "outputId": "4e0cf038-c727-47ec-dafc-88f8007275e9"
      },
      "execution_count": 7,
      "outputs": [
        {
          "output_type": "display_data",
          "data": {
            "text/plain": [
              "<Figure size 640x480 with 1 Axes>"
            ],
            "image/png": "[encoded data removed]"
          },
          "metadata": {}
        }
      ]
    }
  ]
}