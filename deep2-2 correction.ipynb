{
  "nbformat": 4,
  "nbformat_minor": 0,
  "metadata": {
    "colab": {
      "provenance": [],
      "authorship_tag": "ABX9TyP8EuHur3dKRyn7HuyC+QSo",
      "include_colab_link": true
    },
    "kernelspec": {
      "name": "python3",
      "display_name": "Python 3"
    },
    "language_info": {
      "name": "python"
    }
  },
  "cells": [
    {
      "cell_type": "markdown",
      "metadata": {
        "id": "view-in-github",
        "colab_type": "text"
      },
      "source": [
        "<a href=\"https://colab.research.google.com/github/simsia99/keras_deeplearning/blob/main/deep2-2%20correction.ipynb\" target=\"_parent\"><img src=\"https://colab.research.google.com/assets/colab-badge.svg\" alt=\"Open In Colab\"/></a>"
      ]
    },
    {
      "cell_type": "code",
      "execution_count": 1,
      "metadata": {
        "id": "Jh8OTEcfSmDL",
        "colab": {
          "base_uri": "https://localhost:8080/"
        },
        "outputId": "86a8f8bf-ff1a-4aff-c606-0ad24484f41e"
      },
      "outputs": [
        {
          "output_type": "stream",
          "name": "stdout",
          "text": [
            "Downloading data from https://storage.googleapis.com/tensorflow/tf-keras-datasets/mnist.npz\n",
            "11490434/11490434 [==============================] - 0s 0us/step\n"
          ]
        }
      ],
      "source": [
        "from tensorflow.keras.datasets import mnist\n",
        "(train_images, train_labels), (test_images, test_labels)=mnist.load_data()"
      ]
    },
    {
      "cell_type": "code",
      "source": [
        "train_images.shape"
      ],
      "metadata": {
        "colab": {
          "base_uri": "https://localhost:8080/"
        },
        "id": "tS60T_SDTSLV",
        "outputId": "86802f15-6b6d-45bc-96d9-0651a26b27d2"
      },
      "execution_count": 2,
      "outputs": [
        {
          "output_type": "execute_result",
          "data": {
            "text/plain": [
              "(60000, 28, 28)"
            ]
          },
          "metadata": {},
          "execution_count": 2
        }
      ]
    },
    {
      "cell_type": "code",
      "source": [
        "len(train_labels)"
      ],
      "metadata": {
        "colab": {
          "base_uri": "https://localhost:8080/"
        },
        "id": "iEsBGhFjTane",
        "outputId": "8b2d1e4d-a6fa-427d-ec38-804e6eae58ce"
      },
      "execution_count": 3,
      "outputs": [
        {
          "output_type": "execute_result",
          "data": {
            "text/plain": [
              "60000"
            ]
          },
          "metadata": {},
          "execution_count": 3
        }
      ]
    },
    {
      "cell_type": "code",
      "source": [
        "train_labels"
      ],
      "metadata": {
        "colab": {
          "base_uri": "https://localhost:8080/"
        },
        "id": "Cush0YzqTgEs",
        "outputId": "ad751154-4127-47f9-c300-c5485a6b89dd"
      },
      "execution_count": 4,
      "outputs": [
        {
          "output_type": "execute_result",
          "data": {
            "text/plain": [
              "array([5, 0, 4, ..., 5, 6, 8], dtype=uint8)"
            ]
          },
          "metadata": {},
          "execution_count": 4
        }
      ]
    },
    {
      "cell_type": "code",
      "source": [
        "test_images.shape"
      ],
      "metadata": {
        "colab": {
          "base_uri": "https://localhost:8080/"
        },
        "id": "WSSNQJwoTjqN",
        "outputId": "4e6d6f98-0cc1-4a11-f4bf-54cc4c622035"
      },
      "execution_count": 5,
      "outputs": [
        {
          "output_type": "execute_result",
          "data": {
            "text/plain": [
              "(10000, 28, 28)"
            ]
          },
          "metadata": {},
          "execution_count": 5
        }
      ]
    },
    {
      "cell_type": "code",
      "source": [
        "len(test_labels)"
      ],
      "metadata": {
        "colab": {
          "base_uri": "https://localhost:8080/"
        },
        "id": "iZtTexgsTmZy",
        "outputId": "d7b32a43-aee5-478a-eb4d-596aabb0105a"
      },
      "execution_count": 6,
      "outputs": [
        {
          "output_type": "execute_result",
          "data": {
            "text/plain": [
              "10000"
            ]
          },
          "metadata": {},
          "execution_count": 6
        }
      ]
    },
    {
      "cell_type": "code",
      "source": [
        "test_labels"
      ],
      "metadata": {
        "colab": {
          "base_uri": "https://localhost:8080/"
        },
        "id": "NkRjojlJTqyi",
        "outputId": "40e18a41-d228-4bed-bdd8-975ba70c4f38"
      },
      "execution_count": 7,
      "outputs": [
        {
          "output_type": "execute_result",
          "data": {
            "text/plain": [
              "array([7, 2, 1, ..., 4, 5, 6], dtype=uint8)"
            ]
          },
          "metadata": {},
          "execution_count": 7
        }
      ]
    },
    {
      "cell_type": "code",
      "source": [
        "from tensorflow import keras\n",
        "from tensorflow.keras import layers\n",
        "\n",
        "model=keras.Sequential([\n",
        "    layers.Dense(512, activation=\"relu\"),\n",
        "    layers.Dense(10, activation=\"softmax\")\n",
        "])"
      ],
      "metadata": {
        "id": "_HCpB9o4T1UU"
      },
      "execution_count": 8,
      "outputs": []
    },
    {
      "cell_type": "code",
      "source": [
        "model.compile(optimizer=\"rmsprop\",\n",
        "             loss=\"sparse_categorical_crossentropy\",\n",
        "             metrics=[\"accuracy\"])"
      ],
      "metadata": {
        "id": "4qjoXGx8UUOb"
      },
      "execution_count": 9,
      "outputs": []
    },
    {
      "cell_type": "code",
      "source": [
        "train_images=train_images.reshape((60000,28*28))\n",
        "train_images=train_images.astype(\"float32\")/255\n",
        "test_images=test_images.reshape((10000,28*28))\n",
        "test_images=test_images.astype(\"float32\")/255"
      ],
      "metadata": {
        "id": "d63Hdd16Ud4n"
      },
      "execution_count": 10,
      "outputs": []
    },
    {
      "cell_type": "code",
      "source": [
        "model.fit(train_images, train_labels, epochs=5, batch_size=128)"
      ],
      "metadata": {
        "colab": {
          "base_uri": "https://localhost:8080/"
        },
        "id": "boF9dfyqVVK4",
        "outputId": "e192edff-627b-4734-85ea-2a54e21ab770"
      },
      "execution_count": 11,
      "outputs": [
        {
          "output_type": "stream",
          "name": "stdout",
          "text": [
            "Epoch 1/5\n",
            "469/469 [==============================] - 14s 26ms/step - loss: 0.2629 - accuracy: 0.9237\n",
            "Epoch 2/5\n",
            "469/469 [==============================] - 5s 12ms/step - loss: 0.1063 - accuracy: 0.9689\n",
            "Epoch 3/5\n",
            "469/469 [==============================] - 6s 12ms/step - loss: 0.0700 - accuracy: 0.9795\n",
            "Epoch 4/5\n",
            "469/469 [==============================] - 5s 10ms/step - loss: 0.0502 - accuracy: 0.9847\n",
            "Epoch 5/5\n",
            "469/469 [==============================] - 5s 11ms/step - loss: 0.0378 - accuracy: 0.9887\n"
          ]
        },
        {
          "output_type": "execute_result",
          "data": {
            "text/plain": [
              "<keras.callbacks.History at 0x7f4fff373df0>"
            ]
          },
          "metadata": {},
          "execution_count": 11
        }
      ]
    },
    {
      "cell_type": "code",
      "source": [
        "test_digits=test_images[0:10]\n",
        "predictions=model.predict(test_digits)\n",
        "predictions[0]"
      ],
      "metadata": {
        "colab": {
          "base_uri": "https://localhost:8080/"
        },
        "id": "OzZVqzH92BpJ",
        "outputId": "a20c661b-eb6a-48c9-e183-f8fdd31c9a6f"
      },
      "execution_count": 12,
      "outputs": [
        {
          "output_type": "stream",
          "name": "stdout",
          "text": [
            "1/1 [==============================] - 0s 83ms/step\n"
          ]
        },
        {
          "output_type": "execute_result",
          "data": {
            "text/plain": [
              "array([1.02429595e-07, 2.96403826e-08, 8.86453472e-06, 1.00765588e-04,\n",
              "       1.47104134e-11, 9.19439547e-09, 2.64690752e-11, 9.99884903e-01,\n",
              "       1.38732688e-07, 5.18652996e-06], dtype=float32)"
            ]
          },
          "metadata": {},
          "execution_count": 12
        }
      ]
    },
    {
      "cell_type": "code",
      "source": [
        "predictions[0].argmax()\n",
        "predictions[0][7]\n",
        "test_labels[0]"
      ],
      "metadata": {
        "colab": {
          "base_uri": "https://localhost:8080/"
        },
        "id": "-dFrx-d92d7_",
        "outputId": "0d6ac347-f933-49c0-c35f-1912296243c1"
      },
      "execution_count": 13,
      "outputs": [
        {
          "output_type": "execute_result",
          "data": {
            "text/plain": [
              "7"
            ]
          },
          "metadata": {},
          "execution_count": 13
        }
      ]
    },
    {
      "cell_type": "code",
      "source": [
        "test_loss, test_acc = model.evaluate(test_images, test_labels)\n",
        "print(f\"테스트 정확도: {test_acc}\")"
      ],
      "metadata": {
        "colab": {
          "base_uri": "https://localhost:8080/"
        },
        "id": "77sCiQmi2wtj",
        "outputId": "5ebee9b9-3b1b-4e32-83a9-6bb246fbc749"
      },
      "execution_count": 14,
      "outputs": [
        {
          "output_type": "stream",
          "name": "stdout",
          "text": [
            "313/313 [==============================] - 1s 3ms/step - loss: 0.0671 - accuracy: 0.9792\n",
            "테스트 정확도: 0.979200005531311\n"
          ]
        }
      ]
    },
    {
      "cell_type": "code",
      "source": [
        "import numpy as np\n",
        "x=np.array(12)\n",
        "x"
      ],
      "metadata": {
        "colab": {
          "base_uri": "https://localhost:8080/"
        },
        "id": "E7GHdhvQ3Ebv",
        "outputId": "fbe6c29a-ea97-47fc-cbf3-c62e7e699138"
      },
      "execution_count": 15,
      "outputs": [
        {
          "output_type": "execute_result",
          "data": {
            "text/plain": [
              "array(12)"
            ]
          },
          "metadata": {},
          "execution_count": 15
        }
      ]
    },
    {
      "cell_type": "code",
      "source": [
        "x.ndim"
      ],
      "metadata": {
        "colab": {
          "base_uri": "https://localhost:8080/"
        },
        "id": "UWNTWHXr3Ko1",
        "outputId": "a4610f53-3aab-4280-80c4-677e1c1849a4"
      },
      "execution_count": 16,
      "outputs": [
        {
          "output_type": "execute_result",
          "data": {
            "text/plain": [
              "0"
            ]
          },
          "metadata": {},
          "execution_count": 16
        }
      ]
    },
    {
      "cell_type": "code",
      "source": [
        "x=np.array([12,3,6,14,7])\n",
        "x"
      ],
      "metadata": {
        "colab": {
          "base_uri": "https://localhost:8080/"
        },
        "id": "ZpXH0ato3Ncv",
        "outputId": "241fd088-f423-42b8-dc24-fbbc1a4310fd"
      },
      "execution_count": 17,
      "outputs": [
        {
          "output_type": "execute_result",
          "data": {
            "text/plain": [
              "array([12,  3,  6, 14,  7])"
            ]
          },
          "metadata": {},
          "execution_count": 17
        }
      ]
    },
    {
      "cell_type": "code",
      "source": [
        "x.ndim"
      ],
      "metadata": {
        "colab": {
          "base_uri": "https://localhost:8080/"
        },
        "id": "AbGuC8Nx3SLc",
        "outputId": "6633d1f8-f55d-42e1-92ae-6bfcdfe8c284"
      },
      "execution_count": 18,
      "outputs": [
        {
          "output_type": "execute_result",
          "data": {
            "text/plain": [
              "1"
            ]
          },
          "metadata": {},
          "execution_count": 18
        }
      ]
    },
    {
      "cell_type": "code",
      "source": [
        "x=np.array([[5,78,2,34,0],\n",
        "           [6,79,3,35,1],\n",
        "           [7,80,4,36,2]])\n",
        "x.ndim"
      ],
      "metadata": {
        "colab": {
          "base_uri": "https://localhost:8080/"
        },
        "id": "_BQxCYff3U61",
        "outputId": "680688cc-60d3-4fcf-edb2-98e49a53e9f6"
      },
      "execution_count": 19,
      "outputs": [
        {
          "output_type": "execute_result",
          "data": {
            "text/plain": [
              "2"
            ]
          },
          "metadata": {},
          "execution_count": 19
        }
      ]
    },
    {
      "cell_type": "markdown",
      "source": [
        "**2.2.4   랭크-3 텐서와 더 높은 랭크의 텐서**"
      ],
      "metadata": {
        "id": "gx7KT-8k_Xlo"
      }
    },
    {
      "cell_type": "code",
      "source": [
        "x=np.array([[[5,78,2,34,0],\n",
        "             [6,79,3,35,1],\n",
        "             [7,80,4,36,2]],\n",
        "            [[5,78,2,34,0],\n",
        "            [6,79,3,35,1],\n",
        "            [7,80,4,36,2]],\n",
        "            [[5,78,2,34,0],\n",
        "             [6,78,2,34,1],\n",
        "             [7,80,4,36,2]]])\n",
        "x.ndim"
      ],
      "metadata": {
        "colab": {
          "base_uri": "https://localhost:8080/"
        },
        "id": "o8XMLU7V_cAN",
        "outputId": "b6ce6435-0417-4671-deb0-f8306ad3827b"
      },
      "execution_count": 20,
      "outputs": [
        {
          "output_type": "execute_result",
          "data": {
            "text/plain": [
              "3"
            ]
          },
          "metadata": {},
          "execution_count": 20
        }
      ]
    },
    {
      "cell_type": "markdown",
      "source": [
        "**2.2.5 핵심속성**"
      ],
      "metadata": {
        "id": "SkdNzTicVm1Y"
      }
    },
    {
      "cell_type": "code",
      "source": [
        "from tensorflow.keras.datasets import mnist\n",
        "(train_images, train_labels),(test_images, test_labels)=mnist.load_data()"
      ],
      "metadata": {
        "id": "RzRdqsvQC7JM"
      },
      "execution_count": 21,
      "outputs": []
    },
    {
      "cell_type": "code",
      "source": [
        "train_images.ndim"
      ],
      "metadata": {
        "colab": {
          "base_uri": "https://localhost:8080/"
        },
        "id": "75CPETL4DY8P",
        "outputId": "94f1738a-a882-412a-d972-90d67e491fdb"
      },
      "execution_count": 22,
      "outputs": [
        {
          "output_type": "execute_result",
          "data": {
            "text/plain": [
              "3"
            ]
          },
          "metadata": {},
          "execution_count": 22
        }
      ]
    },
    {
      "cell_type": "code",
      "source": [
        "train_images.shape"
      ],
      "metadata": {
        "colab": {
          "base_uri": "https://localhost:8080/"
        },
        "id": "FvWSASPPEDcz",
        "outputId": "008f732b-7144-4e17-d3bf-2633432057e5"
      },
      "execution_count": 23,
      "outputs": [
        {
          "output_type": "execute_result",
          "data": {
            "text/plain": [
              "(60000, 28, 28)"
            ]
          },
          "metadata": {},
          "execution_count": 23
        }
      ]
    },
    {
      "cell_type": "code",
      "source": [
        "train_images.dtype"
      ],
      "metadata": {
        "colab": {
          "base_uri": "https://localhost:8080/"
        },
        "id": "Pr9ZDw04ENMw",
        "outputId": "3e386004-c4f8-44b8-a8b9-a0910e5fb3f4"
      },
      "execution_count": 24,
      "outputs": [
        {
          "output_type": "execute_result",
          "data": {
            "text/plain": [
              "dtype('uint8')"
            ]
          },
          "metadata": {},
          "execution_count": 24
        }
      ]
    },
    {
      "cell_type": "markdown",
      "source": [
        "↑8비트 정수형 랭크-3 텐서\n",
        "28x28 크기의 정수 행렬 6만개가 있는 배열\n",
        "행렬의 각 원소는 0에서 255사이의 값\n",
        "\n",
        "↓랭크-3텐서에서 다섯번째 샘플을 맷플롯립 라이브러리를 사용한다."
      ],
      "metadata": {
        "id": "zZjFl1wWUywV"
      }
    },
    {
      "cell_type": "code",
      "source": [
        "import matplotlib.pyplot as plt\n",
        "digit = train_images[4]\n",
        "plt.imshow(digit, cmap=plt.cm.binary)\n",
        "plt.show()"
      ],
      "metadata": {
        "colab": {
          "base_uri": "https://localhost:8080/",
          "height": 430
        },
        "id": "2ccSPGF1GrD7",
        "outputId": "197d82da-e58f-43b0-ffa3-841cad3d6dd1"
      },
      "execution_count": 25,
      "outputs": [
        {
          "output_type": "display_data",
          "data": {
            "text/plain": [
              "<Figure size 640x480 with 1 Axes>"
            ],
            "image/png": "[encoded data removed]"
          },
          "metadata": {}
        }
      ]
    },
    {
      "cell_type": "code",
      "source": [
        "train_labels[4]"
      ],
      "metadata": {
        "colab": {
          "base_uri": "https://localhost:8080/"
        },
        "id": "IzefgZ57HW1t",
        "outputId": "cb86cc61-1e63-49c4-84a3-59b372bb5f74"
      },
      "execution_count": 26,
      "outputs": [
        {
          "output_type": "execute_result",
          "data": {
            "text/plain": [
              "9"
            ]
          },
          "metadata": {},
          "execution_count": 26
        }
      ]
    },
    {
      "cell_type": "markdown",
      "source": [
        "**2.2.6 넘파이로 텐서 조작하기**"
      ],
      "metadata": {
        "id": "CDOxOsNEWSeR"
      }
    },
    {
      "cell_type": "markdown",
      "source": [
        "11번째에서 101번째까지 숫자를 선택하여 (90,28,28)크기의 배열 만들기"
      ],
      "metadata": {
        "id": "9tnFNCKgWpQ3"
      }
    },
    {
      "cell_type": "code",
      "source": [
        "my_slice=train_images[10:100]\n",
        "my_slice.shape"
      ],
      "metadata": {
        "colab": {
          "base_uri": "https://localhost:8080/"
        },
        "id": "WGgSYcIaHaw0",
        "outputId": "8ff1f558-ce49-4991-c330-2f057e74f381"
      },
      "execution_count": 27,
      "outputs": [
        {
          "output_type": "execute_result",
          "data": {
            "text/plain": [
              "(90, 28, 28)"
            ]
          },
          "metadata": {},
          "execution_count": 27
        }
      ]
    },
    {
      "cell_type": "markdown",
      "source": [
        "각 배열의 축을 따라 슬랑ㅣ싱의 시작 인덱스와 마지막 인덱스를 지정"
      ],
      "metadata": {
        "id": "jJpCPRq5W2_1"
      }
    },
    {
      "cell_type": "code",
      "source": [
        "my_slice=train_images[10:100, : , :]\n",
        "my_slice.shape"
      ],
      "metadata": {
        "colab": {
          "base_uri": "https://localhost:8080/"
        },
        "id": "yqo4ujF7IFF9",
        "outputId": "c1398d5b-d8c3-4560-929c-f80dd9977035"
      },
      "execution_count": 28,
      "outputs": [
        {
          "output_type": "execute_result",
          "data": {
            "text/plain": [
              "(90, 28, 28)"
            ]
          },
          "metadata": {},
          "execution_count": 28
        }
      ]
    },
    {
      "cell_type": "code",
      "source": [
        "my_slice=train_images[10:100, 0:20, 0:28]\n",
        "my_slice.shape"
      ],
      "metadata": {
        "colab": {
          "base_uri": "https://localhost:8080/"
        },
        "id": "NFXb11w3IQ7b",
        "outputId": "f361d36d-d1e5-4fbd-bc49-8b6c3ff90fe7"
      },
      "execution_count": 29,
      "outputs": [
        {
          "output_type": "execute_result",
          "data": {
            "text/plain": [
              "(90, 20, 28)"
            ]
          },
          "metadata": {},
          "execution_count": 29
        }
      ]
    },
    {
      "cell_type": "code",
      "source": [
        "my_slice = train_images"
      ],
      "metadata": {
        "id": "h1UWUQALIeJH"
      },
      "execution_count": 30,
      "outputs": []
    },
    {
      "cell_type": "markdown",
      "source": [
        "이미지의 오른쪽 아래 14x14 픽셀을 선택"
      ],
      "metadata": {
        "id": "DdFi7gVrW-3-"
      }
    },
    {
      "cell_type": "code",
      "source": [
        "my_slice = train_images[:, 14:,14:]"
      ],
      "metadata": {
        "id": "eLKEDDgIJJYW"
      },
      "execution_count": 31,
      "outputs": []
    },
    {
      "cell_type": "markdown",
      "source": [
        "음수 인덱스 사용\n",
        "현대 축의 끝에서 상대적 위치 나타냄\n",
        "14x14 픽셀 조각을 이미지에서 잘라냄"
      ],
      "metadata": {
        "id": "_V3rh0z4XEX6"
      }
    },
    {
      "cell_type": "code",
      "source": [
        "my_slice = train_images[:, 7:-7, 7:-7]"
      ],
      "metadata": {
        "id": "yZJRQnhIJV77"
      },
      "execution_count": 32,
      "outputs": []
    },
    {
      "cell_type": "markdown",
      "source": [
        "**2.2.7 배치데이터**"
      ],
      "metadata": {
        "id": "omoDYtj1VpLb"
      }
    },
    {
      "cell_type": "code",
      "source": [
        "batch = train_images[:128]"
      ],
      "metadata": {
        "id": "i_EyM0WFVtSO"
      },
      "execution_count": 33,
      "outputs": []
    },
    {
      "cell_type": "code",
      "source": [
        "batch = train_images[128:256]"
      ],
      "metadata": {
        "id": "tAi5T7JwVyzi"
      },
      "execution_count": 34,
      "outputs": []
    },
    {
      "cell_type": "code",
      "source": [
        "n=3\n",
        "batch=train_images[128*n:128*(n+1)]"
      ],
      "metadata": {
        "id": "a3GEvkQuV3iH"
      },
      "execution_count": 35,
      "outputs": []
    }
  ]
}