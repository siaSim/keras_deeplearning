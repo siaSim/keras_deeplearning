{
  "nbformat": 4,
  "nbformat_minor": 0,
  "metadata": {
    "colab": {
      "provenance": [],
      "authorship_tag": "ABX9TyPyJw6T0i5WJa0T+5Rh+4Kx",
      "include_colab_link": true
    },
    "kernelspec": {
      "name": "python3",
      "display_name": "Python 3"
    },
    "language_info": {
      "name": "python"
    }
  },
  "cells": [
    {
      "cell_type": "markdown",
      "metadata": {
        "id": "view-in-github",
        "colab_type": "text"
      },
      "source": [
        "<a href=\"https://colab.research.google.com/github/siaSim/keras_deeplearning/blob/main/Multiclass_classification2.ipynb\" target=\"_parent\"><img src=\"https://colab.research.google.com/assets/colab-badge.svg\" alt=\"Open In Colab\"/></a>"
      ]
    },
    {
      "cell_type": "markdown",
      "source": [
        "뉴스 기사 분류 : 다중 분류 문제"
      ],
      "metadata": {
        "id": "0KDp9kaIzX_A"
      }
    },
    {
      "cell_type": "code",
      "source": [
        "import matplotlib.pyplot as plt"
      ],
      "metadata": {
        "id": "AFQmhVkS8DsC"
      },
      "execution_count": 1,
      "outputs": []
    },
    {
      "cell_type": "markdown",
      "source": [
        "4.2.1 로이터 데이터셋"
      ],
      "metadata": {
        "id": "J3EznGZHCCxL"
      }
    },
    {
      "cell_type": "code",
      "execution_count": 2,
      "metadata": {
        "colab": {
          "base_uri": "https://localhost:8080/"
        },
        "id": "lwFgCAZjy7mP",
        "outputId": "1586fa9f-77c8-4511-f3b6-9947fa703b2f"
      },
      "outputs": [
        {
          "output_type": "stream",
          "name": "stdout",
          "text": [
            "Downloading data from https://storage.googleapis.com/tensorflow/tf-keras-datasets/reuters.npz\n",
            "2110848/2110848 [==============================] - 0s 0us/step\n"
          ]
        }
      ],
      "source": [
        "from tensorflow.keras.datasets import reuters\n",
        "\n",
        "(train_data, train_labels),(test_data, test_labels)=reuters.load_data(num_words=10000)"
      ]
    },
    {
      "cell_type": "code",
      "source": [
        "len(train_data)"
      ],
      "metadata": {
        "colab": {
          "base_uri": "https://localhost:8080/"
        },
        "id": "ghRRvr78z9Ag",
        "outputId": "7d8db1ba-580c-4bc5-aaf6-99fed6bc9ab9"
      },
      "execution_count": 3,
      "outputs": [
        {
          "output_type": "execute_result",
          "data": {
            "text/plain": [
              "8982"
            ]
          },
          "metadata": {},
          "execution_count": 3
        }
      ]
    },
    {
      "cell_type": "code",
      "source": [
        "len(test_data)"
      ],
      "metadata": {
        "colab": {
          "base_uri": "https://localhost:8080/"
        },
        "id": "TnOnaUiB0APM",
        "outputId": "ae2fd7cd-ad2f-4f6e-fa06-c5c76b4177e7"
      },
      "execution_count": 4,
      "outputs": [
        {
          "output_type": "execute_result",
          "data": {
            "text/plain": [
              "2246"
            ]
          },
          "metadata": {},
          "execution_count": 4
        }
      ]
    },
    {
      "cell_type": "code",
      "source": [
        "word_index=reuters.get_word_index()\n",
        "reverse_word_index=dict([(value,key) for (key, value) in word_index.items()])\n",
        "decoded_newswire=\" \".join([reverse_word_index.get(i-3, \"?\") for i in train_data[0]])"
      ],
      "metadata": {
        "colab": {
          "base_uri": "https://localhost:8080/"
        },
        "id": "plN4Yyge0TQu",
        "outputId": "d20ba79a-75b2-47e2-8edb-d3c1ea42c89d"
      },
      "execution_count": 5,
      "outputs": [
        {
          "output_type": "stream",
          "name": "stdout",
          "text": [
            "Downloading data from https://storage.googleapis.com/tensorflow/tf-keras-datasets/reuters_word_index.json\n",
            "550378/550378 [==============================] - 0s 0us/step\n"
          ]
        }
      ]
    },
    {
      "cell_type": "code",
      "source": [
        "train_labels[10]"
      ],
      "metadata": {
        "colab": {
          "base_uri": "https://localhost:8080/"
        },
        "id": "Pi1WIy0m03lc",
        "outputId": "110842eb-1f3a-46f2-cd98-82b6ebc2902a"
      },
      "execution_count": 6,
      "outputs": [
        {
          "output_type": "execute_result",
          "data": {
            "text/plain": [
              "3"
            ]
          },
          "metadata": {},
          "execution_count": 6
        }
      ]
    },
    {
      "cell_type": "markdown",
      "source": [
        "4.2.2 데이터 준비"
      ],
      "metadata": {
        "id": "JgQxaN0O07NF"
      }
    },
    {
      "cell_type": "code",
      "source": [
        "import numpy as np\n",
        "\n",
        "def vectorize_sequences(sequences, dimension=10000):\n",
        " results=np.zeros((len(sequences), dimension))\n",
        " for i, sequence in enumerate(sequences):\n",
        "  for j in sequence:\n",
        "    results[i, j]=1.\n",
        " return results\n",
        "x_train=vectorize_sequences(train_data)\n",
        "x_test=vectorize_sequences(test_data)"
      ],
      "metadata": {
        "id": "amhJiONO06km"
      },
      "execution_count": 7,
      "outputs": []
    },
    {
      "cell_type": "code",
      "source": [
        "def to_one_hot(labels, dimension=46):\n",
        "  results = np.zeros((len(labels), dimension))\n",
        "  for i, label in enumerate(labels):\n",
        "    results[i, label]=1.\n",
        "y_train = to_one_hot(train_labels)\n",
        "y_test = to_one_hot(test_labels)"
      ],
      "metadata": {
        "id": "T2_Ok6ro8l2e"
      },
      "execution_count": 8,
      "outputs": []
    },
    {
      "cell_type": "code",
      "source": [
        "from tensorflow.keras.utils import to_categorical\n",
        "y_train=to_categorical(train_labels)\n",
        "y_test=to_categorical(test_labels)"
      ],
      "metadata": {
        "id": "-3nd16mt8_Ky"
      },
      "execution_count": 9,
      "outputs": []
    },
    {
      "cell_type": "markdown",
      "source": [
        "4.2.3 모델 구성"
      ],
      "metadata": {
        "id": "kIyVxSV69UTI"
      }
    },
    {
      "cell_type": "code",
      "source": [
        "from tensorflow import keras\n",
        "from tensorflow.keras import layers\n",
        "\n",
        "model = keras.Sequential([\n",
        "    layers.Dense(64, activation=\"relu\"),\n",
        "    layers.Dense(64, activation=\"relu\"),\n",
        "    layers.Dense(46, activation=\"softmax\")\n",
        "])"
      ],
      "metadata": {
        "id": "V88aUJGO9SHx"
      },
      "execution_count": 10,
      "outputs": []
    },
    {
      "cell_type": "code",
      "source": [
        "model.compile(optimizer=\"rmsprop\",\n",
        "              loss=\"categorical_crossentropy\",\n",
        "              metrics=[\"accuracy\"])"
      ],
      "metadata": {
        "id": "zK0aUYUS-owB"
      },
      "execution_count": 11,
      "outputs": []
    },
    {
      "cell_type": "markdown",
      "source": [
        "4.2.4 훈련 검증"
      ],
      "metadata": {
        "id": "wfRNri61-24u"
      }
    },
    {
      "cell_type": "code",
      "source": [
        "x_val = x_train[:1000]\n",
        "partial_x_train =x_train[1000:]\n",
        "y_val=y_train[:1000]\n",
        "partial_y_train = y_train[1000:]"
      ],
      "metadata": {
        "id": "P6jq1o3n-2ja"
      },
      "execution_count": 12,
      "outputs": []
    },
    {
      "cell_type": "code",
      "source": [
        "history=model.fit(partial_x_train,\n",
        "                  partial_y_train,\n",
        "                  epochs=20,\n",
        "                  batch_size=512,\n",
        "                  validation_data=(x_val, y_val))"
      ],
      "metadata": {
        "colab": {
          "base_uri": "https://localhost:8080/"
        },
        "id": "rpbUgIeY_Hws",
        "outputId": "9557465d-26f1-4042-8048-fe3638cb1b8a"
      },
      "execution_count": 13,
      "outputs": [
        {
          "output_type": "stream",
          "name": "stdout",
          "text": [
            "Epoch 1/20\n",
            "16/16 [==============================] - 2s 75ms/step - loss: 2.6312 - accuracy: 0.5137 - val_loss: 1.7530 - val_accuracy: 0.6390\n",
            "Epoch 2/20\n",
            "16/16 [==============================] - 1s 59ms/step - loss: 1.4865 - accuracy: 0.6880 - val_loss: 1.3474 - val_accuracy: 0.6970\n",
            "Epoch 3/20\n",
            "16/16 [==============================] - 1s 60ms/step - loss: 1.1405 - accuracy: 0.7503 - val_loss: 1.1675 - val_accuracy: 0.7550\n",
            "Epoch 4/20\n",
            "16/16 [==============================] - 1s 44ms/step - loss: 0.9330 - accuracy: 0.7989 - val_loss: 1.0579 - val_accuracy: 0.7720\n",
            "Epoch 5/20\n",
            "16/16 [==============================] - 1s 52ms/step - loss: 0.7689 - accuracy: 0.8325 - val_loss: 1.0313 - val_accuracy: 0.7740\n",
            "Epoch 6/20\n",
            "16/16 [==============================] - 1s 76ms/step - loss: 0.6383 - accuracy: 0.8626 - val_loss: 0.9393 - val_accuracy: 0.7950\n",
            "Epoch 7/20\n",
            "16/16 [==============================] - 1s 57ms/step - loss: 0.5310 - accuracy: 0.8895 - val_loss: 0.9082 - val_accuracy: 0.8080\n",
            "Epoch 8/20\n",
            "16/16 [==============================] - 1s 45ms/step - loss: 0.4473 - accuracy: 0.9072 - val_loss: 0.8923 - val_accuracy: 0.8070\n",
            "Epoch 9/20\n",
            "16/16 [==============================] - 1s 48ms/step - loss: 0.3734 - accuracy: 0.9222 - val_loss: 0.8978 - val_accuracy: 0.8060\n",
            "Epoch 10/20\n",
            "16/16 [==============================] - 1s 53ms/step - loss: 0.3209 - accuracy: 0.9321 - val_loss: 0.8768 - val_accuracy: 0.8140\n",
            "Epoch 11/20\n",
            "16/16 [==============================] - 1s 42ms/step - loss: 0.2754 - accuracy: 0.9400 - val_loss: 0.8747 - val_accuracy: 0.8170\n",
            "Epoch 12/20\n",
            "16/16 [==============================] - 1s 44ms/step - loss: 0.2405 - accuracy: 0.9459 - val_loss: 0.8871 - val_accuracy: 0.8090\n",
            "Epoch 13/20\n",
            "16/16 [==============================] - 1s 50ms/step - loss: 0.2134 - accuracy: 0.9504 - val_loss: 0.9236 - val_accuracy: 0.8030\n",
            "Epoch 14/20\n",
            "16/16 [==============================] - 1s 37ms/step - loss: 0.1934 - accuracy: 0.9510 - val_loss: 0.8970 - val_accuracy: 0.8130\n",
            "Epoch 15/20\n",
            "16/16 [==============================] - 0s 28ms/step - loss: 0.1750 - accuracy: 0.9545 - val_loss: 0.9279 - val_accuracy: 0.8080\n",
            "Epoch 16/20\n",
            "16/16 [==============================] - 1s 32ms/step - loss: 0.1604 - accuracy: 0.9553 - val_loss: 0.9431 - val_accuracy: 0.8020\n",
            "Epoch 17/20\n",
            "16/16 [==============================] - 0s 31ms/step - loss: 0.1503 - accuracy: 0.9567 - val_loss: 0.9683 - val_accuracy: 0.7990\n",
            "Epoch 18/20\n",
            "16/16 [==============================] - 1s 44ms/step - loss: 0.1436 - accuracy: 0.9564 - val_loss: 0.9818 - val_accuracy: 0.8000\n",
            "Epoch 19/20\n",
            "16/16 [==============================] - 0s 30ms/step - loss: 0.1331 - accuracy: 0.9582 - val_loss: 0.9498 - val_accuracy: 0.8070\n",
            "Epoch 20/20\n",
            "16/16 [==============================] - 0s 29ms/step - loss: 0.1316 - accuracy: 0.9582 - val_loss: 0.9794 - val_accuracy: 0.8020\n"
          ]
        }
      ]
    },
    {
      "cell_type": "code",
      "source": [
        "loss = history.history[\"loss\"]\n",
        "val_loss = history.history[\"val_loss\"]\n",
        "epochs = range(1, len(loss)+1)\n",
        "plt.plot(epochs, loss, \"bo\", label=\"Training loss\")\n",
        "plt.plot(epochs, val_loss, \"b\", label=\"Validation loss\")\n",
        "plt.title(\"Training and validation loss\")\n",
        "plt.xlabel(\"Epochs\")\n",
        "plt.ylabel(\"Loss\")\n",
        "plt.legend()\n",
        "plt.show()"
      ],
      "metadata": {
        "colab": {
          "base_uri": "https://localhost:8080/",
          "height": 472
        },
        "id": "qpTydie8_-i8",
        "outputId": "b62f61a3-c845-414b-c402-0cdab39be6ea"
      },
      "execution_count": 14,
      "outputs": [
        {
          "output_type": "display_data",
          "data": {
            "text/plain": [
              "<Figure size 640x480 with 1 Axes>"
            ],
            "image/png": "[encoded data removed]"
          },
          "metadata": {}
        }
      ]
    },
    {
      "cell_type": "code",
      "source": [
        "plt.clf()\n",
        "acc = history.history[\"accuracy\"]\n",
        "val_acc = history.history[\"val_accuracy\"]\n",
        "plt.plot(epochs, acc, \"bo\", label=\"Training loss\")\n",
        "plt.plot(epochs, val_acc, \"b\", label=\"Validation loss\")\n",
        "plt.title(\"Training and validation loss\")\n",
        "plt.xlabel(\"Epochs\")\n",
        "plt.ylabel(\"Accuracy\")\n",
        "plt.legend()\n",
        "plt.show()"
      ],
      "metadata": {
        "colab": {
          "base_uri": "https://localhost:8080/",
          "height": 472
        },
        "id": "yJOudSmPArY_",
        "outputId": "26298bcf-e360-4953-e606-adfe5a399fcb"
      },
      "execution_count": 15,
      "outputs": [
        {
          "output_type": "display_data",
          "data": {
            "text/plain": [
              "<Figure size 640x480 with 1 Axes>"
            ],
            "image/png": "[encoded data removed]"
          },
          "metadata": {}
        }
      ]
    },
    {
      "cell_type": "code",
      "source": [
        "model=keras.Sequential([\n",
        "    layers.Dense(64, activation=\"relu\"),\n",
        "    layers.Dense(64, activation=\"relu\"),\n",
        "    layers.Dense(46, activation=\"softmax\")\n",
        "])\n",
        "model.compile(optimizer=\"rmsprop\",\n",
        "              loss=\"categorical_crossentropy\",\n",
        "              metrics=[\"accuracy\"])\n",
        "model.fit(x_train,\n",
        "          y_train,\n",
        "          epochs=9,\n",
        "          batch_size=512)\n",
        "results=model.evaluate(x_test, y_test)"
      ],
      "metadata": {
        "colab": {
          "base_uri": "https://localhost:8080/"
        },
        "id": "k9yFefCHBBDg",
        "outputId": "d040f4d4-5ffb-4c23-b93f-e058d454e1f8"
      },
      "execution_count": 16,
      "outputs": [
        {
          "output_type": "stream",
          "name": "stdout",
          "text": [
            "Epoch 1/9\n",
            "18/18 [==============================] - 1s 29ms/step - loss: 2.4959 - accuracy: 0.4619\n",
            "Epoch 2/9\n",
            "18/18 [==============================] - 0s 26ms/step - loss: 1.4728 - accuracy: 0.6795\n",
            "Epoch 3/9\n",
            "18/18 [==============================] - 0s 25ms/step - loss: 1.1679 - accuracy: 0.7423\n",
            "Epoch 4/9\n",
            "18/18 [==============================] - 0s 25ms/step - loss: 0.9670 - accuracy: 0.7914\n",
            "Epoch 5/9\n",
            "18/18 [==============================] - 0s 26ms/step - loss: 0.8023 - accuracy: 0.8258\n",
            "Epoch 6/9\n",
            "18/18 [==============================] - 0s 26ms/step - loss: 0.6703 - accuracy: 0.8525\n",
            "Epoch 7/9\n",
            "18/18 [==============================] - 0s 25ms/step - loss: 0.5638 - accuracy: 0.8773\n",
            "Epoch 8/9\n",
            "18/18 [==============================] - 0s 26ms/step - loss: 0.4764 - accuracy: 0.8937\n",
            "Epoch 9/9\n",
            "18/18 [==============================] - 0s 24ms/step - loss: 0.4038 - accuracy: 0.9147\n",
            "71/71 [==============================] - 0s 2ms/step - loss: 0.9136 - accuracy: 0.7943\n"
          ]
        }
      ]
    },
    {
      "cell_type": "code",
      "source": [
        "results"
      ],
      "metadata": {
        "colab": {
          "base_uri": "https://localhost:8080/"
        },
        "id": "Wrl21maiB2ly",
        "outputId": "4f5a222a-c534-4a8e-8ac4-a9939161a11a"
      },
      "execution_count": 17,
      "outputs": [
        {
          "output_type": "execute_result",
          "data": {
            "text/plain": [
              "[0.9136162996292114, 0.7943009734153748]"
            ]
          },
          "metadata": {},
          "execution_count": 17
        }
      ]
    },
    {
      "cell_type": "code",
      "source": [
        "import copy\n",
        "\n",
        "test_labels_copy = copy.copy(test_labels)\n",
        "np.random.shuffle(test_labels_copy)\n",
        "float(np.sum(np.array(test_labels) == np.array(test_labels_copy))) / len(test_labels)"
      ],
      "metadata": {
        "colab": {
          "base_uri": "https://localhost:8080/"
        },
        "id": "-L3-nmrvrMTg",
        "outputId": "b70aae18-0c80-401f-bfcf-600d5fb58e6c"
      },
      "execution_count": 18,
      "outputs": [
        {
          "output_type": "execute_result",
          "data": {
            "text/plain": [
              "0.17853962600178094"
            ]
          },
          "metadata": {},
          "execution_count": 18
        }
      ]
    },
    {
      "cell_type": "markdown",
      "source": [
        "새로운 데이터에 대해 예측하기"
      ],
      "metadata": {
        "id": "n1L8cokFrYYW"
      }
    },
    {
      "cell_type": "code",
      "source": [
        "predictions = model.predict(x_test)"
      ],
      "metadata": {
        "colab": {
          "base_uri": "https://localhost:8080/"
        },
        "id": "8_eoOv4crXV0",
        "outputId": "0e6335c6-1038-43aa-fa4c-2b30b7471bb5"
      },
      "execution_count": 19,
      "outputs": [
        {
          "output_type": "stream",
          "name": "stdout",
          "text": [
            "71/71 [==============================] - 0s 2ms/step\n"
          ]
        }
      ]
    },
    {
      "cell_type": "code",
      "source": [
        "predictions[0].shape"
      ],
      "metadata": {
        "colab": {
          "base_uri": "https://localhost:8080/"
        },
        "id": "cR1VKgMOrbQL",
        "outputId": "9b88fe2d-b6ac-4af3-f502-fa10c3bc9f8c"
      },
      "execution_count": 20,
      "outputs": [
        {
          "output_type": "execute_result",
          "data": {
            "text/plain": [
              "(46,)"
            ]
          },
          "metadata": {},
          "execution_count": 20
        }
      ]
    },
    {
      "cell_type": "code",
      "source": [
        "np.sum(predictions[0])"
      ],
      "metadata": {
        "colab": {
          "base_uri": "https://localhost:8080/"
        },
        "id": "MZ-vNojTrcT4",
        "outputId": "5664d6be-400e-46bb-d72e-64e5fdc0a144"
      },
      "execution_count": 21,
      "outputs": [
        {
          "output_type": "execute_result",
          "data": {
            "text/plain": [
              "0.9999999"
            ]
          },
          "metadata": {},
          "execution_count": 21
        }
      ]
    },
    {
      "cell_type": "code",
      "source": [
        "np.argmax(predictions[0])"
      ],
      "metadata": {
        "colab": {
          "base_uri": "https://localhost:8080/"
        },
        "id": "2jF-jl3IreYK",
        "outputId": "bfb75edd-b0f4-45f9-b4ef-d4a8f3445443"
      },
      "execution_count": 22,
      "outputs": [
        {
          "output_type": "execute_result",
          "data": {
            "text/plain": [
              "3"
            ]
          },
          "metadata": {},
          "execution_count": 22
        }
      ]
    },
    {
      "cell_type": "markdown",
      "source": [
        "레이블과 손실을 다루는 다른 방법"
      ],
      "metadata": {
        "id": "YSq8_A4xsOnT"
      }
    },
    {
      "cell_type": "code",
      "source": [
        "y_train = np.array(train_labels)\n",
        "y_test = np.array(test_labels)"
      ],
      "metadata": {
        "id": "SrBpWE5lrfbu"
      },
      "execution_count": 23,
      "outputs": []
    },
    {
      "cell_type": "code",
      "source": [
        "model.compile(optimizer='rmsprop', loss='sparse_categorical_crossentropy', metrics=['accuracy'])"
      ],
      "metadata": {
        "id": "kLxA5eYErib5"
      },
      "execution_count": 24,
      "outputs": []
    },
    {
      "cell_type": "markdown",
      "source": [
        "충분히 큰 중간층을 두어야 하는 이유"
      ],
      "metadata": {
        "id": "NFSuUM2HrmPT"
      }
    },
    {
      "cell_type": "code",
      "source": [
        "model = keras.Sequential()\n",
        "model.add(layers.Dense(64, activation='relu', input_shape=(10000,)))\n",
        "model.add(layers.Dense(4, activation='relu'))\n",
        "model.add(layers.Dense(46, activation='softmax'))\n",
        "\n",
        "model.compile(optimizer='rmsprop',\n",
        "              loss='categorical_crossentropy',\n",
        "              metrics=['accuracy'])\n",
        "model.fit(partial_x_train,\n",
        "          partial_y_train,\n",
        "          epochs=20,\n",
        "          batch_size=128,\n",
        "          validation_data=(x_val, y_val))"
      ],
      "metadata": {
        "colab": {
          "base_uri": "https://localhost:8080/"
        },
        "id": "MAOxCPktrl8E",
        "outputId": "cc95fa0b-9032-4cce-bd86-6e43b7795253"
      },
      "execution_count": 25,
      "outputs": [
        {
          "output_type": "stream",
          "name": "stdout",
          "text": [
            "Epoch 1/20\n",
            "63/63 [==============================] - 1s 15ms/step - loss: 3.2413 - accuracy: 0.1168 - val_loss: 2.6245 - val_accuracy: 0.2690\n",
            "Epoch 2/20\n",
            "63/63 [==============================] - 1s 13ms/step - loss: 2.0769 - accuracy: 0.4648 - val_loss: 1.7235 - val_accuracy: 0.5870\n",
            "Epoch 3/20\n",
            "63/63 [==============================] - 1s 12ms/step - loss: 1.5646 - accuracy: 0.5948 - val_loss: 1.5799 - val_accuracy: 0.5920\n",
            "Epoch 4/20\n",
            "63/63 [==============================] - 1s 10ms/step - loss: 1.4076 - accuracy: 0.6034 - val_loss: 1.4967 - val_accuracy: 0.5920\n",
            "Epoch 5/20\n",
            "63/63 [==============================] - 1s 10ms/step - loss: 1.3021 - accuracy: 0.6196 - val_loss: 1.4685 - val_accuracy: 0.5990\n",
            "Epoch 6/20\n",
            "63/63 [==============================] - 1s 11ms/step - loss: 1.2147 - accuracy: 0.6505 - val_loss: 1.4295 - val_accuracy: 0.6240\n",
            "Epoch 7/20\n",
            "63/63 [==============================] - 1s 10ms/step - loss: 1.1375 - accuracy: 0.6817 - val_loss: 1.4017 - val_accuracy: 0.6380\n",
            "Epoch 8/20\n",
            "63/63 [==============================] - 1s 10ms/step - loss: 1.0669 - accuracy: 0.7038 - val_loss: 1.4152 - val_accuracy: 0.6670\n",
            "Epoch 9/20\n",
            "63/63 [==============================] - 1s 10ms/step - loss: 1.0072 - accuracy: 0.7311 - val_loss: 1.3937 - val_accuracy: 0.6730\n",
            "Epoch 10/20\n",
            "63/63 [==============================] - 1s 10ms/step - loss: 0.9558 - accuracy: 0.7433 - val_loss: 1.3945 - val_accuracy: 0.6870\n",
            "Epoch 11/20\n",
            "63/63 [==============================] - 1s 14ms/step - loss: 0.9117 - accuracy: 0.7531 - val_loss: 1.4157 - val_accuracy: 0.6850\n",
            "Epoch 12/20\n",
            "63/63 [==============================] - 1s 10ms/step - loss: 0.8737 - accuracy: 0.7601 - val_loss: 1.4522 - val_accuracy: 0.6810\n",
            "Epoch 13/20\n",
            "63/63 [==============================] - 1s 10ms/step - loss: 0.8397 - accuracy: 0.7666 - val_loss: 1.4551 - val_accuracy: 0.6860\n",
            "Epoch 14/20\n",
            "63/63 [==============================] - 1s 10ms/step - loss: 0.8104 - accuracy: 0.7722 - val_loss: 1.5119 - val_accuracy: 0.6830\n",
            "Epoch 15/20\n",
            "63/63 [==============================] - 1s 10ms/step - loss: 0.7857 - accuracy: 0.7785 - val_loss: 1.5238 - val_accuracy: 0.6840\n",
            "Epoch 16/20\n",
            "63/63 [==============================] - 1s 13ms/step - loss: 0.7606 - accuracy: 0.7855 - val_loss: 1.5595 - val_accuracy: 0.6830\n",
            "Epoch 17/20\n",
            "63/63 [==============================] - 1s 14ms/step - loss: 0.7396 - accuracy: 0.7893 - val_loss: 1.5921 - val_accuracy: 0.6830\n",
            "Epoch 18/20\n",
            "63/63 [==============================] - 1s 11ms/step - loss: 0.7189 - accuracy: 0.7952 - val_loss: 1.6038 - val_accuracy: 0.6720\n",
            "Epoch 19/20\n",
            "63/63 [==============================] - 1s 10ms/step - loss: 0.7018 - accuracy: 0.7989 - val_loss: 1.6358 - val_accuracy: 0.6740\n",
            "Epoch 20/20\n",
            "63/63 [==============================] - 1s 10ms/step - loss: 0.6866 - accuracy: 0.8014 - val_loss: 1.6906 - val_accuracy: 0.6730\n"
          ]
        },
        {
          "output_type": "execute_result",
          "data": {
            "text/plain": [
              "<keras.src.callbacks.History at 0x79bef99e5c30>"
            ]
          },
          "metadata": {},
          "execution_count": 25
        }
      ]
    }
  ]
}