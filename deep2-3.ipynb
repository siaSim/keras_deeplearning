{
  "nbformat": 4,
  "nbformat_minor": 0,
  "metadata": {
    "colab": {
      "provenance": [],
      "authorship_tag": "ABX9TyPATZGyhb10qq4iJwRtNX3P",
      "include_colab_link": true
    },
    "kernelspec": {
      "name": "python3",
      "display_name": "Python 3"
    },
    "language_info": {
      "name": "python"
    }
  },
  "cells": [
    {
      "cell_type": "markdown",
      "metadata": {
        "id": "view-in-github",
        "colab_type": "text"
      },
      "source": [
        "<a href=\"https://colab.research.google.com/github/simsia99/keras_deeplearning/blob/main/deep2-3.ipynb\" target=\"_parent\"><img src=\"https://colab.research.google.com/assets/colab-badge.svg\" alt=\"Open In Colab\"/></a>"
      ]
    },
    {
      "cell_type": "code",
      "execution_count": 2,
      "metadata": {
        "id": "Jh8OTEcfSmDL",
        "colab": {
          "base_uri": "https://localhost:8080/"
        },
        "outputId": "08ff0cc2-9e66-4d82-ea4d-24031256c19d"
      },
      "outputs": [
        {
          "output_type": "stream",
          "name": "stdout",
          "text": [
            "Downloading data from https://storage.googleapis.com/tensorflow/tf-keras-datasets/mnist.npz\n",
            "11490434/11490434 [==============================] - 1s 0us/step\n"
          ]
        }
      ],
      "source": [
        "from tensorflow.keras.datasets import mnist\n",
        "(train_images, train_labels), (test_images, test_labels)=mnist.load_data()"
      ]
    },
    {
      "cell_type": "code",
      "source": [
        "train_images.shape"
      ],
      "metadata": {
        "colab": {
          "base_uri": "https://localhost:8080/"
        },
        "id": "tS60T_SDTSLV",
        "outputId": "aeedb153-963a-4ee8-cbd6-2f75b0d501aa"
      },
      "execution_count": 3,
      "outputs": [
        {
          "output_type": "execute_result",
          "data": {
            "text/plain": [
              "(60000, 28, 28)"
            ]
          },
          "metadata": {},
          "execution_count": 3
        }
      ]
    },
    {
      "cell_type": "code",
      "source": [
        "len(train_labels)"
      ],
      "metadata": {
        "colab": {
          "base_uri": "https://localhost:8080/"
        },
        "id": "iEsBGhFjTane",
        "outputId": "70efcf3c-7864-4695-e0ca-f3a5dd0c8a75"
      },
      "execution_count": 4,
      "outputs": [
        {
          "output_type": "execute_result",
          "data": {
            "text/plain": [
              "60000"
            ]
          },
          "metadata": {},
          "execution_count": 4
        }
      ]
    },
    {
      "cell_type": "code",
      "source": [
        "train_labels"
      ],
      "metadata": {
        "colab": {
          "base_uri": "https://localhost:8080/"
        },
        "id": "Cush0YzqTgEs",
        "outputId": "e6709ff3-f27b-48c2-d3c3-3f0f6ddef43c"
      },
      "execution_count": 5,
      "outputs": [
        {
          "output_type": "execute_result",
          "data": {
            "text/plain": [
              "array([5, 0, 4, ..., 5, 6, 8], dtype=uint8)"
            ]
          },
          "metadata": {},
          "execution_count": 5
        }
      ]
    },
    {
      "cell_type": "code",
      "source": [
        "test_images.shape"
      ],
      "metadata": {
        "colab": {
          "base_uri": "https://localhost:8080/"
        },
        "id": "WSSNQJwoTjqN",
        "outputId": "aa7599fd-9c19-409c-f794-fd673dbcf225"
      },
      "execution_count": 6,
      "outputs": [
        {
          "output_type": "execute_result",
          "data": {
            "text/plain": [
              "(10000, 28, 28)"
            ]
          },
          "metadata": {},
          "execution_count": 6
        }
      ]
    },
    {
      "cell_type": "code",
      "source": [
        "len(test_labels)"
      ],
      "metadata": {
        "colab": {
          "base_uri": "https://localhost:8080/"
        },
        "id": "iZtTexgsTmZy",
        "outputId": "b4b66f93-521f-4ef3-c2cf-059e7e9149a9"
      },
      "execution_count": 7,
      "outputs": [
        {
          "output_type": "execute_result",
          "data": {
            "text/plain": [
              "10000"
            ]
          },
          "metadata": {},
          "execution_count": 7
        }
      ]
    },
    {
      "cell_type": "code",
      "source": [
        "test_labels"
      ],
      "metadata": {
        "colab": {
          "base_uri": "https://localhost:8080/"
        },
        "id": "NkRjojlJTqyi",
        "outputId": "486a0ed3-5205-4b4e-92eb-002134d7bdb7"
      },
      "execution_count": 8,
      "outputs": [
        {
          "output_type": "execute_result",
          "data": {
            "text/plain": [
              "array([7, 2, 1, ..., 4, 5, 6], dtype=uint8)"
            ]
          },
          "metadata": {},
          "execution_count": 8
        }
      ]
    },
    {
      "cell_type": "code",
      "source": [
        "from tensorflow import keras\n",
        "from tensorflow.keras import layers\n",
        "\n",
        "model=keras.Sequential([\n",
        "    layers.Dense(512, activation=\"relu\"),\n",
        "    layers.Dense(10, activation=\"softmax\")\n",
        "])"
      ],
      "metadata": {
        "id": "_HCpB9o4T1UU"
      },
      "execution_count": 9,
      "outputs": []
    },
    {
      "cell_type": "code",
      "source": [
        "model.compile(optimizer=\"rmsprop\",\n",
        "             loss=\"sparse_categorical_crossentropy\",\n",
        "             metrics=[\"accuracy\"])"
      ],
      "metadata": {
        "id": "4qjoXGx8UUOb"
      },
      "execution_count": 10,
      "outputs": []
    },
    {
      "cell_type": "code",
      "source": [
        "train_images=train_images.reshape((60000,28*28))\n",
        "train_images=train_images.astype(\"float32\")/255\n",
        "test_images=test_images.reshape((10000,28*28))\n",
        "test_images=test_images.astype(\"float32\")/255"
      ],
      "metadata": {
        "id": "d63Hdd16Ud4n"
      },
      "execution_count": 11,
      "outputs": []
    },
    {
      "cell_type": "code",
      "source": [
        "model.fit(train_images, train_labels, epochs=5, batch_size=128)"
      ],
      "metadata": {
        "colab": {
          "base_uri": "https://localhost:8080/"
        },
        "id": "boF9dfyqVVK4",
        "outputId": "95617578-ebb4-4a62-8de9-d4a28818c09b"
      },
      "execution_count": 12,
      "outputs": [
        {
          "output_type": "stream",
          "name": "stdout",
          "text": [
            "Epoch 1/5\n",
            "469/469 [==============================] - 4s 8ms/step - loss: 0.2607 - accuracy: 0.9245\n",
            "Epoch 2/5\n",
            "469/469 [==============================] - 4s 8ms/step - loss: 0.1067 - accuracy: 0.9684\n",
            "Epoch 3/5\n",
            "469/469 [==============================] - 4s 9ms/step - loss: 0.0693 - accuracy: 0.9789\n",
            "Epoch 4/5\n",
            "469/469 [==============================] - 4s 8ms/step - loss: 0.0525 - accuracy: 0.9838\n",
            "Epoch 5/5\n",
            "469/469 [==============================] - 4s 8ms/step - loss: 0.0383 - accuracy: 0.9888\n"
          ]
        },
        {
          "output_type": "execute_result",
          "data": {
            "text/plain": [
              "<keras.callbacks.History at 0x7f828dc8e590>"
            ]
          },
          "metadata": {},
          "execution_count": 12
        }
      ]
    },
    {
      "cell_type": "code",
      "source": [
        "test_digits=test_images[0:10]\n",
        "predictions=model.predict(test_digits)\n",
        "predictions[0]"
      ],
      "metadata": {
        "colab": {
          "base_uri": "https://localhost:8080/"
        },
        "id": "OzZVqzH92BpJ",
        "outputId": "27e1716e-886f-4770-d6be-8e60a4324e42"
      },
      "execution_count": 13,
      "outputs": [
        {
          "output_type": "stream",
          "name": "stdout",
          "text": [
            "1/1 [==============================] - 0s 64ms/step\n"
          ]
        },
        {
          "output_type": "execute_result",
          "data": {
            "text/plain": [
              "array([2.4608786e-07, 7.5999598e-09, 3.5347515e-05, 6.4452807e-04,\n",
              "       8.6713262e-11, 1.2063684e-07, 6.0115857e-11, 9.9929911e-01,\n",
              "       1.8316384e-06, 1.8837827e-05], dtype=float32)"
            ]
          },
          "metadata": {},
          "execution_count": 13
        }
      ]
    },
    {
      "cell_type": "code",
      "source": [
        "predictions[0].argmax()\n",
        "predictions[0][7]\n",
        "test_labels[0]"
      ],
      "metadata": {
        "colab": {
          "base_uri": "https://localhost:8080/"
        },
        "id": "-dFrx-d92d7_",
        "outputId": "78757b9c-075e-401a-e025-812cda933ff7"
      },
      "execution_count": 14,
      "outputs": [
        {
          "output_type": "execute_result",
          "data": {
            "text/plain": [
              "7"
            ]
          },
          "metadata": {},
          "execution_count": 14
        }
      ]
    },
    {
      "cell_type": "code",
      "source": [
        "test_loss, test_acc = model.evaluate(test_images, test_labels)\n",
        "print(f\"테스트 정확도: {test_acc}\")"
      ],
      "metadata": {
        "colab": {
          "base_uri": "https://localhost:8080/"
        },
        "id": "77sCiQmi2wtj",
        "outputId": "6d44d43e-978c-4cf3-f1c1-1e4682dc78d1"
      },
      "execution_count": 15,
      "outputs": [
        {
          "output_type": "stream",
          "name": "stdout",
          "text": [
            "313/313 [==============================] - 1s 3ms/step - loss: 0.0690 - accuracy: 0.9778\n",
            "테스트 정확도: 0.9778000116348267\n"
          ]
        }
      ]
    },
    {
      "cell_type": "code",
      "source": [
        "import numpy as np\n",
        "x=np.array(12)\n",
        "x"
      ],
      "metadata": {
        "colab": {
          "base_uri": "https://localhost:8080/"
        },
        "id": "E7GHdhvQ3Ebv",
        "outputId": "b7514817-cba5-4ee3-fc3a-c82db35f1ed7"
      },
      "execution_count": 16,
      "outputs": [
        {
          "output_type": "execute_result",
          "data": {
            "text/plain": [
              "array(12)"
            ]
          },
          "metadata": {},
          "execution_count": 16
        }
      ]
    },
    {
      "cell_type": "code",
      "source": [
        "x.ndim"
      ],
      "metadata": {
        "colab": {
          "base_uri": "https://localhost:8080/"
        },
        "id": "UWNTWHXr3Ko1",
        "outputId": "a9e6b68a-19d7-40a8-9120-87a932357c7c"
      },
      "execution_count": 17,
      "outputs": [
        {
          "output_type": "execute_result",
          "data": {
            "text/plain": [
              "0"
            ]
          },
          "metadata": {},
          "execution_count": 17
        }
      ]
    },
    {
      "cell_type": "code",
      "source": [
        "x=np.array([12,3,6,14,7])\n",
        "x"
      ],
      "metadata": {
        "colab": {
          "base_uri": "https://localhost:8080/"
        },
        "id": "ZpXH0ato3Ncv",
        "outputId": "8b6988fc-d8d3-43eb-85ee-cec382179bdb"
      },
      "execution_count": 18,
      "outputs": [
        {
          "output_type": "execute_result",
          "data": {
            "text/plain": [
              "array([12,  3,  6, 14,  7])"
            ]
          },
          "metadata": {},
          "execution_count": 18
        }
      ]
    },
    {
      "cell_type": "code",
      "source": [
        "x.ndim"
      ],
      "metadata": {
        "colab": {
          "base_uri": "https://localhost:8080/"
        },
        "id": "AbGuC8Nx3SLc",
        "outputId": "9ae4031d-b683-4aba-8dc8-44e0c56db7b0"
      },
      "execution_count": 19,
      "outputs": [
        {
          "output_type": "execute_result",
          "data": {
            "text/plain": [
              "1"
            ]
          },
          "metadata": {},
          "execution_count": 19
        }
      ]
    },
    {
      "cell_type": "code",
      "source": [
        "x=np.array([[5,78,2,34,0],\n",
        "           [6,79,3,35,1],\n",
        "           [7,80,4,36,2]])\n",
        "x.ndim"
      ],
      "metadata": {
        "colab": {
          "base_uri": "https://localhost:8080/"
        },
        "id": "_BQxCYff3U61",
        "outputId": "a3e1a5be-7735-4b7f-d246-919591bf3345"
      },
      "execution_count": 20,
      "outputs": [
        {
          "output_type": "execute_result",
          "data": {
            "text/plain": [
              "2"
            ]
          },
          "metadata": {},
          "execution_count": 20
        }
      ]
    },
    {
      "cell_type": "markdown",
      "source": [
        "**2.2.4   랭크-3 텐서와 더 높은 랭크의 텐서**"
      ],
      "metadata": {
        "id": "gx7KT-8k_Xlo"
      }
    },
    {
      "cell_type": "code",
      "source": [
        "x=np.array([[[5,78,2,34,0],\n",
        "             [6,79,3,35,1],\n",
        "             [7,80,4,36,2]],\n",
        "            [[5,78,2,34,0],\n",
        "            [6,79,3,35,1],\n",
        "            [7,80,4,36,2]],\n",
        "            [[5,78,2,34,0],\n",
        "             [6,78,2,34,1],\n",
        "             [7,80,4,36,2]]])\n",
        "x.ndim"
      ],
      "metadata": {
        "colab": {
          "base_uri": "https://localhost:8080/"
        },
        "id": "o8XMLU7V_cAN",
        "outputId": "63aec352-fd2d-4062-c5b5-42893eee51c9"
      },
      "execution_count": 21,
      "outputs": [
        {
          "output_type": "execute_result",
          "data": {
            "text/plain": [
              "3"
            ]
          },
          "metadata": {},
          "execution_count": 21
        }
      ]
    },
    {
      "cell_type": "markdown",
      "source": [
        "**2.2.5 핵심속성**"
      ],
      "metadata": {
        "id": "SkdNzTicVm1Y"
      }
    },
    {
      "cell_type": "code",
      "source": [
        "from tensorflow.keras.datasets import mnist\n",
        "(train_images, train_labels),(test_images, test_labels)=mnist.load_data()"
      ],
      "metadata": {
        "id": "RzRdqsvQC7JM"
      },
      "execution_count": 22,
      "outputs": []
    },
    {
      "cell_type": "code",
      "source": [
        "train_images.ndim"
      ],
      "metadata": {
        "colab": {
          "base_uri": "https://localhost:8080/"
        },
        "id": "75CPETL4DY8P",
        "outputId": "47fe19ab-6dce-4874-95da-af1faeaf824e"
      },
      "execution_count": 23,
      "outputs": [
        {
          "output_type": "execute_result",
          "data": {
            "text/plain": [
              "3"
            ]
          },
          "metadata": {},
          "execution_count": 23
        }
      ]
    },
    {
      "cell_type": "code",
      "source": [
        "train_images.shape"
      ],
      "metadata": {
        "colab": {
          "base_uri": "https://localhost:8080/"
        },
        "id": "FvWSASPPEDcz",
        "outputId": "b149656c-0d74-4b50-dfbf-f3bcebe8de65"
      },
      "execution_count": 24,
      "outputs": [
        {
          "output_type": "execute_result",
          "data": {
            "text/plain": [
              "(60000, 28, 28)"
            ]
          },
          "metadata": {},
          "execution_count": 24
        }
      ]
    },
    {
      "cell_type": "code",
      "source": [
        "train_images.dtype"
      ],
      "metadata": {
        "colab": {
          "base_uri": "https://localhost:8080/"
        },
        "id": "Pr9ZDw04ENMw",
        "outputId": "dc8748ba-cd80-4731-84e5-3cca8f9f0479"
      },
      "execution_count": 25,
      "outputs": [
        {
          "output_type": "execute_result",
          "data": {
            "text/plain": [
              "dtype('uint8')"
            ]
          },
          "metadata": {},
          "execution_count": 25
        }
      ]
    },
    {
      "cell_type": "markdown",
      "source": [
        "↑8비트 정수형 랭크-3 텐서\n",
        "28x28 크기의 정수 행렬 6만개가 있는 배열\n",
        "행렬의 각 원소는 0에서 255사이의 값\n",
        "\n",
        "↓랭크-3텐서에서 다섯번째 샘플을 맷플롯립 라이브러리를 사용한다."
      ],
      "metadata": {
        "id": "zZjFl1wWUywV"
      }
    },
    {
      "cell_type": "code",
      "source": [
        "import matplotlib.pyplot as plt\n",
        "digit = train_images[4]\n",
        "plt.imshow(digit, cmap=plt.cm.binary)\n",
        "plt.show()"
      ],
      "metadata": {
        "colab": {
          "base_uri": "https://localhost:8080/",
          "height": 430
        },
        "id": "2ccSPGF1GrD7",
        "outputId": "990cd384-c3e6-4a65-cf25-a39b7fffbcd9"
      },
      "execution_count": 26,
      "outputs": [
        {
          "output_type": "display_data",
          "data": {
            "text/plain": [
              "<Figure size 640x480 with 1 Axes>"
            ],
            "image/png": "[encoded data removed]"
          },
          "metadata": {}
        }
      ]
    },
    {
      "cell_type": "code",
      "source": [
        "train_labels[4]"
      ],
      "metadata": {
        "colab": {
          "base_uri": "https://localhost:8080/"
        },
        "id": "IzefgZ57HW1t",
        "outputId": "efb45588-742d-4cef-ac35-dfce1e154038"
      },
      "execution_count": 27,
      "outputs": [
        {
          "output_type": "execute_result",
          "data": {
            "text/plain": [
              "9"
            ]
          },
          "metadata": {},
          "execution_count": 27
        }
      ]
    },
    {
      "cell_type": "markdown",
      "source": [
        "**2.2.6 넘파이로 텐서 조작하기**"
      ],
      "metadata": {
        "id": "CDOxOsNEWSeR"
      }
    },
    {
      "cell_type": "markdown",
      "source": [
        "11번째에서 101번째까지 숫자를 선택하여 (90,28,28)크기의 배열 만들기"
      ],
      "metadata": {
        "id": "9tnFNCKgWpQ3"
      }
    },
    {
      "cell_type": "code",
      "source": [
        "my_slice=train_images[10:100]\n",
        "my_slice.shape"
      ],
      "metadata": {
        "colab": {
          "base_uri": "https://localhost:8080/"
        },
        "id": "WGgSYcIaHaw0",
        "outputId": "1b09ce4c-4337-4888-aaaf-11da34f0f2b2"
      },
      "execution_count": 28,
      "outputs": [
        {
          "output_type": "execute_result",
          "data": {
            "text/plain": [
              "(90, 28, 28)"
            ]
          },
          "metadata": {},
          "execution_count": 28
        }
      ]
    },
    {
      "cell_type": "markdown",
      "source": [
        "각 배열의 축을 따라 슬랑ㅣ싱의 시작 인덱스와 마지막 인덱스를 지정"
      ],
      "metadata": {
        "id": "jJpCPRq5W2_1"
      }
    },
    {
      "cell_type": "code",
      "source": [
        "my_slice=train_images[10:100, : , :]\n",
        "my_slice.shape"
      ],
      "metadata": {
        "colab": {
          "base_uri": "https://localhost:8080/"
        },
        "id": "yqo4ujF7IFF9",
        "outputId": "b5ffc47a-c83e-4a67-eccc-639894df0b96"
      },
      "execution_count": 29,
      "outputs": [
        {
          "output_type": "execute_result",
          "data": {
            "text/plain": [
              "(90, 28, 28)"
            ]
          },
          "metadata": {},
          "execution_count": 29
        }
      ]
    },
    {
      "cell_type": "code",
      "source": [
        "my_slice=train_images[10:100, 0:20, 0:28]\n",
        "my_slice.shape"
      ],
      "metadata": {
        "colab": {
          "base_uri": "https://localhost:8080/"
        },
        "id": "NFXb11w3IQ7b",
        "outputId": "56858d39-8b48-4d35-92d4-1af42c2089a5"
      },
      "execution_count": 30,
      "outputs": [
        {
          "output_type": "execute_result",
          "data": {
            "text/plain": [
              "(90, 20, 28)"
            ]
          },
          "metadata": {},
          "execution_count": 30
        }
      ]
    },
    {
      "cell_type": "code",
      "source": [
        "my_slice = train_images"
      ],
      "metadata": {
        "id": "h1UWUQALIeJH"
      },
      "execution_count": 31,
      "outputs": []
    },
    {
      "cell_type": "markdown",
      "source": [
        "이미지의 오른쪽 아래 14x14 픽셀을 선택"
      ],
      "metadata": {
        "id": "DdFi7gVrW-3-"
      }
    },
    {
      "cell_type": "code",
      "source": [
        "my_slice = train_images[:, 14:,14:]"
      ],
      "metadata": {
        "id": "eLKEDDgIJJYW"
      },
      "execution_count": 32,
      "outputs": []
    },
    {
      "cell_type": "markdown",
      "source": [
        "음수 인덱스 사용\n",
        "현대 축의 끝에서 상대적 위치 나타냄\n",
        "14x14 픽셀 조각을 이미지에서 잘라냄"
      ],
      "metadata": {
        "id": "_V3rh0z4XEX6"
      }
    },
    {
      "cell_type": "code",
      "source": [
        "my_slice = train_images[:, 7:-7, 7:-7]"
      ],
      "metadata": {
        "id": "yZJRQnhIJV77"
      },
      "execution_count": 33,
      "outputs": []
    },
    {
      "cell_type": "markdown",
      "source": [
        "**2.2.7 배치데이터**"
      ],
      "metadata": {
        "id": "omoDYtj1VpLb"
      }
    },
    {
      "cell_type": "code",
      "source": [
        "batch = train_images[:128]"
      ],
      "metadata": {
        "id": "i_EyM0WFVtSO"
      },
      "execution_count": 34,
      "outputs": []
    },
    {
      "cell_type": "code",
      "source": [
        "batch = train_images[128:256]"
      ],
      "metadata": {
        "id": "tAi5T7JwVyzi"
      },
      "execution_count": 35,
      "outputs": []
    },
    {
      "cell_type": "code",
      "source": [
        "n=3\n",
        "batch=train_images[128*n:128*(n+1)]"
      ],
      "metadata": {
        "id": "a3GEvkQuV3iH"
      },
      "execution_count": 36,
      "outputs": []
    },
    {
      "cell_type": "markdown",
      "source": [
        "2.3"
      ],
      "metadata": {
        "id": "3jmdpspOs1rN"
      }
    },
    {
      "cell_type": "code",
      "source": [
        "keras.layers.Dense(512, activation=\"relu\")"
      ],
      "metadata": {
        "colab": {
          "base_uri": "https://localhost:8080/"
        },
        "id": "6jQeb9bpsz2Y",
        "outputId": "1d75205d-8f02-4348-e198-c73d8bf09cfa"
      },
      "execution_count": 38,
      "outputs": [
        {
          "output_type": "execute_result",
          "data": {
            "text/plain": [
              "<keras.layers.core.dense.Dense at 0x7f82919efd00>"
            ]
          },
          "metadata": {},
          "execution_count": 38
        }
      ]
    },
    {
      "cell_type": "code",
      "source": [
        "def native_relu(x):\n",
        "  assert len(x.shape) == 2\n",
        "  x=x.copy()\n",
        "  for i in range(x.shape[0]):\n",
        "    for j in range(x.shape[1]):\n",
        "      x[i, j]=max(x[i,j],0)\n",
        "  return x"
      ],
      "metadata": {
        "id": "_zxu6Re6tjF3"
      },
      "execution_count": 40,
      "outputs": []
    },
    {
      "cell_type": "code",
      "source": [
        "def native_add(x, y):\n",
        "  assert len(x.shape) == 2\n",
        "  assert x.shape == y.shape\n",
        "  x=x.copy()\n",
        "  for i in range(x.shape[0]):\n",
        "    for j in range(x.shape[1]):\n",
        "      x[i, j]+=y[i,j]\n",
        "  return x"
      ],
      "metadata": {
        "id": "qZSCWi6Kt7PL"
      },
      "execution_count": 41,
      "outputs": []
    },
    {
      "cell_type": "code",
      "source": [
        "import numpy as np\n",
        "import time\n",
        "\n",
        "x=np.random.random((20,100))\n",
        "y=np.random.random((20,100))\n",
        "\n",
        "t0=time.time()\n",
        "for _ in range(1000):\n",
        " z = x + y\n",
        " z=np.maximum(z, 0.)\n",
        "print(\"걸린시간 : {0:.2f} s\".format(time.time()-10))"
      ],
      "metadata": {
        "colab": {
          "base_uri": "https://localhost:8080/"
        },
        "id": "wEO7qSHHuKxc",
        "outputId": "b35106c6-45c7-44c1-da8a-01d49aa23faf"
      },
      "execution_count": 46,
      "outputs": [
        {
          "output_type": "stream",
          "name": "stdout",
          "text": [
            "걸린시간 : 1684864340.22 s\n"
          ]
        }
      ]
    },
    {
      "cell_type": "code",
      "source": [
        "t0=time.time()\n",
        "for _ in range(1000):\n",
        " z = native_add(x, y) #책 오류 수정\n",
        " z = native_relu(z)\n",
        "print(\"걸린시간 : {0:.2f} s\".format(time.time()-10))"
      ],
      "metadata": {
        "colab": {
          "base_uri": "https://localhost:8080/"
        },
        "id": "nXqfkYgpvgO6",
        "outputId": "8ed7c68f-add3-4d01-f2b5-b555ff03f891"
      },
      "execution_count": 51,
      "outputs": [
        {
          "output_type": "stream",
          "name": "stdout",
          "text": [
            "걸린시간 : 1684864509.39 s\n"
          ]
        }
      ]
    },
    {
      "cell_type": "markdown",
      "source": [
        "2.3.2"
      ],
      "metadata": {
        "id": "KBHgR0-6wHSa"
      }
    },
    {
      "cell_type": "code",
      "source": [
        "def native_add_matrix_and_vector(x,y):\n",
        "  assert len(x.shape) == 2\n",
        "  assert len(y.shape) == 1\n",
        "  assert x.shape[1] == y.shape[0]\n",
        "  x=x.copy()\n",
        "  for i in range(x.shape[0]):\n",
        "    for j in range(x.shape[1]):\n",
        "      x[i, j]+= y[j]\n",
        "  return x"
      ],
      "metadata": {
        "id": "lGrPogC5wFw_"
      },
      "execution_count": 52,
      "outputs": []
    },
    {
      "cell_type": "code",
      "source": [
        "import numpy as np\n",
        "x=np.random.random((64,3,32,10))\n",
        "y=np.random.random((32,10))\n",
        "z=np.maximum(x,y)"
      ],
      "metadata": {
        "id": "YCI0BcPdwudP"
      },
      "execution_count": 53,
      "outputs": []
    },
    {
      "cell_type": "markdown",
      "source": [
        "2.3.3 텐서 곱셈"
      ],
      "metadata": {
        "id": "QiXfrLN1w8OF"
      }
    },
    {
      "cell_type": "code",
      "source": [
        "x=np.random.random((32,))\n",
        "y=np.random.random((32,))\n",
        "z=np.dot(x,y)"
      ],
      "metadata": {
        "id": "EBPjWjQuw_QJ"
      },
      "execution_count": 54,
      "outputs": []
    },
    {
      "cell_type": "markdown",
      "source": [
        "2개의 벡터 x와 y의 점곱"
      ],
      "metadata": {
        "id": "W-76kq93xL-G"
      }
    },
    {
      "cell_type": "code",
      "source": [
        "def naive_vector_dot(x, y):\n",
        "  assert len(x.shape) == 1\n",
        "  assert len(y.shape) == 1\n",
        "  assert x.shape[0] == y.shape[0]\n",
        "  z=0.\n",
        "  for i in range(x.shape[0]):\n",
        "    z+=x[i]*y[i]\n",
        "  return z"
      ],
      "metadata": {
        "id": "exGDy22HxLVf"
      },
      "execution_count": 56,
      "outputs": []
    },
    {
      "cell_type": "code",
      "source": [
        "# from tensorflow.python.ops.math_ops import zeta_eager_fallback\n",
        "def naive_vector_dot(x, y):\n",
        "  assert len(x.shape) == 2 #넘파이행렬\n",
        "  assert len(y.shape) == 1 #넘파이 벡터\n",
        "  assert x.shape[0] == y.shape[0] #x의 두번째 차원이 y의 첫번째 차원과 같아야한다.\n",
        "  z=np.zeros(x.shape[0]) #x의 행과 같은 크기의 0이 채워진 벡터\n",
        "  for i in range(x.shape[0]):\n",
        "    for j in range(x.shape[i]):\n",
        "       z[i]+=x[i,j]*y[j]\n",
        "  return z"
      ],
      "metadata": {
        "id": "8KwrzpWjxswU"
      },
      "execution_count": 61,
      "outputs": []
    },
    {
      "cell_type": "markdown",
      "source": [
        "dot(x,y)와 dot(y,x)는 다르다"
      ],
      "metadata": {
        "id": "dObt_2FvyWpb"
      }
    },
    {
      "cell_type": "code",
      "source": [
        "def naive_matrix_vector_dot(x, y):\n",
        "   z=np.zeros(x.shape[0])\n",
        "   for i in range(x.shape[0]):\n",
        "    z[i]=naive_vector_dot(x[i, :], y)\n",
        "   return z"
      ],
      "metadata": {
        "id": "81mjx_XayQmx"
      },
      "execution_count": 66,
      "outputs": []
    },
    {
      "cell_type": "code",
      "source": [
        "def naive_matrix_dot(x, y):\n",
        "  assert len(x.shape) == 2\n",
        "  assert len(y.shape) == 2\n",
        "  assert x.shape[1] == y.shape[0]\n",
        "  z=np.zeros((x.shape[0], y.shape[1]))\n",
        "  for i in range(x.shape[0]):\n",
        "    for j in range(y.shape[1]):\n",
        "      row_x=x[i,:]\n",
        "      colum_y=y[:, j]\n",
        "      z[i, j]=naive_vector_dot(row_x, column_y)\n",
        "  return z\n",
        "  #x와 y의 접곱으로 인해 행렬이 되는 구현 "
      ],
      "metadata": {
        "id": "2I7woU2BzX0o"
      },
      "execution_count": 63,
      "outputs": []
    },
    {
      "cell_type": "markdown",
      "source": [
        "2.3.4 텐서 크기 변환"
      ],
      "metadata": {
        "id": "vjm0bOJdzRu5"
      }
    },
    {
      "cell_type": "code",
      "source": [],
      "metadata": {
        "id": "v4R_mj4azNfw"
      },
      "execution_count": null,
      "outputs": []
    }
  ]
}