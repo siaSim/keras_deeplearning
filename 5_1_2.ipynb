{
  "nbformat": 4,
  "nbformat_minor": 0,
  "metadata": {
    "colab": {
      "provenance": [],
      "authorship_tag": "ABX9TyMLd83o4fWsONQ+my5DSRG+",
      "include_colab_link": true
    },
    "kernelspec": {
      "name": "python3",
      "display_name": "Python 3"
    },
    "language_info": {
      "name": "python"
    }
  },
  "cells": [
    {
      "cell_type": "markdown",
      "metadata": {
        "id": "view-in-github",
        "colab_type": "text"
      },
      "source": [
        "<a href=\"https://colab.research.google.com/github/siaSim/keras_deeplearning/blob/main/5_1_2.ipynb\" target=\"_parent\"><img src=\"https://colab.research.google.com/assets/colab-badge.svg\" alt=\"Open In Colab\"/></a>"
      ]
    },
    {
      "cell_type": "markdown",
      "source": [
        "# **5.1 일반화 : 머신 러닝의 목표 **\n",
        "**5.1.1 과소적합과 과대적합**"
      ],
      "metadata": {
        "id": "JxOKGy1G4rCP"
      }
    },
    {
      "cell_type": "markdown",
      "source": [
        "MNIST에 백색 잡음 픽셀과 0픽셀 추가하기"
      ],
      "metadata": {
        "id": "s8RJZQ4KzKj0"
      }
    },
    {
      "cell_type": "code",
      "execution_count": 1,
      "metadata": {
        "colab": {
          "base_uri": "https://localhost:8080/"
        },
        "id": "KDKu5-RPzEKZ",
        "outputId": "0f9a38ec-af3f-41a1-ce4b-15a289a54453"
      },
      "outputs": [
        {
          "output_type": "stream",
          "name": "stdout",
          "text": [
            "Downloading data from https://storage.googleapis.com/tensorflow/tf-keras-datasets/mnist.npz\n",
            "11490434/11490434 [==============================] - 0s 0us/step\n"
          ]
        }
      ],
      "source": [
        "from tensorflow.keras.datasets import mnist\n",
        "import numpy as np\n",
        "\n",
        "(train_images, train_labels), _= mnist.load_data()\n",
        "train_images = train_images.reshape((60000, 28*28))\n",
        "tarin_images = train_images.astype(\"float32\")/255\n",
        "train_images_with_noise_channels = np.concatenate(\n",
        "    [train_images, np.random.random((len(train_images), 784))], axis=1)\n",
        "train_images_with_zeros_channels = np.concatenate(\n",
        "    [train_images, np.zeros((len(train_images), 784))], axis=1)"
      ]
    },
    {
      "cell_type": "markdown",
      "source": [
        "백색 잡음과 0을 추가한 MNIST 데이터에서 모델 훈련하기"
      ],
      "metadata": {
        "id": "Q2V8mxDI48Py"
      }
    },
    {
      "cell_type": "code",
      "source": [
        "from tensorflow import keras\n",
        "from tensorflow.keras import layers\n",
        "\n",
        "def get_model():\n",
        "  model = keras.Sequential([\n",
        "      layers.Dense(512, activation=\"relu\"),\n",
        "      layers.Dense(10, activation=\"softmax\")\n",
        "      ])\n",
        "  model.compile(optimizer=\"rmsprop\",\n",
        "                loss=\"sparse_categorical_crossentropy\",\n",
        "                metrics=[\"accuracy\"])\n",
        "  return model\n",
        "\n",
        "model = get_model()\n",
        "history_noise = model.fit(\n",
        "    train_images_with_noise_channels, train_labels,\n",
        "    epochs=10,\n",
        "    batch_size = 128,\n",
        "    validation_split=0.2)\n",
        "\n",
        "model = get_model()\n",
        "history_zeros = model.fit(\n",
        "    train_images_with_zeros_channels, train_labels,\n",
        "    epochs=10,\n",
        "    batch_size = 128,\n",
        "    validation_split=0.2)\n"
      ],
      "metadata": {
        "colab": {
          "base_uri": "https://localhost:8080/"
        },
        "id": "j1K6NXZG0Lzo",
        "outputId": "a1c1e331-8b97-412e-9853-155e1cfc35de"
      },
      "execution_count": 2,
      "outputs": [
        {
          "output_type": "stream",
          "name": "stdout",
          "text": [
            "Epoch 1/10\n",
            "375/375 [==============================] - 16s 38ms/step - loss: 5.6693 - accuracy: 0.8888 - val_loss: 0.8487 - val_accuracy: 0.9413\n",
            "Epoch 2/10\n",
            "375/375 [==============================] - 8s 22ms/step - loss: 0.6407 - accuracy: 0.9479 - val_loss: 0.8995 - val_accuracy: 0.9453\n",
            "Epoch 3/10\n",
            "375/375 [==============================] - 8s 20ms/step - loss: 0.4492 - accuracy: 0.9612 - val_loss: 0.6340 - val_accuracy: 0.9567\n",
            "Epoch 4/10\n",
            "375/375 [==============================] - 7s 19ms/step - loss: 0.3692 - accuracy: 0.9684 - val_loss: 0.6962 - val_accuracy: 0.9620\n",
            "Epoch 5/10\n",
            "375/375 [==============================] - 8s 21ms/step - loss: 0.3062 - accuracy: 0.9737 - val_loss: 0.7547 - val_accuracy: 0.9578\n",
            "Epoch 6/10\n",
            "375/375 [==============================] - 7s 19ms/step - loss: 0.2476 - accuracy: 0.9773 - val_loss: 0.6588 - val_accuracy: 0.9643\n",
            "Epoch 7/10\n",
            "375/375 [==============================] - 8s 21ms/step - loss: 0.2304 - accuracy: 0.9805 - val_loss: 0.7888 - val_accuracy: 0.9601\n",
            "Epoch 8/10\n",
            "375/375 [==============================] - 8s 20ms/step - loss: 0.2241 - accuracy: 0.9822 - val_loss: 0.6955 - val_accuracy: 0.9655\n",
            "Epoch 9/10\n",
            "375/375 [==============================] - 7s 20ms/step - loss: 0.1993 - accuracy: 0.9851 - val_loss: 0.9064 - val_accuracy: 0.9652\n",
            "Epoch 10/10\n",
            "375/375 [==============================] - 8s 20ms/step - loss: 0.2068 - accuracy: 0.9862 - val_loss: 0.9358 - val_accuracy: 0.9668\n",
            "Epoch 1/10\n",
            "375/375 [==============================] - 8s 20ms/step - loss: 6.5842 - accuracy: 0.8859 - val_loss: 1.0341 - val_accuracy: 0.9346\n",
            "Epoch 2/10\n",
            "375/375 [==============================] - 8s 22ms/step - loss: 0.6983 - accuracy: 0.9498 - val_loss: 0.6793 - val_accuracy: 0.9532\n",
            "Epoch 3/10\n",
            "375/375 [==============================] - 7s 20ms/step - loss: 0.5101 - accuracy: 0.9606 - val_loss: 0.7110 - val_accuracy: 0.9578\n",
            "Epoch 4/10\n",
            "375/375 [==============================] - 8s 21ms/step - loss: 0.3785 - accuracy: 0.9692 - val_loss: 0.7232 - val_accuracy: 0.9607\n",
            "Epoch 5/10\n",
            "375/375 [==============================] - 8s 21ms/step - loss: 0.3226 - accuracy: 0.9743 - val_loss: 0.6281 - val_accuracy: 0.9644\n",
            "Epoch 6/10\n",
            "375/375 [==============================] - 7s 19ms/step - loss: 0.2467 - accuracy: 0.9786 - val_loss: 0.6574 - val_accuracy: 0.9660\n",
            "Epoch 7/10\n",
            "375/375 [==============================] - 8s 21ms/step - loss: 0.2445 - accuracy: 0.9808 - val_loss: 0.7106 - val_accuracy: 0.9647\n",
            "Epoch 8/10\n",
            "375/375 [==============================] - 7s 18ms/step - loss: 0.2240 - accuracy: 0.9837 - val_loss: 0.7838 - val_accuracy: 0.9626\n",
            "Epoch 9/10\n",
            "375/375 [==============================] - 8s 20ms/step - loss: 0.2126 - accuracy: 0.9837 - val_loss: 0.7201 - val_accuracy: 0.9693\n",
            "Epoch 10/10\n",
            "375/375 [==============================] - 8s 21ms/step - loss: 0.1735 - accuracy: 0.9861 - val_loss: 0.7983 - val_accuracy: 0.9656\n"
          ]
        }
      ]
    },
    {
      "cell_type": "markdown",
      "source": [
        "검증 정확도 비교 그래프 그리기"
      ],
      "metadata": {
        "id": "6hfyiJar5AmZ"
      }
    },
    {
      "cell_type": "code",
      "source": [
        "import matplotlib.pyplot as plt\n",
        "\n",
        "val_acc_noise = history_noise.history[\"val_accuracy\"]\n",
        "val_acc_zeros = history_zeros.history[\"val_accuracy\"]\n",
        "epochs=range(1,11)\n",
        "plt.plot(epochs, val_acc_noise, \"b-\",\n",
        "         label=\"Validation accuracy with noise channels\")\n",
        "plt.plot(epochs, val_acc_zeros, \"b--\",\n",
        "         label=\"Validation accuracy with zeros channels\")\n",
        "plt.xlabel(\"Epochs\")\n",
        "plt.ylabel(\"Accuracy\")\n",
        "plt.legend()\n",
        "plt.show()"
      ],
      "metadata": {
        "colab": {
          "base_uri": "https://localhost:8080/",
          "height": 449
        },
        "id": "1E4o9ehF3JBi",
        "outputId": "38a3ecc1-e9a2-4dff-87a8-2520c4d72c72"
      },
      "execution_count": 3,
      "outputs": [
        {
          "output_type": "display_data",
          "data": {
            "text/plain": [
              "<Figure size 640x480 with 1 Axes>"
            ],
            "image/png": "[encoded data removed]"
          },
          "metadata": {}
        }
      ]
    },
    {
      "cell_type": "code",
      "source": [
        "(train_images, train_labels), _ = mnist.load_data()\n",
        "train_images = train_images.reshape((60000, 28*28))\n",
        "train_images = train_images.astype(\"float32\")/255\n",
        "\n",
        "random_train_labels = train_labels[:]\n",
        "np.random.shuffle(random_train_labels)\n",
        "\n",
        "model = keras.Sequential([\n",
        "    layers.Dense(512, activation=\"relu\"),\n",
        "    layers.Dense(10, activation=\"softmax\")\n",
        "])\n",
        "model.compile(optimizer=\"rmsprop\",\n",
        "              loss=\"sparse_categorical_crossentropy\",\n",
        "              metrics=[\"accuracy\"])\n",
        "model.fit(train_images, random_train_labels,\n",
        "          epochs=100,\n",
        "          batch_size=128,\n",
        "          validation_split=0.2)"
      ],
      "metadata": {
        "colab": {
          "base_uri": "https://localhost:8080/"
        },
        "id": "Z0YzK5qHDDrd",
        "outputId": "b66a5f0e-c702-4988-b72a-0ca93cbe7c08"
      },
      "execution_count": 8,
      "outputs": [
        {
          "output_type": "stream",
          "name": "stdout",
          "text": [
            "Epoch 1/100\n",
            "375/375 [==============================] - 5s 13ms/step - loss: 2.3145 - accuracy: 0.1058 - val_loss: 2.3094 - val_accuracy: 0.1014\n",
            "Epoch 2/100\n",
            "375/375 [==============================] - 4s 10ms/step - loss: 2.2992 - accuracy: 0.1163 - val_loss: 2.3123 - val_accuracy: 0.1043\n",
            "Epoch 3/100\n",
            "375/375 [==============================] - 6s 16ms/step - loss: 2.2911 - accuracy: 0.1268 - val_loss: 2.3178 - val_accuracy: 0.0995\n",
            "Epoch 4/100\n",
            "375/375 [==============================] - 5s 13ms/step - loss: 2.2787 - accuracy: 0.1373 - val_loss: 2.3248 - val_accuracy: 0.1016\n",
            "Epoch 5/100\n",
            "375/375 [==============================] - 4s 10ms/step - loss: 2.2630 - accuracy: 0.1503 - val_loss: 2.3487 - val_accuracy: 0.0973\n",
            "Epoch 6/100\n",
            "375/375 [==============================] - 4s 11ms/step - loss: 2.2428 - accuracy: 0.1649 - val_loss: 2.3602 - val_accuracy: 0.0977\n",
            "Epoch 7/100\n",
            "375/375 [==============================] - 5s 14ms/step - loss: 2.2193 - accuracy: 0.1826 - val_loss: 2.3750 - val_accuracy: 0.0999\n",
            "Epoch 8/100\n",
            "375/375 [==============================] - 4s 10ms/step - loss: 2.1929 - accuracy: 0.1969 - val_loss: 2.3873 - val_accuracy: 0.1012\n",
            "Epoch 9/100\n",
            "375/375 [==============================] - 4s 10ms/step - loss: 2.1631 - accuracy: 0.2139 - val_loss: 2.4122 - val_accuracy: 0.0993\n",
            "Epoch 10/100\n",
            "375/375 [==============================] - 6s 16ms/step - loss: 2.1305 - accuracy: 0.2305 - val_loss: 2.4307 - val_accuracy: 0.0968\n",
            "Epoch 11/100\n",
            "375/375 [==============================] - 4s 11ms/step - loss: 2.0953 - accuracy: 0.2481 - val_loss: 2.4472 - val_accuracy: 0.0990\n",
            "Epoch 12/100\n",
            "375/375 [==============================] - 4s 10ms/step - loss: 2.0593 - accuracy: 0.2640 - val_loss: 2.4762 - val_accuracy: 0.1032\n",
            "Epoch 13/100\n",
            "375/375 [==============================] - 5s 13ms/step - loss: 2.0221 - accuracy: 0.2786 - val_loss: 2.4980 - val_accuracy: 0.0962\n",
            "Epoch 14/100\n",
            "375/375 [==============================] - 4s 10ms/step - loss: 1.9843 - accuracy: 0.2988 - val_loss: 2.5210 - val_accuracy: 0.1016\n",
            "Epoch 15/100\n",
            "375/375 [==============================] - 4s 11ms/step - loss: 1.9439 - accuracy: 0.3161 - val_loss: 2.5825 - val_accuracy: 0.0997\n",
            "Epoch 16/100\n",
            "375/375 [==============================] - 5s 13ms/step - loss: 1.9040 - accuracy: 0.3291 - val_loss: 2.6023 - val_accuracy: 0.0997\n",
            "Epoch 17/100\n",
            "375/375 [==============================] - 4s 11ms/step - loss: 1.8663 - accuracy: 0.3467 - val_loss: 2.6373 - val_accuracy: 0.1010\n",
            "Epoch 18/100\n",
            "375/375 [==============================] - 4s 11ms/step - loss: 1.8266 - accuracy: 0.3621 - val_loss: 2.6577 - val_accuracy: 0.1004\n",
            "Epoch 19/100\n",
            "375/375 [==============================] - 5s 13ms/step - loss: 1.7870 - accuracy: 0.3793 - val_loss: 2.7104 - val_accuracy: 0.0994\n",
            "Epoch 20/100\n",
            "375/375 [==============================] - 4s 10ms/step - loss: 1.7485 - accuracy: 0.3931 - val_loss: 2.7586 - val_accuracy: 0.1008\n",
            "Epoch 21/100\n",
            "375/375 [==============================] - 4s 11ms/step - loss: 1.7108 - accuracy: 0.4069 - val_loss: 2.7925 - val_accuracy: 0.1003\n",
            "Epoch 22/100\n",
            "375/375 [==============================] - 5s 13ms/step - loss: 1.6746 - accuracy: 0.4208 - val_loss: 2.8267 - val_accuracy: 0.0979\n",
            "Epoch 23/100\n",
            "375/375 [==============================] - 4s 10ms/step - loss: 1.6366 - accuracy: 0.4380 - val_loss: 2.8701 - val_accuracy: 0.1021\n",
            "Epoch 24/100\n",
            "375/375 [==============================] - 4s 10ms/step - loss: 1.6014 - accuracy: 0.4512 - val_loss: 2.9174 - val_accuracy: 0.1043\n",
            "Epoch 25/100\n",
            "375/375 [==============================] - 5s 14ms/step - loss: 1.5671 - accuracy: 0.4630 - val_loss: 2.9609 - val_accuracy: 0.0996\n",
            "Epoch 26/100\n",
            "375/375 [==============================] - 4s 11ms/step - loss: 1.5331 - accuracy: 0.4760 - val_loss: 3.0285 - val_accuracy: 0.1024\n",
            "Epoch 27/100\n",
            "375/375 [==============================] - 4s 10ms/step - loss: 1.4995 - accuracy: 0.4876 - val_loss: 3.0865 - val_accuracy: 0.1029\n",
            "Epoch 28/100\n",
            "375/375 [==============================] - 5s 12ms/step - loss: 1.4667 - accuracy: 0.5011 - val_loss: 3.1164 - val_accuracy: 0.1018\n",
            "Epoch 29/100\n",
            "375/375 [==============================] - 4s 10ms/step - loss: 1.4340 - accuracy: 0.5120 - val_loss: 3.1548 - val_accuracy: 0.0998\n",
            "Epoch 30/100\n",
            "375/375 [==============================] - 4s 10ms/step - loss: 1.4037 - accuracy: 0.5228 - val_loss: 3.1844 - val_accuracy: 0.1002\n",
            "Epoch 31/100\n",
            "375/375 [==============================] - 5s 14ms/step - loss: 1.3720 - accuracy: 0.5367 - val_loss: 3.2479 - val_accuracy: 0.1059\n",
            "Epoch 32/100\n",
            "375/375 [==============================] - 4s 11ms/step - loss: 1.3436 - accuracy: 0.5443 - val_loss: 3.3176 - val_accuracy: 0.1008\n",
            "Epoch 33/100\n",
            "375/375 [==============================] - 4s 11ms/step - loss: 1.3147 - accuracy: 0.5557 - val_loss: 3.3785 - val_accuracy: 0.1013\n",
            "Epoch 34/100\n",
            "375/375 [==============================] - 5s 12ms/step - loss: 1.2832 - accuracy: 0.5669 - val_loss: 3.4200 - val_accuracy: 0.0979\n",
            "Epoch 35/100\n",
            "375/375 [==============================] - 4s 11ms/step - loss: 1.2584 - accuracy: 0.5775 - val_loss: 3.4669 - val_accuracy: 0.1020\n",
            "Epoch 36/100\n",
            "375/375 [==============================] - 4s 11ms/step - loss: 1.2294 - accuracy: 0.5862 - val_loss: 3.5478 - val_accuracy: 0.1016\n",
            "Epoch 37/100\n",
            "375/375 [==============================] - 5s 13ms/step - loss: 1.2064 - accuracy: 0.5943 - val_loss: 3.5737 - val_accuracy: 0.1017\n",
            "Epoch 38/100\n",
            "375/375 [==============================] - 4s 11ms/step - loss: 1.1788 - accuracy: 0.6039 - val_loss: 3.6669 - val_accuracy: 0.1012\n",
            "Epoch 39/100\n",
            "375/375 [==============================] - 4s 11ms/step - loss: 1.1550 - accuracy: 0.6114 - val_loss: 3.7037 - val_accuracy: 0.1010\n",
            "Epoch 40/100\n",
            "375/375 [==============================] - 5s 13ms/step - loss: 1.1310 - accuracy: 0.6215 - val_loss: 3.7437 - val_accuracy: 0.1002\n",
            "Epoch 41/100\n",
            "375/375 [==============================] - 4s 11ms/step - loss: 1.1070 - accuracy: 0.6304 - val_loss: 3.8430 - val_accuracy: 0.1028\n",
            "Epoch 42/100\n",
            "375/375 [==============================] - 5s 13ms/step - loss: 1.0817 - accuracy: 0.6409 - val_loss: 3.8838 - val_accuracy: 0.0990\n",
            "Epoch 43/100\n",
            "375/375 [==============================] - 4s 11ms/step - loss: 1.0601 - accuracy: 0.6485 - val_loss: 3.9073 - val_accuracy: 0.1020\n",
            "Epoch 44/100\n",
            "375/375 [==============================] - 4s 9ms/step - loss: 1.0391 - accuracy: 0.6522 - val_loss: 4.0067 - val_accuracy: 0.1012\n",
            "Epoch 45/100\n",
            "375/375 [==============================] - 4s 11ms/step - loss: 1.0179 - accuracy: 0.6628 - val_loss: 4.0709 - val_accuracy: 0.1009\n",
            "Epoch 46/100\n",
            "375/375 [==============================] - 5s 12ms/step - loss: 0.9939 - accuracy: 0.6712 - val_loss: 4.1149 - val_accuracy: 0.0990\n",
            "Epoch 47/100\n",
            "375/375 [==============================] - 4s 11ms/step - loss: 0.9745 - accuracy: 0.6791 - val_loss: 4.1738 - val_accuracy: 0.0983\n",
            "Epoch 48/100\n",
            "375/375 [==============================] - 4s 12ms/step - loss: 0.9555 - accuracy: 0.6857 - val_loss: 4.2417 - val_accuracy: 0.1007\n",
            "Epoch 49/100\n",
            "375/375 [==============================] - 4s 12ms/step - loss: 0.9360 - accuracy: 0.6913 - val_loss: 4.3174 - val_accuracy: 0.1003\n",
            "Epoch 50/100\n",
            "375/375 [==============================] - 4s 11ms/step - loss: 0.9143 - accuracy: 0.6991 - val_loss: 4.3921 - val_accuracy: 0.0993\n",
            "Epoch 51/100\n",
            "375/375 [==============================] - 4s 12ms/step - loss: 0.8975 - accuracy: 0.7051 - val_loss: 4.4283 - val_accuracy: 0.1021\n",
            "Epoch 52/100\n",
            "375/375 [==============================] - 5s 12ms/step - loss: 0.8757 - accuracy: 0.7117 - val_loss: 4.4727 - val_accuracy: 0.0984\n",
            "Epoch 53/100\n",
            "375/375 [==============================] - 4s 11ms/step - loss: 0.8617 - accuracy: 0.7156 - val_loss: 4.6002 - val_accuracy: 0.0989\n",
            "Epoch 54/100\n",
            "375/375 [==============================] - 5s 12ms/step - loss: 0.8428 - accuracy: 0.7235 - val_loss: 4.5986 - val_accuracy: 0.0988\n",
            "Epoch 55/100\n",
            "375/375 [==============================] - 4s 11ms/step - loss: 0.8233 - accuracy: 0.7316 - val_loss: 4.6867 - val_accuracy: 0.0996\n",
            "Epoch 56/100\n",
            "375/375 [==============================] - 4s 10ms/step - loss: 0.8099 - accuracy: 0.7359 - val_loss: 4.7141 - val_accuracy: 0.1008\n",
            "Epoch 57/100\n",
            "375/375 [==============================] - 5s 12ms/step - loss: 0.7927 - accuracy: 0.7426 - val_loss: 4.8275 - val_accuracy: 0.0991\n",
            "Epoch 58/100\n",
            "375/375 [==============================] - 4s 12ms/step - loss: 0.7768 - accuracy: 0.7477 - val_loss: 4.9136 - val_accuracy: 0.1013\n",
            "Epoch 59/100\n",
            "375/375 [==============================] - 4s 10ms/step - loss: 0.7609 - accuracy: 0.7522 - val_loss: 4.9711 - val_accuracy: 0.0993\n",
            "Epoch 60/100\n",
            "375/375 [==============================] - 4s 12ms/step - loss: 0.7450 - accuracy: 0.7585 - val_loss: 5.0313 - val_accuracy: 0.1002\n",
            "Epoch 61/100\n",
            "375/375 [==============================] - 4s 12ms/step - loss: 0.7317 - accuracy: 0.7620 - val_loss: 5.0922 - val_accuracy: 0.0978\n",
            "Epoch 62/100\n",
            "375/375 [==============================] - 4s 11ms/step - loss: 0.7159 - accuracy: 0.7667 - val_loss: 5.1664 - val_accuracy: 0.1031\n",
            "Epoch 63/100\n",
            "375/375 [==============================] - 5s 12ms/step - loss: 0.6993 - accuracy: 0.7744 - val_loss: 5.2613 - val_accuracy: 0.1002\n",
            "Epoch 64/100\n",
            "375/375 [==============================] - 5s 12ms/step - loss: 0.6865 - accuracy: 0.7782 - val_loss: 5.3079 - val_accuracy: 0.0978\n",
            "Epoch 65/100\n",
            "375/375 [==============================] - 4s 10ms/step - loss: 0.6739 - accuracy: 0.7829 - val_loss: 5.3920 - val_accuracy: 0.0991\n",
            "Epoch 66/100\n",
            "375/375 [==============================] - 4s 12ms/step - loss: 0.6596 - accuracy: 0.7877 - val_loss: 5.4410 - val_accuracy: 0.1011\n",
            "Epoch 67/100\n",
            "375/375 [==============================] - 4s 11ms/step - loss: 0.6462 - accuracy: 0.7927 - val_loss: 5.4983 - val_accuracy: 0.1016\n",
            "Epoch 68/100\n",
            "375/375 [==============================] - 4s 10ms/step - loss: 0.6350 - accuracy: 0.7952 - val_loss: 5.6095 - val_accuracy: 0.0981\n",
            "Epoch 69/100\n",
            "375/375 [==============================] - 4s 12ms/step - loss: 0.6212 - accuracy: 0.7991 - val_loss: 5.6469 - val_accuracy: 0.0999\n",
            "Epoch 70/100\n",
            "375/375 [==============================] - 4s 11ms/step - loss: 0.6097 - accuracy: 0.8034 - val_loss: 5.7225 - val_accuracy: 0.1011\n",
            "Epoch 71/100\n",
            "375/375 [==============================] - 4s 11ms/step - loss: 0.5981 - accuracy: 0.8080 - val_loss: 5.7885 - val_accuracy: 0.0983\n",
            "Epoch 72/100\n",
            "375/375 [==============================] - 4s 11ms/step - loss: 0.5867 - accuracy: 0.8119 - val_loss: 5.8328 - val_accuracy: 0.0987\n",
            "Epoch 73/100\n",
            "375/375 [==============================] - 5s 13ms/step - loss: 0.5732 - accuracy: 0.8166 - val_loss: 5.9491 - val_accuracy: 0.1045\n",
            "Epoch 74/100\n",
            "375/375 [==============================] - 4s 10ms/step - loss: 0.5617 - accuracy: 0.8205 - val_loss: 6.0117 - val_accuracy: 0.0994\n",
            "Epoch 75/100\n",
            "375/375 [==============================] - 4s 10ms/step - loss: 0.5531 - accuracy: 0.8238 - val_loss: 6.1008 - val_accuracy: 0.0979\n",
            "Epoch 76/100\n",
            "375/375 [==============================] - 5s 13ms/step - loss: 0.5408 - accuracy: 0.8296 - val_loss: 6.1758 - val_accuracy: 0.1001\n",
            "Epoch 77/100\n",
            "375/375 [==============================] - 4s 10ms/step - loss: 0.5279 - accuracy: 0.8318 - val_loss: 6.2266 - val_accuracy: 0.1036\n",
            "Epoch 78/100\n",
            "375/375 [==============================] - 4s 11ms/step - loss: 0.5214 - accuracy: 0.8363 - val_loss: 6.2844 - val_accuracy: 0.1020\n",
            "Epoch 79/100\n",
            "375/375 [==============================] - 5s 13ms/step - loss: 0.5091 - accuracy: 0.8392 - val_loss: 6.3914 - val_accuracy: 0.0986\n",
            "Epoch 80/100\n",
            "375/375 [==============================] - 4s 10ms/step - loss: 0.5021 - accuracy: 0.8426 - val_loss: 6.4126 - val_accuracy: 0.0994\n",
            "Epoch 81/100\n",
            "375/375 [==============================] - 4s 11ms/step - loss: 0.4891 - accuracy: 0.8447 - val_loss: 6.5020 - val_accuracy: 0.1011\n",
            "Epoch 82/100\n",
            "375/375 [==============================] - 5s 13ms/step - loss: 0.4805 - accuracy: 0.8490 - val_loss: 6.5885 - val_accuracy: 0.0998\n",
            "Epoch 83/100\n",
            "375/375 [==============================] - 5s 13ms/step - loss: 0.4736 - accuracy: 0.8504 - val_loss: 6.7078 - val_accuracy: 0.0992\n",
            "Epoch 84/100\n",
            "375/375 [==============================] - 5s 13ms/step - loss: 0.4634 - accuracy: 0.8534 - val_loss: 6.7598 - val_accuracy: 0.1037\n",
            "Epoch 85/100\n",
            "375/375 [==============================] - 4s 12ms/step - loss: 0.4547 - accuracy: 0.8570 - val_loss: 6.8224 - val_accuracy: 0.1032\n",
            "Epoch 86/100\n",
            "375/375 [==============================] - 4s 11ms/step - loss: 0.4459 - accuracy: 0.8605 - val_loss: 6.8881 - val_accuracy: 0.1046\n",
            "Epoch 87/100\n",
            "375/375 [==============================] - 5s 15ms/step - loss: 0.4383 - accuracy: 0.8616 - val_loss: 6.9835 - val_accuracy: 0.1018\n",
            "Epoch 88/100\n",
            "375/375 [==============================] - 4s 11ms/step - loss: 0.4281 - accuracy: 0.8648 - val_loss: 7.0416 - val_accuracy: 0.1002\n",
            "Epoch 89/100\n",
            "375/375 [==============================] - 4s 11ms/step - loss: 0.4213 - accuracy: 0.8683 - val_loss: 7.1421 - val_accuracy: 0.1023\n",
            "Epoch 90/100\n",
            "375/375 [==============================] - 5s 13ms/step - loss: 0.4145 - accuracy: 0.8706 - val_loss: 7.1876 - val_accuracy: 0.1004\n",
            "Epoch 91/100\n",
            "375/375 [==============================] - 4s 11ms/step - loss: 0.4068 - accuracy: 0.8730 - val_loss: 7.2793 - val_accuracy: 0.1023\n",
            "Epoch 92/100\n",
            "375/375 [==============================] - 4s 10ms/step - loss: 0.3980 - accuracy: 0.8767 - val_loss: 7.3870 - val_accuracy: 0.1040\n",
            "Epoch 93/100\n",
            "375/375 [==============================] - 5s 14ms/step - loss: 0.3911 - accuracy: 0.8790 - val_loss: 7.4225 - val_accuracy: 0.1002\n",
            "Epoch 94/100\n",
            "375/375 [==============================] - 4s 11ms/step - loss: 0.3840 - accuracy: 0.8815 - val_loss: 7.4339 - val_accuracy: 0.1035\n",
            "Epoch 95/100\n",
            "375/375 [==============================] - 4s 11ms/step - loss: 0.3776 - accuracy: 0.8830 - val_loss: 7.6019 - val_accuracy: 0.1018\n",
            "Epoch 96/100\n",
            "375/375 [==============================] - 5s 14ms/step - loss: 0.3686 - accuracy: 0.8865 - val_loss: 7.6158 - val_accuracy: 0.1013\n",
            "Epoch 97/100\n",
            "375/375 [==============================] - 4s 11ms/step - loss: 0.3634 - accuracy: 0.8871 - val_loss: 7.7666 - val_accuracy: 0.1016\n",
            "Epoch 98/100\n",
            "375/375 [==============================] - 4s 11ms/step - loss: 0.3573 - accuracy: 0.8883 - val_loss: 7.8011 - val_accuracy: 0.1039\n",
            "Epoch 99/100\n",
            "375/375 [==============================] - 5s 14ms/step - loss: 0.3522 - accuracy: 0.8906 - val_loss: 7.8515 - val_accuracy: 0.1011\n",
            "Epoch 100/100\n",
            "375/375 [==============================] - 4s 10ms/step - loss: 0.3452 - accuracy: 0.8935 - val_loss: 7.9638 - val_accuracy: 0.0985\n"
          ]
        },
        {
          "output_type": "execute_result",
          "data": {
            "text/plain": [
              "<keras.src.callbacks.History at 0x7e8dfdd1fe20>"
            ]
          },
          "metadata": {},
          "execution_count": 8
        }
      ]
    }
  ]
}