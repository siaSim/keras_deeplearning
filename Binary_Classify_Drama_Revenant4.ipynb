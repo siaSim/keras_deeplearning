{
  "nbformat": 4,
  "nbformat_minor": 0,
  "metadata": {
    "colab": {
      "provenance": [],
      "authorship_tag": "ABX9TyMlq1SQZ2f+vJLwiDthkRFo",
      "include_colab_link": true
    },
    "kernelspec": {
      "name": "python3",
      "display_name": "Python 3"
    },
    "language_info": {
      "name": "python"
    }
  },
  "cells": [
    {
      "cell_type": "markdown",
      "metadata": {
        "id": "view-in-github",
        "colab_type": "text"
      },
      "source": [
        "<a href=\"https://colab.research.google.com/github/siaSim/keras_deeplearning/blob/main/Binary_Classify_Drama_Revenant4.ipynb\" target=\"_parent\"><img src=\"https://colab.research.google.com/assets/colab-badge.svg\" alt=\"Open In Colab\"/></a>"
      ]
    },
    {
      "cell_type": "code",
      "execution_count": null,
      "metadata": {
        "colab": {
          "base_uri": "https://localhost:8080/",
          "height": 668
        },
        "id": "IBk6A58mTTEA",
        "outputId": "53239805-67ab-4bae-bbed-3491669e276f"
      },
      "outputs": [
        {
          "output_type": "stream",
          "name": "stdout",
          "text": [
            "Requirement already satisfied: konlpy in /usr/local/lib/python3.10/dist-packages (0.6.0)\n",
            "Requirement already satisfied: JPype1>=0.7.0 in /usr/local/lib/python3.10/dist-packages (from konlpy) (1.4.1)\n",
            "Requirement already satisfied: lxml>=4.1.0 in /usr/local/lib/python3.10/dist-packages (from konlpy) (4.9.3)\n",
            "Requirement already satisfied: numpy>=1.6 in /usr/local/lib/python3.10/dist-packages (from konlpy) (1.23.5)\n",
            "Requirement already satisfied: packaging in /usr/local/lib/python3.10/dist-packages (from JPype1>=0.7.0->konlpy) (23.1)\n",
            "Requirement already satisfied: mecab-python in /usr/local/lib/python3.10/dist-packages (1.0.0)\n",
            "Requirement already satisfied: mecab-python3 in /usr/local/lib/python3.10/dist-packages (from mecab-python) (1.0.8)\n",
            "Requirement already satisfied: matplotlib in /usr/local/lib/python3.10/dist-packages (3.7.1)\n",
            "Collecting matplotlib\n",
            "  Downloading matplotlib-3.8.0-cp310-cp310-manylinux_2_17_x86_64.manylinux2014_x86_64.whl (11.6 MB)\n",
            "\u001b[2K     \u001b[90m━━━━━━━━━━━━━━━━━━━━━━━━━━━━━━━━━━━━━━━━\u001b[0m \u001b[32m11.6/11.6 MB\u001b[0m \u001b[31m28.1 MB/s\u001b[0m eta \u001b[36m0:00:00\u001b[0m\n",
            "\u001b[?25hRequirement already satisfied: contourpy>=1.0.1 in /usr/local/lib/python3.10/dist-packages (from matplotlib) (1.1.0)\n",
            "Requirement already satisfied: cycler>=0.10 in /usr/local/lib/python3.10/dist-packages (from matplotlib) (0.11.0)\n",
            "Requirement already satisfied: fonttools>=4.22.0 in /usr/local/lib/python3.10/dist-packages (from matplotlib) (4.42.1)\n",
            "Requirement already satisfied: kiwisolver>=1.0.1 in /usr/local/lib/python3.10/dist-packages (from matplotlib) (1.4.5)\n",
            "Requirement already satisfied: numpy<2,>=1.21 in /usr/local/lib/python3.10/dist-packages (from matplotlib) (1.23.5)\n",
            "Requirement already satisfied: packaging>=20.0 in /usr/local/lib/python3.10/dist-packages (from matplotlib) (23.1)\n",
            "Requirement already satisfied: pillow>=6.2.0 in /usr/local/lib/python3.10/dist-packages (from matplotlib) (9.4.0)\n",
            "Requirement already satisfied: pyparsing>=2.3.1 in /usr/local/lib/python3.10/dist-packages (from matplotlib) (3.1.1)\n",
            "Requirement already satisfied: python-dateutil>=2.7 in /usr/local/lib/python3.10/dist-packages (from matplotlib) (2.8.2)\n",
            "Requirement already satisfied: six>=1.5 in /usr/local/lib/python3.10/dist-packages (from python-dateutil>=2.7->matplotlib) (1.16.0)\n",
            "Installing collected packages: matplotlib\n",
            "  Attempting uninstall: matplotlib\n",
            "    Found existing installation: matplotlib 3.7.1\n",
            "    Uninstalling matplotlib-3.7.1:\n",
            "      Successfully uninstalled matplotlib-3.7.1\n",
            "Successfully installed matplotlib-3.8.0\n"
          ]
        },
        {
          "output_type": "display_data",
          "data": {
            "application/vnd.colab-display-data+json": {
              "pip_warning": {
                "packages": [
                  "matplotlib",
                  "mpl_toolkits"
                ]
              }
            }
          },
          "metadata": {}
        },
        {
          "output_type": "stream",
          "name": "stdout",
          "text": [
            "mecab-ko is already installed\n",
            "mecab-ko-dic is already installed\n",
            "mecab-python is already installed\n",
            "Done.\n"
          ]
        }
      ],
      "source": [
        "# Colab에 Mecab 설치\n",
        "!pip install konlpy\n",
        "!pip install mecab-python\n",
        "!pip install --upgrade matplotlib\n",
        "!bash <(curl -s https://raw.githubusercontent.com/konlpy/konlpy/master/scripts/mecab.sh)"
      ]
    },
    {
      "cell_type": "code",
      "source": [
        "import re\n",
        "import pandas as pd\n",
        "import numpy as np\n",
        "import matplotlib.pyplot as plt\n",
        "import urllib.request\n",
        "from collections import Counter\n",
        "from konlpy.tag import Mecab\n",
        "from sklearn.model_selection import train_test_split\n",
        "from tensorflow.keras.preprocessing.text import Tokenizer\n",
        "from tensorflow.keras.preprocessing.sequence import pad_sequences"
      ],
      "metadata": {
        "id": "ztoGsLtXTWxT"
      },
      "execution_count": null,
      "outputs": []
    },
    {
      "cell_type": "code",
      "source": [
        "total_data = pd.read_csv('./dramareview.csv', names=['reviews', 'ratings'])\n",
        "print('전체 리뷰 개수 :',len(total_data)) # 전체 리뷰 개수 출력\n"
      ],
      "metadata": {
        "colab": {
          "base_uri": "https://localhost:8080/"
        },
        "id": "xxN3GlyFT2gq",
        "outputId": "8edfcd34-6f9a-434d-b9ae-768c20023cc0"
      },
      "execution_count": null,
      "outputs": [
        {
          "output_type": "stream",
          "name": "stdout",
          "text": [
            "전체 리뷰 개수 : 117\n"
          ]
        }
      ]
    },
    {
      "cell_type": "code",
      "source": [
        "total_data[:5]"
      ],
      "metadata": {
        "colab": {
          "base_uri": "https://localhost:8080/",
          "height": 206
        },
        "id": "tvMIyNt0Uarj",
        "outputId": "3ae62c26-f5cf-4cfa-d874-fac79a7ba7ab"
      },
      "execution_count": null,
      "outputs": [
        {
          "output_type": "execute_result",
          "data": {
            "text/plain": [
              "                                                    reviews  ratings\n",
              "박지현       신기하게도, 모든 것이 부자연스럽다. 대궐같은 한옥에서의 첫장면만 한국식 호러물로써...      4.0\n",
              "Magnolia  악귀는 왜 악귀가 되었는가, 진정한 악은 무엇인가, 에 대한 소름 끼치는 진단서.\\...      5.0\n",
              "여수        김은희 작가는 왜 이렇게 고평가 되는 걸까 너무 유치하고 개연성 떨어지는 설정 동창...      2.0\n",
              "윤제아빠      역시나..문제는 장르...\\n.\\n.\\n#이장르는정말못보겠다\\n#공감을못하는병인건가...      1.0\n",
              "다현        내가 장담하는데 이거 방영하고 홍경 빵 뜬다에 내 손모가지 발모가지 다 건다.\\n+...      5.0"
            ],
            "text/html": [
              "\n",
              "  <div id=\"df-81032d8a-32c2-49f4-9f7a-ad6111f08b3b\" class=\"colab-df-container\">\n",
              "    <div>\n",
              "<style scoped>\n",
              "    .dataframe tbody tr th:only-of-type {\n",
              "        vertical-align: middle;\n",
              "    }\n",
              "\n",
              "    .dataframe tbody tr th {\n",
              "        vertical-align: top;\n",
              "    }\n",
              "\n",
              "    .dataframe thead th {\n",
              "        text-align: right;\n",
              "    }\n",
              "</style>\n",
              "<table border=\"1\" class=\"dataframe\">\n",
              "  <thead>\n",
              "    <tr style=\"text-align: right;\">\n",
              "      <th></th>\n",
              "      <th>reviews</th>\n",
              "      <th>ratings</th>\n",
              "    </tr>\n",
              "  </thead>\n",
              "  <tbody>\n",
              "    <tr>\n",
              "      <th>박지현</th>\n",
              "      <td>신기하게도, 모든 것이 부자연스럽다. 대궐같은 한옥에서의 첫장면만 한국식 호러물로써...</td>\n",
              "      <td>4.0</td>\n",
              "    </tr>\n",
              "    <tr>\n",
              "      <th>Magnolia</th>\n",
              "      <td>악귀는 왜 악귀가 되었는가, 진정한 악은 무엇인가, 에 대한 소름 끼치는 진단서.\\...</td>\n",
              "      <td>5.0</td>\n",
              "    </tr>\n",
              "    <tr>\n",
              "      <th>여수</th>\n",
              "      <td>김은희 작가는 왜 이렇게 고평가 되는 걸까 너무 유치하고 개연성 떨어지는 설정 동창...</td>\n",
              "      <td>2.0</td>\n",
              "    </tr>\n",
              "    <tr>\n",
              "      <th>윤제아빠</th>\n",
              "      <td>역시나..문제는 장르...\\n.\\n.\\n#이장르는정말못보겠다\\n#공감을못하는병인건가...</td>\n",
              "      <td>1.0</td>\n",
              "    </tr>\n",
              "    <tr>\n",
              "      <th>다현</th>\n",
              "      <td>내가 장담하는데 이거 방영하고 홍경 빵 뜬다에 내 손모가지 발모가지 다 건다.\\n+...</td>\n",
              "      <td>5.0</td>\n",
              "    </tr>\n",
              "  </tbody>\n",
              "</table>\n",
              "</div>\n",
              "    <div class=\"colab-df-buttons\">\n",
              "\n",
              "  <div class=\"colab-df-container\">\n",
              "    <button class=\"colab-df-convert\" onclick=\"convertToInteractive('df-81032d8a-32c2-49f4-9f7a-ad6111f08b3b')\"\n",
              "            title=\"Convert this dataframe to an interactive table.\"\n",
              "            style=\"display:none;\">\n",
              "\n",
              "  <svg xmlns=\"http://www.w3.org/2000/svg\" height=\"24px\" viewBox=\"0 -960 960 960\">\n",
              "    <path d=\"M120-120v-720h720v720H120Zm60-500h600v-160H180v160Zm220 220h160v-160H400v160Zm0 220h160v-160H400v160ZM180-400h160v-160H180v160Zm440 0h160v-160H620v160ZM180-180h160v-160H180v160Zm440 0h160v-160H620v160Z\"/>\n",
              "  </svg>\n",
              "    </button>\n",
              "\n",
              "  <style>\n",
              "    .colab-df-container {\n",
              "      display:flex;\n",
              "      gap: 12px;\n",
              "    }\n",
              "\n",
              "    .colab-df-convert {\n",
              "      background-color: #E8F0FE;\n",
              "      border: none;\n",
              "      border-radius: 50%;\n",
              "      cursor: pointer;\n",
              "      display: none;\n",
              "      fill: #1967D2;\n",
              "      height: 32px;\n",
              "      padding: 0 0 0 0;\n",
              "      width: 32px;\n",
              "    }\n",
              "\n",
              "    .colab-df-convert:hover {\n",
              "      background-color: #E2EBFA;\n",
              "      box-shadow: 0px 1px 2px rgba(60, 64, 67, 0.3), 0px 1px 3px 1px rgba(60, 64, 67, 0.15);\n",
              "      fill: #174EA6;\n",
              "    }\n",
              "\n",
              "    .colab-df-buttons div {\n",
              "      margin-bottom: 4px;\n",
              "    }\n",
              "\n",
              "    [theme=dark] .colab-df-convert {\n",
              "      background-color: #3B4455;\n",
              "      fill: #D2E3FC;\n",
              "    }\n",
              "\n",
              "    [theme=dark] .colab-df-convert:hover {\n",
              "      background-color: #434B5C;\n",
              "      box-shadow: 0px 1px 3px 1px rgba(0, 0, 0, 0.15);\n",
              "      filter: drop-shadow(0px 1px 2px rgba(0, 0, 0, 0.3));\n",
              "      fill: #FFFFFF;\n",
              "    }\n",
              "  </style>\n",
              "\n",
              "    <script>\n",
              "      const buttonEl =\n",
              "        document.querySelector('#df-81032d8a-32c2-49f4-9f7a-ad6111f08b3b button.colab-df-convert');\n",
              "      buttonEl.style.display =\n",
              "        google.colab.kernel.accessAllowed ? 'block' : 'none';\n",
              "\n",
              "      async function convertToInteractive(key) {\n",
              "        const element = document.querySelector('#df-81032d8a-32c2-49f4-9f7a-ad6111f08b3b');\n",
              "        const dataTable =\n",
              "          await google.colab.kernel.invokeFunction('convertToInteractive',\n",
              "                                                    [key], {});\n",
              "        if (!dataTable) return;\n",
              "\n",
              "        const docLinkHtml = 'Like what you see? Visit the ' +\n",
              "          '<a target=\"_blank\" href=https://colab.research.google.com/notebooks/data_table.ipynb>data table notebook</a>'\n",
              "          + ' to learn more about interactive tables.';\n",
              "        element.innerHTML = '';\n",
              "        dataTable['output_type'] = 'display_data';\n",
              "        await google.colab.output.renderOutput(dataTable, element);\n",
              "        const docLink = document.createElement('div');\n",
              "        docLink.innerHTML = docLinkHtml;\n",
              "        element.appendChild(docLink);\n",
              "      }\n",
              "    </script>\n",
              "  </div>\n",
              "\n",
              "\n",
              "<div id=\"df-a26817e0-c7e6-4c6c-af12-a00c03d74a04\">\n",
              "  <button class=\"colab-df-quickchart\" onclick=\"quickchart('df-a26817e0-c7e6-4c6c-af12-a00c03d74a04')\"\n",
              "            title=\"Suggest charts.\"\n",
              "            style=\"display:none;\">\n",
              "\n",
              "<svg xmlns=\"http://www.w3.org/2000/svg\" height=\"24px\"viewBox=\"0 0 24 24\"\n",
              "     width=\"24px\">\n",
              "    <g>\n",
              "        <path d=\"M19 3H5c-1.1 0-2 .9-2 2v14c0 1.1.9 2 2 2h14c1.1 0 2-.9 2-2V5c0-1.1-.9-2-2-2zM9 17H7v-7h2v7zm4 0h-2V7h2v10zm4 0h-2v-4h2v4z\"/>\n",
              "    </g>\n",
              "</svg>\n",
              "  </button>\n",
              "\n",
              "<style>\n",
              "  .colab-df-quickchart {\n",
              "      --bg-color: #E8F0FE;\n",
              "      --fill-color: #1967D2;\n",
              "      --hover-bg-color: #E2EBFA;\n",
              "      --hover-fill-color: #174EA6;\n",
              "      --disabled-fill-color: #AAA;\n",
              "      --disabled-bg-color: #DDD;\n",
              "  }\n",
              "\n",
              "  [theme=dark] .colab-df-quickchart {\n",
              "      --bg-color: #3B4455;\n",
              "      --fill-color: #D2E3FC;\n",
              "      --hover-bg-color: #434B5C;\n",
              "      --hover-fill-color: #FFFFFF;\n",
              "      --disabled-bg-color: #3B4455;\n",
              "      --disabled-fill-color: #666;\n",
              "  }\n",
              "\n",
              "  .colab-df-quickchart {\n",
              "    background-color: var(--bg-color);\n",
              "    border: none;\n",
              "    border-radius: 50%;\n",
              "    cursor: pointer;\n",
              "    display: none;\n",
              "    fill: var(--fill-color);\n",
              "    height: 32px;\n",
              "    padding: 0;\n",
              "    width: 32px;\n",
              "  }\n",
              "\n",
              "  .colab-df-quickchart:hover {\n",
              "    background-color: var(--hover-bg-color);\n",
              "    box-shadow: 0 1px 2px rgba(60, 64, 67, 0.3), 0 1px 3px 1px rgba(60, 64, 67, 0.15);\n",
              "    fill: var(--button-hover-fill-color);\n",
              "  }\n",
              "\n",
              "  .colab-df-quickchart-complete:disabled,\n",
              "  .colab-df-quickchart-complete:disabled:hover {\n",
              "    background-color: var(--disabled-bg-color);\n",
              "    fill: var(--disabled-fill-color);\n",
              "    box-shadow: none;\n",
              "  }\n",
              "\n",
              "  .colab-df-spinner {\n",
              "    border: 2px solid var(--fill-color);\n",
              "    border-color: transparent;\n",
              "    border-bottom-color: var(--fill-color);\n",
              "    animation:\n",
              "      spin 1s steps(1) infinite;\n",
              "  }\n",
              "\n",
              "  @keyframes spin {\n",
              "    0% {\n",
              "      border-color: transparent;\n",
              "      border-bottom-color: var(--fill-color);\n",
              "      border-left-color: var(--fill-color);\n",
              "    }\n",
              "    20% {\n",
              "      border-color: transparent;\n",
              "      border-left-color: var(--fill-color);\n",
              "      border-top-color: var(--fill-color);\n",
              "    }\n",
              "    30% {\n",
              "      border-color: transparent;\n",
              "      border-left-color: var(--fill-color);\n",
              "      border-top-color: var(--fill-color);\n",
              "      border-right-color: var(--fill-color);\n",
              "    }\n",
              "    40% {\n",
              "      border-color: transparent;\n",
              "      border-right-color: var(--fill-color);\n",
              "      border-top-color: var(--fill-color);\n",
              "    }\n",
              "    60% {\n",
              "      border-color: transparent;\n",
              "      border-right-color: var(--fill-color);\n",
              "    }\n",
              "    80% {\n",
              "      border-color: transparent;\n",
              "      border-right-color: var(--fill-color);\n",
              "      border-bottom-color: var(--fill-color);\n",
              "    }\n",
              "    90% {\n",
              "      border-color: transparent;\n",
              "      border-bottom-color: var(--fill-color);\n",
              "    }\n",
              "  }\n",
              "</style>\n",
              "\n",
              "  <script>\n",
              "    async function quickchart(key) {\n",
              "      const quickchartButtonEl =\n",
              "        document.querySelector('#' + key + ' button');\n",
              "      quickchartButtonEl.disabled = true;  // To prevent multiple clicks.\n",
              "      quickchartButtonEl.classList.add('colab-df-spinner');\n",
              "      try {\n",
              "        const charts = await google.colab.kernel.invokeFunction(\n",
              "            'suggestCharts', [key], {});\n",
              "      } catch (error) {\n",
              "        console.error('Error during call to suggestCharts:', error);\n",
              "      }\n",
              "      quickchartButtonEl.classList.remove('colab-df-spinner');\n",
              "      quickchartButtonEl.classList.add('colab-df-quickchart-complete');\n",
              "    }\n",
              "    (() => {\n",
              "      let quickchartButtonEl =\n",
              "        document.querySelector('#df-a26817e0-c7e6-4c6c-af12-a00c03d74a04 button');\n",
              "      quickchartButtonEl.style.display =\n",
              "        google.colab.kernel.accessAllowed ? 'block' : 'none';\n",
              "    })();\n",
              "  </script>\n",
              "</div>\n",
              "    </div>\n",
              "  </div>\n"
            ]
          },
          "metadata": {},
          "execution_count": 47
        }
      ]
    },
    {
      "cell_type": "code",
      "source": [
        "total_data['label'] = np.select([total_data.ratings > 3], [1], default=0)\n",
        "total_data[:5]"
      ],
      "metadata": {
        "colab": {
          "base_uri": "https://localhost:8080/",
          "height": 206
        },
        "id": "DZTE_Pi6WJHd",
        "outputId": "73a7115d-dd7d-4d81-81e8-fdef38f2cd15"
      },
      "execution_count": null,
      "outputs": [
        {
          "output_type": "execute_result",
          "data": {
            "text/plain": [
              "                                                    reviews  ratings  label\n",
              "박지현       신기하게도, 모든 것이 부자연스럽다. 대궐같은 한옥에서의 첫장면만 한국식 호러물로써...      4.0      1\n",
              "Magnolia  악귀는 왜 악귀가 되었는가, 진정한 악은 무엇인가, 에 대한 소름 끼치는 진단서.\\...      5.0      1\n",
              "여수        김은희 작가는 왜 이렇게 고평가 되는 걸까 너무 유치하고 개연성 떨어지는 설정 동창...      2.0      0\n",
              "윤제아빠      역시나..문제는 장르...\\n.\\n.\\n#이장르는정말못보겠다\\n#공감을못하는병인건가...      1.0      0\n",
              "다현        내가 장담하는데 이거 방영하고 홍경 빵 뜬다에 내 손모가지 발모가지 다 건다.\\n+...      5.0      1"
            ],
            "text/html": [
              "\n",
              "  <div id=\"df-f95e6e30-2a10-4d43-a383-2f983ef534c9\" class=\"colab-df-container\">\n",
              "    <div>\n",
              "<style scoped>\n",
              "    .dataframe tbody tr th:only-of-type {\n",
              "        vertical-align: middle;\n",
              "    }\n",
              "\n",
              "    .dataframe tbody tr th {\n",
              "        vertical-align: top;\n",
              "    }\n",
              "\n",
              "    .dataframe thead th {\n",
              "        text-align: right;\n",
              "    }\n",
              "</style>\n",
              "<table border=\"1\" class=\"dataframe\">\n",
              "  <thead>\n",
              "    <tr style=\"text-align: right;\">\n",
              "      <th></th>\n",
              "      <th>reviews</th>\n",
              "      <th>ratings</th>\n",
              "      <th>label</th>\n",
              "    </tr>\n",
              "  </thead>\n",
              "  <tbody>\n",
              "    <tr>\n",
              "      <th>박지현</th>\n",
              "      <td>신기하게도, 모든 것이 부자연스럽다. 대궐같은 한옥에서의 첫장면만 한국식 호러물로써...</td>\n",
              "      <td>4.0</td>\n",
              "      <td>1</td>\n",
              "    </tr>\n",
              "    <tr>\n",
              "      <th>Magnolia</th>\n",
              "      <td>악귀는 왜 악귀가 되었는가, 진정한 악은 무엇인가, 에 대한 소름 끼치는 진단서.\\...</td>\n",
              "      <td>5.0</td>\n",
              "      <td>1</td>\n",
              "    </tr>\n",
              "    <tr>\n",
              "      <th>여수</th>\n",
              "      <td>김은희 작가는 왜 이렇게 고평가 되는 걸까 너무 유치하고 개연성 떨어지는 설정 동창...</td>\n",
              "      <td>2.0</td>\n",
              "      <td>0</td>\n",
              "    </tr>\n",
              "    <tr>\n",
              "      <th>윤제아빠</th>\n",
              "      <td>역시나..문제는 장르...\\n.\\n.\\n#이장르는정말못보겠다\\n#공감을못하는병인건가...</td>\n",
              "      <td>1.0</td>\n",
              "      <td>0</td>\n",
              "    </tr>\n",
              "    <tr>\n",
              "      <th>다현</th>\n",
              "      <td>내가 장담하는데 이거 방영하고 홍경 빵 뜬다에 내 손모가지 발모가지 다 건다.\\n+...</td>\n",
              "      <td>5.0</td>\n",
              "      <td>1</td>\n",
              "    </tr>\n",
              "  </tbody>\n",
              "</table>\n",
              "</div>\n",
              "    <div class=\"colab-df-buttons\">\n",
              "\n",
              "  <div class=\"colab-df-container\">\n",
              "    <button class=\"colab-df-convert\" onclick=\"convertToInteractive('df-f95e6e30-2a10-4d43-a383-2f983ef534c9')\"\n",
              "            title=\"Convert this dataframe to an interactive table.\"\n",
              "            style=\"display:none;\">\n",
              "\n",
              "  <svg xmlns=\"http://www.w3.org/2000/svg\" height=\"24px\" viewBox=\"0 -960 960 960\">\n",
              "    <path d=\"M120-120v-720h720v720H120Zm60-500h600v-160H180v160Zm220 220h160v-160H400v160Zm0 220h160v-160H400v160ZM180-400h160v-160H180v160Zm440 0h160v-160H620v160ZM180-180h160v-160H180v160Zm440 0h160v-160H620v160Z\"/>\n",
              "  </svg>\n",
              "    </button>\n",
              "\n",
              "  <style>\n",
              "    .colab-df-container {\n",
              "      display:flex;\n",
              "      gap: 12px;\n",
              "    }\n",
              "\n",
              "    .colab-df-convert {\n",
              "      background-color: #E8F0FE;\n",
              "      border: none;\n",
              "      border-radius: 50%;\n",
              "      cursor: pointer;\n",
              "      display: none;\n",
              "      fill: #1967D2;\n",
              "      height: 32px;\n",
              "      padding: 0 0 0 0;\n",
              "      width: 32px;\n",
              "    }\n",
              "\n",
              "    .colab-df-convert:hover {\n",
              "      background-color: #E2EBFA;\n",
              "      box-shadow: 0px 1px 2px rgba(60, 64, 67, 0.3), 0px 1px 3px 1px rgba(60, 64, 67, 0.15);\n",
              "      fill: #174EA6;\n",
              "    }\n",
              "\n",
              "    .colab-df-buttons div {\n",
              "      margin-bottom: 4px;\n",
              "    }\n",
              "\n",
              "    [theme=dark] .colab-df-convert {\n",
              "      background-color: #3B4455;\n",
              "      fill: #D2E3FC;\n",
              "    }\n",
              "\n",
              "    [theme=dark] .colab-df-convert:hover {\n",
              "      background-color: #434B5C;\n",
              "      box-shadow: 0px 1px 3px 1px rgba(0, 0, 0, 0.15);\n",
              "      filter: drop-shadow(0px 1px 2px rgba(0, 0, 0, 0.3));\n",
              "      fill: #FFFFFF;\n",
              "    }\n",
              "  </style>\n",
              "\n",
              "    <script>\n",
              "      const buttonEl =\n",
              "        document.querySelector('#df-f95e6e30-2a10-4d43-a383-2f983ef534c9 button.colab-df-convert');\n",
              "      buttonEl.style.display =\n",
              "        google.colab.kernel.accessAllowed ? 'block' : 'none';\n",
              "\n",
              "      async function convertToInteractive(key) {\n",
              "        const element = document.querySelector('#df-f95e6e30-2a10-4d43-a383-2f983ef534c9');\n",
              "        const dataTable =\n",
              "          await google.colab.kernel.invokeFunction('convertToInteractive',\n",
              "                                                    [key], {});\n",
              "        if (!dataTable) return;\n",
              "\n",
              "        const docLinkHtml = 'Like what you see? Visit the ' +\n",
              "          '<a target=\"_blank\" href=https://colab.research.google.com/notebooks/data_table.ipynb>data table notebook</a>'\n",
              "          + ' to learn more about interactive tables.';\n",
              "        element.innerHTML = '';\n",
              "        dataTable['output_type'] = 'display_data';\n",
              "        await google.colab.output.renderOutput(dataTable, element);\n",
              "        const docLink = document.createElement('div');\n",
              "        docLink.innerHTML = docLinkHtml;\n",
              "        element.appendChild(docLink);\n",
              "      }\n",
              "    </script>\n",
              "  </div>\n",
              "\n",
              "\n",
              "<div id=\"df-3b2db1cf-7829-4e8f-9948-47a5402aad15\">\n",
              "  <button class=\"colab-df-quickchart\" onclick=\"quickchart('df-3b2db1cf-7829-4e8f-9948-47a5402aad15')\"\n",
              "            title=\"Suggest charts.\"\n",
              "            style=\"display:none;\">\n",
              "\n",
              "<svg xmlns=\"http://www.w3.org/2000/svg\" height=\"24px\"viewBox=\"0 0 24 24\"\n",
              "     width=\"24px\">\n",
              "    <g>\n",
              "        <path d=\"M19 3H5c-1.1 0-2 .9-2 2v14c0 1.1.9 2 2 2h14c1.1 0 2-.9 2-2V5c0-1.1-.9-2-2-2zM9 17H7v-7h2v7zm4 0h-2V7h2v10zm4 0h-2v-4h2v4z\"/>\n",
              "    </g>\n",
              "</svg>\n",
              "  </button>\n",
              "\n",
              "<style>\n",
              "  .colab-df-quickchart {\n",
              "      --bg-color: #E8F0FE;\n",
              "      --fill-color: #1967D2;\n",
              "      --hover-bg-color: #E2EBFA;\n",
              "      --hover-fill-color: #174EA6;\n",
              "      --disabled-fill-color: #AAA;\n",
              "      --disabled-bg-color: #DDD;\n",
              "  }\n",
              "\n",
              "  [theme=dark] .colab-df-quickchart {\n",
              "      --bg-color: #3B4455;\n",
              "      --fill-color: #D2E3FC;\n",
              "      --hover-bg-color: #434B5C;\n",
              "      --hover-fill-color: #FFFFFF;\n",
              "      --disabled-bg-color: #3B4455;\n",
              "      --disabled-fill-color: #666;\n",
              "  }\n",
              "\n",
              "  .colab-df-quickchart {\n",
              "    background-color: var(--bg-color);\n",
              "    border: none;\n",
              "    border-radius: 50%;\n",
              "    cursor: pointer;\n",
              "    display: none;\n",
              "    fill: var(--fill-color);\n",
              "    height: 32px;\n",
              "    padding: 0;\n",
              "    width: 32px;\n",
              "  }\n",
              "\n",
              "  .colab-df-quickchart:hover {\n",
              "    background-color: var(--hover-bg-color);\n",
              "    box-shadow: 0 1px 2px rgba(60, 64, 67, 0.3), 0 1px 3px 1px rgba(60, 64, 67, 0.15);\n",
              "    fill: var(--button-hover-fill-color);\n",
              "  }\n",
              "\n",
              "  .colab-df-quickchart-complete:disabled,\n",
              "  .colab-df-quickchart-complete:disabled:hover {\n",
              "    background-color: var(--disabled-bg-color);\n",
              "    fill: var(--disabled-fill-color);\n",
              "    box-shadow: none;\n",
              "  }\n",
              "\n",
              "  .colab-df-spinner {\n",
              "    border: 2px solid var(--fill-color);\n",
              "    border-color: transparent;\n",
              "    border-bottom-color: var(--fill-color);\n",
              "    animation:\n",
              "      spin 1s steps(1) infinite;\n",
              "  }\n",
              "\n",
              "  @keyframes spin {\n",
              "    0% {\n",
              "      border-color: transparent;\n",
              "      border-bottom-color: var(--fill-color);\n",
              "      border-left-color: var(--fill-color);\n",
              "    }\n",
              "    20% {\n",
              "      border-color: transparent;\n",
              "      border-left-color: var(--fill-color);\n",
              "      border-top-color: var(--fill-color);\n",
              "    }\n",
              "    30% {\n",
              "      border-color: transparent;\n",
              "      border-left-color: var(--fill-color);\n",
              "      border-top-color: var(--fill-color);\n",
              "      border-right-color: var(--fill-color);\n",
              "    }\n",
              "    40% {\n",
              "      border-color: transparent;\n",
              "      border-right-color: var(--fill-color);\n",
              "      border-top-color: var(--fill-color);\n",
              "    }\n",
              "    60% {\n",
              "      border-color: transparent;\n",
              "      border-right-color: var(--fill-color);\n",
              "    }\n",
              "    80% {\n",
              "      border-color: transparent;\n",
              "      border-right-color: var(--fill-color);\n",
              "      border-bottom-color: var(--fill-color);\n",
              "    }\n",
              "    90% {\n",
              "      border-color: transparent;\n",
              "      border-bottom-color: var(--fill-color);\n",
              "    }\n",
              "  }\n",
              "</style>\n",
              "\n",
              "  <script>\n",
              "    async function quickchart(key) {\n",
              "      const quickchartButtonEl =\n",
              "        document.querySelector('#' + key + ' button');\n",
              "      quickchartButtonEl.disabled = true;  // To prevent multiple clicks.\n",
              "      quickchartButtonEl.classList.add('colab-df-spinner');\n",
              "      try {\n",
              "        const charts = await google.colab.kernel.invokeFunction(\n",
              "            'suggestCharts', [key], {});\n",
              "      } catch (error) {\n",
              "        console.error('Error during call to suggestCharts:', error);\n",
              "      }\n",
              "      quickchartButtonEl.classList.remove('colab-df-spinner');\n",
              "      quickchartButtonEl.classList.add('colab-df-quickchart-complete');\n",
              "    }\n",
              "    (() => {\n",
              "      let quickchartButtonEl =\n",
              "        document.querySelector('#df-3b2db1cf-7829-4e8f-9948-47a5402aad15 button');\n",
              "      quickchartButtonEl.style.display =\n",
              "        google.colab.kernel.accessAllowed ? 'block' : 'none';\n",
              "    })();\n",
              "  </script>\n",
              "</div>\n",
              "    </div>\n",
              "  </div>\n"
            ]
          },
          "metadata": {},
          "execution_count": 48
        }
      ]
    },
    {
      "cell_type": "code",
      "source": [
        "total_data['ratings'].nunique(), total_data['reviews'].nunique(), total_data['label'].nunique()"
      ],
      "metadata": {
        "colab": {
          "base_uri": "https://localhost:8080/"
        },
        "id": "teS3k_3aZukr",
        "outputId": "8d936cf3-6ac2-4d50-844d-54bdd1feb4be"
      },
      "execution_count": null,
      "outputs": [
        {
          "output_type": "execute_result",
          "data": {
            "text/plain": [
              "(5, 117, 2)"
            ]
          },
          "metadata": {},
          "execution_count": 49
        }
      ]
    },
    {
      "cell_type": "code",
      "source": [
        "total_data.drop_duplicates(subset=['reviews'], inplace=True) # reviews 열에서 중복인 내용이 있다면 중복 제거\n",
        "print('총 샘플의 수 :',len(total_data))"
      ],
      "metadata": {
        "colab": {
          "base_uri": "https://localhost:8080/"
        },
        "id": "NENM2jaTZ1ZT",
        "outputId": "4226faca-5a85-4a37-f0f5-3be3d1eeb14b"
      },
      "execution_count": null,
      "outputs": [
        {
          "output_type": "stream",
          "name": "stdout",
          "text": [
            "총 샘플의 수 : 117\n"
          ]
        }
      ]
    },
    {
      "cell_type": "code",
      "source": [
        "print(total_data.isnull().values.any())"
      ],
      "metadata": {
        "colab": {
          "base_uri": "https://localhost:8080/"
        },
        "id": "atlhx7V0Vu0E",
        "outputId": "c9e51867-5dc1-4025-85c1-b44dc138a958"
      },
      "execution_count": null,
      "outputs": [
        {
          "output_type": "stream",
          "name": "stdout",
          "text": [
            "True\n"
          ]
        }
      ]
    },
    {
      "cell_type": "code",
      "source": [
        "train_data, test_data = train_test_split(total_data, test_size = 0.25, random_state = 42)\n",
        "print('훈련용 리뷰의 개수 :', len(train_data))\n",
        "print('테스트용 리뷰의 개수 :', len(test_data))"
      ],
      "metadata": {
        "colab": {
          "base_uri": "https://localhost:8080/"
        },
        "id": "W-mW8ylyVxPM",
        "outputId": "097f5b0d-c013-45e1-90f6-97a6531753a2"
      },
      "execution_count": null,
      "outputs": [
        {
          "output_type": "stream",
          "name": "stdout",
          "text": [
            "훈련용 리뷰의 개수 : 87\n",
            "테스트용 리뷰의 개수 : 30\n"
          ]
        }
      ]
    },
    {
      "cell_type": "code",
      "source": [
        "train_data['label'].value_counts().plot(kind = 'bar')"
      ],
      "metadata": {
        "colab": {
          "base_uri": "https://localhost:8080/",
          "height": 443
        },
        "id": "8zjd2KV6Vzvt",
        "outputId": "02d12a14-7e43-44b5-e87f-24263f148177"
      },
      "execution_count": null,
      "outputs": [
        {
          "output_type": "execute_result",
          "data": {
            "text/plain": [
              "<Axes: >"
            ]
          },
          "metadata": {},
          "execution_count": 53
        },
        {
          "output_type": "display_data",
          "data": {
            "text/plain": [
              "<Figure size 640x480 with 1 Axes>"
            ],
            "image/png": "[encoded data removed]"
          },
          "metadata": {}
        }
      ]
    },
    {
      "cell_type": "code",
      "source": [
        "print(train_data.groupby('label').size().reset_index(name = 'count'))\n"
      ],
      "metadata": {
        "colab": {
          "base_uri": "https://localhost:8080/"
        },
        "id": "a4JxKEDuZ_aD",
        "outputId": "7c4fc904-8369-4ca5-d4d9-d4844db0c4b2"
      },
      "execution_count": null,
      "outputs": [
        {
          "output_type": "stream",
          "name": "stdout",
          "text": [
            "   label  count\n",
            "0      0     50\n",
            "1      1     37\n"
          ]
        }
      ]
    },
    {
      "cell_type": "code",
      "source": [
        "# 한글과 공백을 제외하고 모두 제거\n",
        "train_data['reviews'] = train_data['reviews'].str.replace(\"[^ㄱ-ㅎㅏ-ㅣ가-힣 ]\",\"\")\n",
        "train_data['reviews'].replace('', np.nan, inplace=True)\n",
        "print(train_data.isnull().sum())\n"
      ],
      "metadata": {
        "colab": {
          "base_uri": "https://localhost:8080/"
        },
        "id": "x8htzC2RaC66",
        "outputId": "b4cb1cac-42ea-43bc-9dbd-c446a5488aa1"
      },
      "execution_count": null,
      "outputs": [
        {
          "output_type": "stream",
          "name": "stdout",
          "text": [
            "reviews    0\n",
            "ratings    0\n",
            "label      0\n",
            "dtype: int64\n"
          ]
        },
        {
          "output_type": "stream",
          "name": "stderr",
          "text": [
            "<ipython-input-55-5c91c21161d5>:2: FutureWarning: The default value of regex will change from True to False in a future version.\n",
            "  train_data['reviews'] = train_data['reviews'].str.replace(\"[^ㄱ-ㅎㅏ-ㅣ가-힣 ]\",\"\")\n"
          ]
        }
      ]
    },
    {
      "cell_type": "code",
      "source": [
        "test_data.drop_duplicates(subset = ['reviews'], inplace=True) # 중복 제거\n",
        "test_data['reviews'] = test_data['reviews'].str.replace(\"[^ㄱ-ㅎㅏ-ㅣ가-힣 ]\",\"\") # 정규 표현식 수행\n",
        "test_data['reviews'].replace('', np.nan, inplace=True) # 공백은 Null 값으로 변경\n",
        "test_data = test_data.dropna(how='any') # Null 값 제거\n",
        "print('전처리 후 테스트용 샘플의 개수 :',len(test_data))\n"
      ],
      "metadata": {
        "colab": {
          "base_uri": "https://localhost:8080/"
        },
        "id": "YunMdohSaFXR",
        "outputId": "f9d38798-3463-4207-9ffe-0d33ed3dc02e"
      },
      "execution_count": null,
      "outputs": [
        {
          "output_type": "stream",
          "name": "stdout",
          "text": [
            "전처리 후 테스트용 샘플의 개수 : 29\n"
          ]
        },
        {
          "output_type": "stream",
          "name": "stderr",
          "text": [
            "<ipython-input-56-5968a3f5f2bc>:2: FutureWarning: The default value of regex will change from True to False in a future version.\n",
            "  test_data['reviews'] = test_data['reviews'].str.replace(\"[^ㄱ-ㅎㅏ-ㅣ가-힣 ]\",\"\") # 정규 표현식 수행\n"
          ]
        }
      ]
    },
    {
      "cell_type": "markdown",
      "source": [
        "토큰화"
      ],
      "metadata": {
        "id": "ESPARpOFaHxH"
      }
    },
    {
      "cell_type": "code",
      "source": [
        "mecab = Mecab()\n",
        "stopwords = ['도', '는', '다', '의', '가', '이', '은', '한', '에', '하', '고', '을', '를', '인', '듯', '과', '와', '네', '들', '듯', '지', '임', '게']\n"
      ],
      "metadata": {
        "id": "zfkKINC1aItb"
      },
      "execution_count": null,
      "outputs": []
    },
    {
      "cell_type": "code",
      "source": [
        "train_data['tokenized'] = train_data['reviews'].apply(mecab.morphs)\n",
        "train_data['tokenized'] = train_data['tokenized'].apply(lambda x: [item for item in x if item not in stopwords])\n"
      ],
      "metadata": {
        "id": "h6ObrU9vaUFb"
      },
      "execution_count": null,
      "outputs": []
    },
    {
      "cell_type": "code",
      "source": [
        "test_data['tokenized'] = test_data['reviews'].apply(mecab.morphs)\n",
        "test_data['tokenized'] = test_data['tokenized'].apply(lambda x: [item for item in x if item not in stopwords])\n"
      ],
      "metadata": {
        "id": "WSLNXjemaWHY"
      },
      "execution_count": null,
      "outputs": []
    },
    {
      "cell_type": "markdown",
      "source": [
        "단어와 길이 분포 확인하기"
      ],
      "metadata": {
        "id": "NbKITOvEaY9m"
      }
    },
    {
      "cell_type": "code",
      "source": [
        "negative_words = np.hstack(train_data[train_data.label == 0]['tokenized'].values)\n",
        "positive_words = np.hstack(train_data[train_data.label == 1]['tokenized'].values)\n"
      ],
      "metadata": {
        "id": "e4XvWTbHaYk7"
      },
      "execution_count": null,
      "outputs": []
    },
    {
      "cell_type": "code",
      "source": [
        "negative_word_count = Counter(negative_words)\n",
        "print(negative_word_count.most_common(20))\n"
      ],
      "metadata": {
        "colab": {
          "base_uri": "https://localhost:8080/"
        },
        "id": "EXRQIK7HacxK",
        "outputId": "c54e1143-0ac1-4b42-979e-4c6b04ad0f01"
      },
      "execution_count": null,
      "outputs": [
        {
          "output_type": "stream",
          "name": "stdout",
          "text": [
            "[('너무', 19), ('보', 18), ('안', 15), ('거', 15), ('는데', 13), ('나', 12), ('좀', 12), ('까지', 11), ('아니', 11), ('되', 11), ('음', 11), ('김은희', 10), ('아', 10), ('대사', 10), ('왜', 10), ('면', 9), ('것', 9), ('화', 9), ('김', 9), ('없', 9)]\n"
          ]
        }
      ]
    },
    {
      "cell_type": "code",
      "source": [
        "positive_word_count = Counter(positive_words)\n",
        "print(positive_word_count.most_common(20))\n"
      ],
      "metadata": {
        "colab": {
          "base_uri": "https://localhost:8080/"
        },
        "id": "9RHekVVtafc9",
        "outputId": "768943fe-8d1d-4ef6-a084-28794947e2f8"
      },
      "execution_count": null,
      "outputs": [
        {
          "output_type": "stream",
          "name": "stdout",
          "text": [
            "[('귀신', 32), ('악귀', 20), ('면', 20), ('어', 18), ('만', 18), ('사람', 17), ('보', 17), ('안', 15), ('아', 15), ('나', 14), ('음', 14), ('같', 13), ('좋', 13), ('있', 13), ('더', 12), ('주', 12), ('아니', 12), ('돈', 11), ('것', 11), ('김', 11)]\n"
          ]
        }
      ]
    },
    {
      "cell_type": "code",
      "source": [
        "fig,(ax1,ax2) = plt.subplots(1,2,figsize=(10,5))\n",
        "text_len = train_data[train_data['label']==1]['tokenized'].map(lambda x: len(x))\n",
        "ax1.hist(text_len, color='red')\n",
        "ax1.set_title('Positive Reviews')\n",
        "ax1.set_xlabel('length of samples')\n",
        "ax1.set_ylabel('number of samples')\n",
        "print('긍정 리뷰의 평균 길이 :', np.mean(text_len))\n",
        "\n",
        "text_len = train_data[train_data['label']==0]['tokenized'].map(lambda x: len(x))\n",
        "ax2.hist(text_len, color='blue')\n",
        "ax2.set_title('Negative Reviews')\n",
        "fig.suptitle('Words in texts')\n",
        "ax2.set_xlabel('length of samples')\n",
        "ax2.set_ylabel('number of samples')\n",
        "print('부정 리뷰의 평균 길이 :', np.mean(text_len))\n",
        "plt.show()"
      ],
      "metadata": {
        "colab": {
          "base_uri": "https://localhost:8080/",
          "height": 551
        },
        "id": "to0kV0yrah7Y",
        "outputId": "1cb2b825-80c4-439c-8b9d-a1d192278013"
      },
      "execution_count": null,
      "outputs": [
        {
          "output_type": "stream",
          "name": "stdout",
          "text": [
            "긍정 리뷰의 평균 길이 : 48.45945945945946\n",
            "부정 리뷰의 평균 길이 : 28.5\n"
          ]
        },
        {
          "output_type": "display_data",
          "data": {
            "text/plain": [
              "<Figure size 1000x500 with 2 Axes>"
            ],
            "image/png": "[encoded data removed]"
          },
          "metadata": {}
        }
      ]
    },
    {
      "cell_type": "markdown",
      "source": [
        "긍정리뷰가 부정리뷰보다 더 길게 작성됨을 알 수 있다."
      ],
      "metadata": {
        "id": "gcBELo0map9o"
      }
    },
    {
      "cell_type": "code",
      "source": [
        "X_train = train_data['tokenized'].values\n",
        "y_train = train_data['label'].values\n",
        "X_test= test_data['tokenized'].values\n",
        "y_test = test_data['label'].values\n"
      ],
      "metadata": {
        "id": "GkUk7Xneav1W"
      },
      "execution_count": null,
      "outputs": []
    },
    {
      "cell_type": "markdown",
      "source": [
        "**정수인코딩**"
      ],
      "metadata": {
        "id": "5aiwFYipazpO"
      }
    },
    {
      "cell_type": "code",
      "source": [
        "tokenizer = Tokenizer()\n",
        "tokenizer.fit_on_texts(X_train)\n"
      ],
      "metadata": {
        "id": "9i4pJ8QPa1AP"
      },
      "execution_count": null,
      "outputs": []
    },
    {
      "cell_type": "code",
      "source": [
        "threshold = 2\n",
        "total_cnt = len(tokenizer.word_index) # 단어의 수\n",
        "rare_cnt = 0 # 등장 빈도수가 threshold보다 작은 단어의 개수를 카운트\n",
        "total_freq = 0 # 훈련 데이터의 전체 단어 빈도수 총 합\n",
        "rare_freq = 0 # 등장 빈도수가 threshold보다 작은 단어의 등장 빈도수의 총 합\n",
        "\n",
        "# 단어와 빈도수의 쌍(pair)을 key와 value로 받는다.\n",
        "for key, value in tokenizer.word_counts.items():\n",
        "    total_freq = total_freq + value\n",
        "\n",
        "    # 단어의 등장 빈도수가 threshold보다 작으면\n",
        "    if(value < threshold):\n",
        "        rare_cnt = rare_cnt + 1\n",
        "        rare_freq = rare_freq + value\n",
        "\n",
        "print('단어 집합(vocabulary)의 크기 :',total_cnt)\n",
        "print('등장 빈도가 %s번 이하인 희귀 단어의 수: %s'%(threshold - 1, rare_cnt))\n",
        "print(\"단어 집합에서 희귀 단어의 비율:\", (rare_cnt / total_cnt)*100)\n",
        "print(\"전체 등장 빈도에서 희귀 단어 등장 빈도 비율:\", (rare_freq / total_freq)*100)\n"
      ],
      "metadata": {
        "colab": {
          "base_uri": "https://localhost:8080/"
        },
        "id": "sya4AJSva253",
        "outputId": "54ea7d4c-ca4b-4775-def1-d3f990169d47"
      },
      "execution_count": null,
      "outputs": [
        {
          "output_type": "stream",
          "name": "stdout",
          "text": [
            "단어 집합(vocabulary)의 크기 : 1330\n",
            "등장 빈도가 1번 이하인 희귀 단어의 수: 839\n",
            "단어 집합에서 희귀 단어의 비율: 63.0827067669173\n",
            "전체 등장 빈도에서 희귀 단어 등장 빈도 비율: 26.072094468614043\n"
          ]
        }
      ]
    },
    {
      "cell_type": "code",
      "source": [
        "# 전체 단어 개수 중 빈도수 2이하인 단어 개수는 제거.\n",
        "# 0번 패딩 토큰과 1번 OOV 토큰을 고려하여 +2\n",
        "vocab_size = total_cnt - rare_cnt + 2\n",
        "print('단어 집합의 크기 :',vocab_size)\n"
      ],
      "metadata": {
        "colab": {
          "base_uri": "https://localhost:8080/"
        },
        "id": "DaiTLTQka8IY",
        "outputId": "de951e7a-5486-433c-ae2c-2319e6169b32"
      },
      "execution_count": null,
      "outputs": [
        {
          "output_type": "stream",
          "name": "stdout",
          "text": [
            "단어 집합의 크기 : 493\n"
          ]
        }
      ]
    },
    {
      "cell_type": "code",
      "source": [
        "tokenizer = Tokenizer(vocab_size, oov_token = 'OOV')\n",
        "tokenizer.fit_on_texts(X_train)\n",
        "X_train = tokenizer.texts_to_sequences(X_train)\n",
        "X_test = tokenizer.texts_to_sequences(X_test)\n"
      ],
      "metadata": {
        "id": "sjQ1ng-va-e5"
      },
      "execution_count": null,
      "outputs": []
    },
    {
      "cell_type": "code",
      "source": [
        "print(X_train[:3])\n"
      ],
      "metadata": {
        "colab": {
          "base_uri": "https://localhost:8080/"
        },
        "id": "0FblW_r0bBlw",
        "outputId": "d44c0f7a-4fbe-4f7d-b8d5-42479435353a"
      },
      "execution_count": null,
      "outputs": [
        {
          "output_type": "stream",
          "name": "stdout",
          "text": [
            "[[6, 7, 1, 6, 266, 267, 268, 169, 91, 139, 4, 24, 6, 47, 48, 9, 58, 10, 7, 40, 49, 20, 92, 1, 1, 49, 140, 1, 5, 93, 94, 11, 95, 73, 111, 7, 141, 1, 50, 34, 1, 51, 91, 1, 37, 74, 170, 142, 269, 141, 1, 270, 27, 27, 7, 1, 1, 50, 171, 8, 1, 1, 172, 2, 74, 143, 173, 34, 59, 1, 1, 1, 271, 1, 64, 1, 26, 15, 112, 8, 1, 1, 82, 272, 273, 1, 1, 41, 274, 8, 174, 1, 1, 275, 95, 1, 276, 49, 175, 5, 49, 1, 1, 277, 1, 1, 278, 1, 1, 1, 1, 174, 1, 1, 1, 279, 1, 111, 7, 1, 1, 1, 10, 280, 28, 277, 281, 282, 176, 6, 1, 2, 74, 1, 283, 65, 51, 141, 284, 1, 83, 1, 1, 1, 14, 1, 1, 1, 7, 1, 42, 1, 16, 7, 1, 1, 177, 176, 113, 93, 144, 84, 114, 12, 178, 1, 95, 276, 49, 267, 6, 21, 139, 115, 178, 1, 140, 1, 29, 139, 179, 285, 96, 145, 1, 58, 27, 286, 97, 1, 287, 115, 288, 1, 115, 25, 289, 290, 1, 41, 1, 12, 1, 1, 93, 11, 2, 40, 286, 20, 1, 291, 17, 11, 292, 1, 2, 3, 5, 288, 1, 1, 41, 1, 49, 1, 114, 4, 1, 180, 8, 293, 3, 146, 1, 15, 111, 294, 38, 52, 1, 49, 1, 271, 1, 1, 1, 40, 1, 95, 73, 49, 91, 60, 1, 1, 177, 49, 1, 94, 58, 1, 50, 1, 49, 1, 181, 16, 14, 1, 295, 11, 182, 20, 66, 92, 67, 183, 1, 3, 52, 296, 147, 42, 17, 11, 38, 18, 297, 42, 1, 1, 1, 85, 86, 298, 2, 15, 299, 146, 30, 148, 1, 300, 24, 184, 2, 113, 301, 302, 185, 116, 28, 300, 85, 1, 1, 281, 282, 176, 43, 2, 149, 5, 303, 75, 283, 65, 186, 304, 305, 306, 41, 307, 308, 309, 187, 188, 189, 27, 27, 1, 2, 15, 299, 146, 30, 1, 1, 113, 1, 150, 96, 117, 112, 48, 184, 310, 7, 21, 74, 190, 1, 98, 148, 16, 2, 40, 15, 20, 53, 61, 1, 85, 99, 76, 52, 311, 1, 1, 312, 191, 272, 1, 313, 1, 3, 37, 147, 42, 1, 314, 1, 151, 315, 192, 18, 2, 315, 192, 37, 301, 1, 316, 8, 1, 10, 2, 149, 5, 303, 186, 305, 306, 307, 317, 14, 68, 31, 152, 1, 191, 1, 318, 1, 1, 12, 319, 320, 10, 309, 2, 1, 193, 1, 15, 4, 1, 187, 321, 30, 43, 14, 144, 1, 1, 7, 11, 31, 191, 1, 1, 1, 5, 1, 16, 21, 39, 194, 322, 323, 324, 185, 100, 1, 325, 1, 1, 1, 37, 92, 54, 192, 326, 194, 1, 1, 1, 49, 92, 39, 2, 1, 195, 69, 1, 15, 196, 87, 1, 327, 12, 319, 5, 20, 66, 328, 197, 65, 74, 14, 270, 195, 1, 51, 1, 146, 29, 329, 69, 328, 197, 1, 68, 53, 185, 1, 198, 2, 275, 1, 330, 183, 199, 331, 1, 5, 2, 111, 112, 10, 34, 1, 114, 1, 54, 88, 1, 1, 1, 332, 30, 54, 88, 333, 1, 118, 54, 88, 1, 1, 334, 70, 1, 335, 1, 54, 88, 1, 152, 333, 150, 200, 54, 88, 1, 101, 43, 1, 1, 60, 85, 1, 336, 337, 88, 1, 1, 1, 1, 1, 4, 50, 201, 88, 119, 2, 2, 202, 183, 30, 203, 338, 8, 34, 5, 1, 1, 116, 204, 145, 1, 21, 10, 3, 5, 339, 1, 16, 189, 2, 1, 1, 116, 2, 31, 340, 29, 8, 140, 1, 10, 5, 1, 1, 77, 69, 202, 16, 12, 77, 39, 341, 342, 343, 1, 1, 41, 344, 8, 83, 345, 34, 1, 346, 205, 198, 26, 1, 1, 1, 347, 2, 342, 343, 28, 170, 295, 9, 58, 1, 341, 345, 348, 201, 68, 349, 1, 50, 349, 198, 7, 1, 266, 1, 1, 1, 312, 119, 350, 2, 30, 9, 1, 111, 112, 15, 1, 351, 4, 1, 292, 351, 6, 1, 1, 182, 40, 100, 1, 1, 1, 350, 2, 204, 5, 64, 150, 206, 14, 37, 20, 86, 62, 24, 16, 21, 352, 206, 7, 100, 207, 7, 102, 4, 39, 4, 100, 7, 1, 35, 91, 76, 54, 353, 10, 3, 37, 32, 44, 1, 208, 153, 1, 59, 52, 322, 323, 324, 2, 21, 354, 86, 1, 314, 325, 27, 27, 355, 356, 1, 1, 70, 14, 1, 357, 50, 1, 18, 358, 12, 1, 359, 335, 1, 54, 1, 340, 154, 1, 103, 24, 61, 1, 78, 360, 120, 11, 84, 352, 206, 14, 48, 9, 207, 48, 9, 14, 155, 156, 40, 7, 1, 4, 100, 53, 209, 17, 11, 44, 73, 1, 1, 64, 308, 18, 361, 28, 1, 362, 1, 27, 27, 53, 209, 17, 363, 13, 297, 210, 67, 364, 1, 1, 1, 12, 211, 1, 51, 1, 365, 7, 13, 10, 14, 212, 213, 1, 13, 214, 1, 291, 1, 70, 1, 13, 119, 2, 14, 1, 1, 1, 1, 21, 9, 357, 121, 61, 215, 313, 55, 62, 38, 52, 1, 12, 78, 5, 278, 14, 68, 1, 1, 96, 1, 1, 93, 174, 310, 16, 21, 9, 355, 216, 1, 204, 157, 21, 9, 1, 216, 28, 366, 26, 1, 1, 366, 367, 53, 10, 25, 122, 289, 1, 18, 1, 101, 79], [33, 1, 104, 1, 4, 123, 1, 35, 22, 158, 1, 1, 1, 1, 45, 105, 1, 1, 33, 68, 1, 12, 5, 1, 1], [71, 368, 1, 1, 1, 1, 1, 1, 71, 269, 1, 369, 20, 217, 6, 1, 69, 1]]\n"
          ]
        }
      ]
    },
    {
      "cell_type": "code",
      "source": [
        "print(X_test[:3])\n"
      ],
      "metadata": {
        "colab": {
          "base_uri": "https://localhost:8080/"
        },
        "id": "1qSUxAkhbDct",
        "outputId": "97925c9f-a36e-4098-a110-6a2f397dbeda"
      },
      "execution_count": null,
      "outputs": [
        {
          "output_type": "stream",
          "name": "stdout",
          "text": [
            "[[1, 30, 1, 1, 3, 64, 1, 294, 38, 1, 1, 10, 21, 1, 65, 251, 1, 1, 1, 20, 62, 1, 146, 30, 48, 10, 21, 245, 121, 1, 393, 26, 1, 1, 202, 137, 1, 146, 30, 1], [64, 1, 18, 1, 1, 1, 1, 1, 64, 1, 1, 1, 1, 1, 1, 13, 17, 245, 1, 1, 125], [1, 1, 55, 77, 1, 1, 1]]\n"
          ]
        }
      ]
    },
    {
      "cell_type": "markdown",
      "source": [
        "패딩"
      ],
      "metadata": {
        "id": "KZq6DABMbF9p"
      }
    },
    {
      "cell_type": "code",
      "source": [
        "print('리뷰의 최대 길이 :',max(len(review) for review in X_train))\n",
        "print('리뷰의 평균 길이 :',sum(map(len, X_train))/len(X_train))\n",
        "plt.hist([len(review) for review in X_train], bins=50)\n",
        "plt.xlabel('length of samples')\n",
        "plt.ylabel('number of samples')\n",
        "plt.show()\n"
      ],
      "metadata": {
        "colab": {
          "base_uri": "https://localhost:8080/",
          "height": 488
        },
        "id": "Ub6ZaZPVbROP",
        "outputId": "d19c03b5-f389-4ec0-8209-90acaedefef0"
      },
      "execution_count": null,
      "outputs": [
        {
          "output_type": "stream",
          "name": "stdout",
          "text": [
            "리뷰의 최대 길이 : 918\n",
            "리뷰의 평균 길이 : 36.98850574712644\n"
          ]
        },
        {
          "output_type": "display_data",
          "data": {
            "text/plain": [
              "<Figure size 640x480 with 1 Axes>"
            ],
            "image/png": "[encoded data removed]"
          },
          "metadata": {}
        }
      ]
    },
    {
      "cell_type": "code",
      "source": [
        "def below_threshold_len(max_len, nested_list):\n",
        "  count = 0\n",
        "  for sentence in nested_list:\n",
        "    if(len(sentence) <= max_len):\n",
        "        count = count + 1\n",
        "  print('전체 샘플 중 길이가 %s 이하인 샘플의 비율: %s'%(max_len, (count / len(nested_list))*100))"
      ],
      "metadata": {
        "id": "bqQMoPHMbgK4"
      },
      "execution_count": null,
      "outputs": []
    },
    {
      "cell_type": "code",
      "source": [
        "max_len = 200\n",
        "below_threshold_len(max_len, X_train)"
      ],
      "metadata": {
        "colab": {
          "base_uri": "https://localhost:8080/"
        },
        "id": "7timfMSLbqRc",
        "outputId": "2007af9a-96a3-4f96-b8b1-f1e77eee103d"
      },
      "execution_count": null,
      "outputs": [
        {
          "output_type": "stream",
          "name": "stdout",
          "text": [
            "전체 샘플 중 길이가 200 이하인 샘플의 비율: 98.85057471264368\n"
          ]
        }
      ]
    },
    {
      "cell_type": "code",
      "source": [
        "X_train = pad_sequences(X_train, maxlen=max_len)\n",
        "X_test = pad_sequences(X_test, maxlen=max_len)"
      ],
      "metadata": {
        "id": "qyv58FHhbuOY"
      },
      "execution_count": null,
      "outputs": []
    },
    {
      "cell_type": "markdown",
      "source": [
        "GRU로 리뷰 감성 분류-임의문장리뷰예측"
      ],
      "metadata": {
        "id": "_WcXcTnFbyNw"
      }
    },
    {
      "cell_type": "code",
      "source": [
        "from tensorflow.keras.layers import Embedding, Dense, GRU\n",
        "from tensorflow.keras.models import Sequential\n",
        "from tensorflow.keras.models import load_model\n",
        "from tensorflow.keras.callbacks import EarlyStopping, ModelCheckpoint\n",
        "\n",
        "embedding_dim = 200\n",
        "hidden_units = 128\n",
        "\n",
        "model = Sequential()\n",
        "model.add(Embedding(vocab_size, embedding_dim))\n",
        "model.add(GRU(hidden_units))\n",
        "model.add(Dense(1, activation='tanh'))  # 시그모이드 대신 tanh 활성화 함수 사용\n",
        "\n",
        "es = EarlyStopping(monitor='val_loss', mode='min', verbose=1, patience=4)\n",
        "mc = ModelCheckpoint('best_model.h5', monitor='val_acc', mode='max', verbose=1, save_best_only=True)\n",
        "\n",
        "model.compile(optimizer='rmsprop', loss='binary_crossentropy', metrics=['acc'])\n",
        "history = model.fit(X_train, y_train, epochs=15, callbacks=[es, mc], batch_size=64, validation_split=0.2)\n"
      ],
      "metadata": {
        "colab": {
          "base_uri": "https://localhost:8080/"
        },
        "id": "-gPlveWgbwmN",
        "outputId": "4cab7588-4e21-49c6-e147-fd2455063a85"
      },
      "execution_count": null,
      "outputs": [
        {
          "output_type": "stream",
          "name": "stdout",
          "text": [
            "Epoch 1/15\n",
            "2/2 [==============================] - ETA: 0s - loss: 2.6024 - acc: 0.5797\n",
            "Epoch 1: val_acc improved from -inf to 0.55556, saving model to best_model.h5\n",
            "2/2 [==============================] - 7s 2s/step - loss: 2.6024 - acc: 0.5797 - val_loss: 0.9268 - val_acc: 0.5556\n",
            "Epoch 2/15\n"
          ]
        },
        {
          "output_type": "stream",
          "name": "stderr",
          "text": [
            "/usr/local/lib/python3.10/dist-packages/keras/src/engine/training.py:3000: UserWarning: You are saving your model as an HDF5 file via `model.save()`. This file format is considered legacy. We recommend using instead the native Keras format, e.g. `model.save('my_model.keras')`.\n",
            "  saving_api.save_model(\n"
          ]
        },
        {
          "output_type": "stream",
          "name": "stdout",
          "text": [
            "2/2 [==============================] - ETA: 0s - loss: 0.7664 - acc: 0.5797\n",
            "Epoch 2: val_acc did not improve from 0.55556\n",
            "2/2 [==============================] - 1s 473ms/step - loss: 0.7664 - acc: 0.5797 - val_loss: 0.8130 - val_acc: 0.5556\n",
            "Epoch 3/15\n",
            "2/2 [==============================] - ETA: 0s - loss: 0.6739 - acc: 0.5797\n",
            "Epoch 3: val_acc did not improve from 0.55556\n",
            "2/2 [==============================] - 1s 487ms/step - loss: 0.6739 - acc: 0.5797 - val_loss: 0.7757 - val_acc: 0.5556\n",
            "Epoch 4/15\n",
            "2/2 [==============================] - ETA: 0s - loss: 0.6337 - acc: 0.5797\n",
            "Epoch 4: val_acc did not improve from 0.55556\n",
            "2/2 [==============================] - 2s 642ms/step - loss: 0.6337 - acc: 0.5797 - val_loss: 0.7357 - val_acc: 0.5556\n",
            "Epoch 5/15\n",
            "2/2 [==============================] - ETA: 0s - loss: 0.5906 - acc: 0.5797\n",
            "Epoch 5: val_acc improved from 0.55556 to 0.61111, saving model to best_model.h5\n",
            "2/2 [==============================] - 2s 735ms/step - loss: 0.5906 - acc: 0.5797 - val_loss: 0.6460 - val_acc: 0.6111\n",
            "Epoch 6/15\n",
            "2/2 [==============================] - ETA: 0s - loss: 0.5310 - acc: 0.7101\n",
            "Epoch 6: val_acc did not improve from 0.61111\n",
            "2/2 [==============================] - 1s 428ms/step - loss: 0.5310 - acc: 0.7101 - val_loss: 0.6404 - val_acc: 0.6111\n",
            "Epoch 7/15\n",
            "2/2 [==============================] - ETA: 0s - loss: 0.5052 - acc: 0.7536\n",
            "Epoch 7: val_acc did not improve from 0.61111\n",
            "2/2 [==============================] - 1s 417ms/step - loss: 0.5052 - acc: 0.7536 - val_loss: 0.6920 - val_acc: 0.5556\n",
            "Epoch 8/15\n",
            "2/2 [==============================] - ETA: 0s - loss: 0.5032 - acc: 0.6377\n",
            "Epoch 8: val_acc did not improve from 0.61111\n",
            "2/2 [==============================] - 2s 681ms/step - loss: 0.5032 - acc: 0.6377 - val_loss: 0.6794 - val_acc: 0.5556\n",
            "Epoch 9/15\n",
            "2/2 [==============================] - ETA: 0s - loss: 0.4799 - acc: 0.6377\n",
            "Epoch 9: val_acc did not improve from 0.61111\n",
            "2/2 [==============================] - 2s 776ms/step - loss: 0.4799 - acc: 0.6377 - val_loss: 0.6901 - val_acc: 0.5556\n",
            "Epoch 10/15\n",
            "2/2 [==============================] - ETA: 0s - loss: 0.4687 - acc: 0.6377\n",
            "Epoch 10: val_acc did not improve from 0.61111\n",
            "2/2 [==============================] - 1s 458ms/step - loss: 0.4687 - acc: 0.6377 - val_loss: 0.6209 - val_acc: 0.6111\n",
            "Epoch 11/15\n",
            "2/2 [==============================] - ETA: 0s - loss: 0.4125 - acc: 0.7826\n",
            "Epoch 11: val_acc improved from 0.61111 to 0.72222, saving model to best_model.h5\n",
            "2/2 [==============================] - 1s 582ms/step - loss: 0.4125 - acc: 0.7826 - val_loss: 0.5617 - val_acc: 0.7222\n",
            "Epoch 12/15\n",
            "2/2 [==============================] - ETA: 0s - loss: 0.3673 - acc: 0.9275\n",
            "Epoch 12: val_acc improved from 0.72222 to 0.77778, saving model to best_model.h5\n",
            "2/2 [==============================] - 1s 260ms/step - loss: 0.3673 - acc: 0.9275 - val_loss: 0.5507 - val_acc: 0.7778\n",
            "Epoch 13/15\n",
            "2/2 [==============================] - ETA: 0s - loss: 0.3321 - acc: 0.9420\n",
            "Epoch 13: val_acc did not improve from 0.77778\n",
            "2/2 [==============================] - 1s 219ms/step - loss: 0.3321 - acc: 0.9420 - val_loss: 0.5195 - val_acc: 0.7778\n",
            "Epoch 14/15\n",
            "2/2 [==============================] - ETA: 0s - loss: 0.3197 - acc: 0.8841\n",
            "Epoch 14: val_acc did not improve from 0.77778\n",
            "2/2 [==============================] - 1s 215ms/step - loss: 0.3197 - acc: 0.8841 - val_loss: 0.5276 - val_acc: 0.7222\n",
            "Epoch 15/15\n",
            "2/2 [==============================] - ETA: 0s - loss: 0.2741 - acc: 0.9565\n",
            "Epoch 15: val_acc did not improve from 0.77778\n",
            "2/2 [==============================] - 1s 223ms/step - loss: 0.2741 - acc: 0.9565 - val_loss: 0.5293 - val_acc: 0.6111\n"
          ]
        }
      ]
    },
    {
      "cell_type": "code",
      "source": [
        "loaded_model = load_model('best_model.h5')\n",
        "print(\"\\n 테스트 정확도: %.4f\" % (loaded_model.evaluate(X_test, y_test)[1]))"
      ],
      "metadata": {
        "colab": {
          "base_uri": "https://localhost:8080/"
        },
        "id": "0MNnEiImb6XS",
        "outputId": "c43e6792-b934-48a7-c156-0a12e15af51a"
      },
      "execution_count": null,
      "outputs": [
        {
          "output_type": "stream",
          "name": "stdout",
          "text": [
            "1/1 [==============================] - 1s 663ms/step - loss: 0.7802 - acc: 0.5172\n",
            "\n",
            " 테스트 정확도: 0.5172\n"
          ]
        }
      ]
    },
    {
      "cell_type": "code",
      "source": [
        "# 예측 함수 수정\n",
        "def sentiment_predict(new_sentence):\n",
        "    new_sentence = re.sub(r'[^ㄱ-ㅎㅏ-ㅣ가-힣 ]', '', new_sentence)\n",
        "    new_sentence = mecab.morphs(new_sentence)\n",
        "    new_sentence = [word for word in new_sentence if not word in stopwords]\n",
        "    encoded = tokenizer.texts_to_sequences([new_sentence])\n",
        "    pad_new = pad_sequences(encoded, maxlen=max_len)\n",
        "\n",
        "    score = float(loaded_model.predict(pad_new))\n",
        "\n",
        "    if score < 0.2:\n",
        "        sentiment = 2  # 부정\n",
        "    elif 0.2 <= score <= 0.4:\n",
        "        sentiment = 1  # 중립\n",
        "    else:\n",
        "        sentiment = 0  # 긍정\n",
        "\n",
        "    return sentiment\n",
        "\n",
        "# 테스트 데이터 예측 및 결과 저장\n",
        "test_data['predicted_sentiment'] = test_data['reviews'].apply(sentiment_predict)\n",
        "\n",
        "# 결과를 그래프로 시각화\n",
        "sentiments = [0, 1, 2]  # 0: 긍정, 1: 중립, 2: 부정\n",
        "sentiment_labels = ['긍정', '중립', '부정']\n",
        "\n",
        "# 각 클래스 레이블 별 개수 카운트\n",
        "sentiment_counts = [len(test_data[test_data['predicted_sentiment'] == sentiment]) for sentiment in sentiments]\n",
        "\n",
        "# 그래프 그리기\n",
        "plt.figure(figsize=(8, 6))\n",
        "plt.bar(sentiments, sentiment_counts)\n",
        "plt.xlabel('Sentiment')\n",
        "plt.ylabel('Count')\n",
        "plt.title('Sentiment Distribution in Test Data')\n",
        "\n",
        "# 숫자를 감정 레이블로 변경하여 x 축에 표시\n",
        "plt.xticks(sentiments, sentiment_labels)\n",
        "plt.show()\n"
      ],
      "metadata": {
        "id": "EYFVyXPbcIxX",
        "colab": {
          "base_uri": "https://localhost:8080/",
          "height": 1000
        },
        "outputId": "b2a703f9-4db6-415c-f692-04437a60b9cb"
      },
      "execution_count": null,
      "outputs": [
        {
          "output_type": "stream",
          "name": "stdout",
          "text": [
            "1/1 [==============================] - 0s 39ms/step\n",
            "1/1 [==============================] - 0s 37ms/step\n",
            "1/1 [==============================] - 0s 41ms/step\n",
            "1/1 [==============================] - 0s 70ms/step\n",
            "1/1 [==============================] - 0s 38ms/step\n",
            "1/1 [==============================] - 0s 41ms/step\n",
            "1/1 [==============================] - 0s 38ms/step\n",
            "1/1 [==============================] - 0s 42ms/step\n",
            "1/1 [==============================] - 0s 50ms/step\n",
            "1/1 [==============================] - 0s 37ms/step\n",
            "1/1 [==============================] - 0s 41ms/step\n",
            "1/1 [==============================] - 0s 40ms/step\n",
            "1/1 [==============================] - 0s 38ms/step\n",
            "1/1 [==============================] - 0s 36ms/step\n",
            "1/1 [==============================] - 0s 33ms/step\n",
            "1/1 [==============================] - 0s 33ms/step\n",
            "1/1 [==============================] - 0s 38ms/step\n",
            "1/1 [==============================] - 0s 32ms/step\n",
            "1/1 [==============================] - 0s 34ms/step\n",
            "1/1 [==============================] - 0s 35ms/step\n",
            "1/1 [==============================] - 0s 39ms/step\n",
            "1/1 [==============================] - 0s 32ms/step\n",
            "1/1 [==============================] - 0s 33ms/step\n",
            "1/1 [==============================] - 0s 59ms/step\n",
            "1/1 [==============================] - 0s 33ms/step\n",
            "1/1 [==============================] - 0s 36ms/step\n",
            "1/1 [==============================] - 0s 31ms/step\n",
            "1/1 [==============================] - 0s 36ms/step\n",
            "1/1 [==============================] - 0s 34ms/step\n"
          ]
        },
        {
          "output_type": "display_data",
          "data": {
            "text/plain": [
              "<Figure size 800x600 with 1 Axes>"
            ],
            "image/png": "[encoded data removed]"
          },
          "metadata": {}
        }
      ]
    },
    {
      "cell_type": "code",
      "source": [
        "sentiment_predict('악귀 정말 재밌어요!!')"
      ],
      "metadata": {
        "id": "Cogw98cBdHfB"
      },
      "execution_count": null,
      "outputs": []
    },
    {
      "cell_type": "code",
      "source": [
        "sentiment_predict('악귀 너무 재미없어요 망한 작품이네요')"
      ],
      "metadata": {
        "id": "UEQZuG1jdNKk"
      },
      "execution_count": null,
      "outputs": []
    },
    {
      "cell_type": "code",
      "source": [
        "sentiment_predict('너무 좋아요')"
      ],
      "metadata": {
        "id": "oHlmXJZPdiN0"
      },
      "execution_count": null,
      "outputs": []
    },
    {
      "cell_type": "code",
      "source": [
        "sentiment_predict('평범하네요')"
      ],
      "metadata": {
        "id": "V_UufBdiz0Tg"
      },
      "execution_count": null,
      "outputs": []
    }
  ]
}