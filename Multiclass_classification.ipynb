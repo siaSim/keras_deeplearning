{
  "nbformat": 4,
  "nbformat_minor": 0,
  "metadata": {
    "colab": {
      "provenance": [],
      "authorship_tag": "ABX9TyOS0Y1isJW8xY9exxKgkbYt",
      "include_colab_link": true
    },
    "kernelspec": {
      "name": "python3",
      "display_name": "Python 3"
    },
    "language_info": {
      "name": "python"
    }
  },
  "cells": [
    {
      "cell_type": "markdown",
      "metadata": {
        "id": "view-in-github",
        "colab_type": "text"
      },
      "source": [
        "<a href=\"https://colab.research.google.com/github/siaSim/keras_deeplearning/blob/main/Multiclass_classification.ipynb\" target=\"_parent\"><img src=\"https://colab.research.google.com/assets/colab-badge.svg\" alt=\"Open In Colab\"/></a>"
      ]
    },
    {
      "cell_type": "markdown",
      "source": [
        "뉴스 기사 분류 : 다중 분류 문제"
      ],
      "metadata": {
        "id": "0KDp9kaIzX_A"
      }
    },
    {
      "cell_type": "code",
      "source": [
        "import matplotlib.pyplot as plt"
      ],
      "metadata": {
        "id": "AFQmhVkS8DsC"
      },
      "execution_count": 1,
      "outputs": []
    },
    {
      "cell_type": "markdown",
      "source": [
        "4.2.1 로이터 데이터셋"
      ],
      "metadata": {
        "id": "J3EznGZHCCxL"
      }
    },
    {
      "cell_type": "code",
      "execution_count": 2,
      "metadata": {
        "colab": {
          "base_uri": "https://localhost:8080/"
        },
        "id": "lwFgCAZjy7mP",
        "outputId": "6ac22f94-6ccb-450f-cab2-9270feff4122"
      },
      "outputs": [
        {
          "output_type": "stream",
          "name": "stdout",
          "text": [
            "Downloading data from https://storage.googleapis.com/tensorflow/tf-keras-datasets/reuters.npz\n",
            "2110848/2110848 [==============================] - 0s 0us/step\n"
          ]
        }
      ],
      "source": [
        "from tensorflow.keras.datasets import reuters\n",
        "\n",
        "(train_data, train_labels),(test_data, test_labels)=reuters.load_data(num_words=10000)"
      ]
    },
    {
      "cell_type": "code",
      "source": [
        "len(train_data)"
      ],
      "metadata": {
        "colab": {
          "base_uri": "https://localhost:8080/"
        },
        "id": "ghRRvr78z9Ag",
        "outputId": "d3a399f3-05cf-4d32-99f8-9a9392f07cf5"
      },
      "execution_count": 3,
      "outputs": [
        {
          "output_type": "execute_result",
          "data": {
            "text/plain": [
              "8982"
            ]
          },
          "metadata": {},
          "execution_count": 3
        }
      ]
    },
    {
      "cell_type": "code",
      "source": [
        "len(test_data)"
      ],
      "metadata": {
        "colab": {
          "base_uri": "https://localhost:8080/"
        },
        "id": "TnOnaUiB0APM",
        "outputId": "1a379a15-c144-44bc-a9f9-d9008abcde9f"
      },
      "execution_count": 4,
      "outputs": [
        {
          "output_type": "execute_result",
          "data": {
            "text/plain": [
              "2246"
            ]
          },
          "metadata": {},
          "execution_count": 4
        }
      ]
    },
    {
      "cell_type": "code",
      "source": [
        "word_index=reuters.get_word_index()\n",
        "reverse_word_index=dict([(value,key) for (key, value) in word_index.items()])\n",
        "decoded_newswire=\" \".join([reverse_word_index.get(i-3, \"?\") for i in train_data[0]])"
      ],
      "metadata": {
        "colab": {
          "base_uri": "https://localhost:8080/"
        },
        "id": "plN4Yyge0TQu",
        "outputId": "0f78c1ca-fafd-4a94-b503-7ccb29a47f30"
      },
      "execution_count": 5,
      "outputs": [
        {
          "output_type": "stream",
          "name": "stdout",
          "text": [
            "Downloading data from https://storage.googleapis.com/tensorflow/tf-keras-datasets/reuters_word_index.json\n",
            "550378/550378 [==============================] - 0s 0us/step\n"
          ]
        }
      ]
    },
    {
      "cell_type": "code",
      "source": [
        "train_labels[10]"
      ],
      "metadata": {
        "colab": {
          "base_uri": "https://localhost:8080/"
        },
        "id": "Pi1WIy0m03lc",
        "outputId": "474d55f1-11e3-4a75-c75c-63289c619ad7"
      },
      "execution_count": 6,
      "outputs": [
        {
          "output_type": "execute_result",
          "data": {
            "text/plain": [
              "3"
            ]
          },
          "metadata": {},
          "execution_count": 6
        }
      ]
    },
    {
      "cell_type": "markdown",
      "source": [
        "4.2.2 데이터 준비"
      ],
      "metadata": {
        "id": "JgQxaN0O07NF"
      }
    },
    {
      "cell_type": "code",
      "source": [
        "import numpy as np\n",
        "\n",
        "def vectorize_sequences(sequences, dimension=10000):\n",
        " results=np.zeros((len(sequences), dimension))\n",
        " for i, sequence in enumerate(sequences):\n",
        "  for j in sequence:\n",
        "    results[i, j]=1.\n",
        " return results\n",
        "x_train=vectorize_sequences(train_data)\n",
        "x_test=vectorize_sequences(test_data)"
      ],
      "metadata": {
        "id": "amhJiONO06km"
      },
      "execution_count": 7,
      "outputs": []
    },
    {
      "cell_type": "code",
      "source": [
        "def to_one_hot(labels, dimension=46):\n",
        "  results = np.zeros((len(labels), dimension))\n",
        "  for i, label in enumerate(labels):\n",
        "    results[i, label]=1.\n",
        "y_train = to_one_hot(train_labels)\n",
        "y_test = to_one_hot(test_labels)"
      ],
      "metadata": {
        "id": "T2_Ok6ro8l2e"
      },
      "execution_count": 8,
      "outputs": []
    },
    {
      "cell_type": "code",
      "source": [
        "from tensorflow.keras.utils import to_categorical\n",
        "y_train=to_categorical(train_labels)\n",
        "y_test=to_categorical(test_labels)"
      ],
      "metadata": {
        "id": "-3nd16mt8_Ky"
      },
      "execution_count": 9,
      "outputs": []
    },
    {
      "cell_type": "markdown",
      "source": [
        "4.2.3 모델 구성"
      ],
      "metadata": {
        "id": "kIyVxSV69UTI"
      }
    },
    {
      "cell_type": "code",
      "source": [
        "from tensorflow import keras\n",
        "from tensorflow.keras import layers\n",
        "\n",
        "model = keras.Sequential([\n",
        "    layers.Dense(64, activation=\"relu\"),\n",
        "    layers.Dense(64, activation=\"relu\"),\n",
        "    layers.Dense(46, activation=\"softmax\")\n",
        "])"
      ],
      "metadata": {
        "id": "V88aUJGO9SHx"
      },
      "execution_count": 10,
      "outputs": []
    },
    {
      "cell_type": "code",
      "source": [
        "model.compile(optimizer=\"rmsprop\",\n",
        "              loss=\"categorical_crossentropy\",\n",
        "              metrics=[\"accuracy\"])"
      ],
      "metadata": {
        "id": "zK0aUYUS-owB"
      },
      "execution_count": 11,
      "outputs": []
    },
    {
      "cell_type": "markdown",
      "source": [
        "4.2.4 훈련 검증"
      ],
      "metadata": {
        "id": "wfRNri61-24u"
      }
    },
    {
      "cell_type": "code",
      "source": [
        "x_val = x_train[:1000]\n",
        "partial_x_train =x_train[1000:]\n",
        "y_val=y_train[:1000]\n",
        "partial_y_train = y_train[1000:]"
      ],
      "metadata": {
        "id": "P6jq1o3n-2ja"
      },
      "execution_count": 12,
      "outputs": []
    },
    {
      "cell_type": "code",
      "source": [
        "history=model.fit(partial_x_train,\n",
        "                  partial_y_train,\n",
        "                  epochs=20,\n",
        "                  batch_size=512,\n",
        "                  validation_data=(x_val, y_val))"
      ],
      "metadata": {
        "colab": {
          "base_uri": "https://localhost:8080/"
        },
        "id": "rpbUgIeY_Hws",
        "outputId": "0d41be43-5464-4072-9467-7fe428ea8469"
      },
      "execution_count": 13,
      "outputs": [
        {
          "output_type": "stream",
          "name": "stdout",
          "text": [
            "Epoch 1/20\n",
            "16/16 [==============================] - 6s 190ms/step - loss: 2.7389 - accuracy: 0.4400 - val_loss: 1.8537 - val_accuracy: 0.5870\n",
            "Epoch 2/20\n",
            "16/16 [==============================] - 2s 157ms/step - loss: 1.5730 - accuracy: 0.6646 - val_loss: 1.4257 - val_accuracy: 0.6770\n",
            "Epoch 3/20\n",
            "16/16 [==============================] - 1s 71ms/step - loss: 1.2080 - accuracy: 0.7380 - val_loss: 1.2282 - val_accuracy: 0.7230\n",
            "Epoch 4/20\n",
            "16/16 [==============================] - 1s 83ms/step - loss: 0.9867 - accuracy: 0.7900 - val_loss: 1.1111 - val_accuracy: 0.7600\n",
            "Epoch 5/20\n",
            "16/16 [==============================] - 2s 154ms/step - loss: 0.8146 - accuracy: 0.8254 - val_loss: 1.0329 - val_accuracy: 0.7790\n",
            "Epoch 6/20\n",
            "16/16 [==============================] - 3s 157ms/step - loss: 0.6775 - accuracy: 0.8529 - val_loss: 0.9726 - val_accuracy: 0.7870\n",
            "Epoch 7/20\n",
            "16/16 [==============================] - 2s 108ms/step - loss: 0.5669 - accuracy: 0.8770 - val_loss: 0.9277 - val_accuracy: 0.8010\n",
            "Epoch 8/20\n",
            "16/16 [==============================] - 1s 62ms/step - loss: 0.4769 - accuracy: 0.8975 - val_loss: 0.9089 - val_accuracy: 0.8070\n",
            "Epoch 9/20\n",
            "16/16 [==============================] - 1s 63ms/step - loss: 0.4032 - accuracy: 0.9128 - val_loss: 0.8786 - val_accuracy: 0.8130\n",
            "Epoch 10/20\n",
            "16/16 [==============================] - 1s 71ms/step - loss: 0.3513 - accuracy: 0.9243 - val_loss: 0.8994 - val_accuracy: 0.8120\n",
            "Epoch 11/20\n",
            "16/16 [==============================] - 1s 83ms/step - loss: 0.2988 - accuracy: 0.9337 - val_loss: 0.8808 - val_accuracy: 0.8150\n",
            "Epoch 12/20\n",
            "16/16 [==============================] - 2s 127ms/step - loss: 0.2651 - accuracy: 0.9395 - val_loss: 0.8903 - val_accuracy: 0.8230\n",
            "Epoch 13/20\n",
            "16/16 [==============================] - 2s 126ms/step - loss: 0.2322 - accuracy: 0.9456 - val_loss: 0.9042 - val_accuracy: 0.8150\n",
            "Epoch 14/20\n",
            "16/16 [==============================] - 2s 120ms/step - loss: 0.2078 - accuracy: 0.9494 - val_loss: 0.9483 - val_accuracy: 0.7960\n",
            "Epoch 15/20\n",
            "16/16 [==============================] - 1s 68ms/step - loss: 0.1887 - accuracy: 0.9515 - val_loss: 0.9195 - val_accuracy: 0.8200\n",
            "Epoch 16/20\n",
            "16/16 [==============================] - 1s 55ms/step - loss: 0.1739 - accuracy: 0.9541 - val_loss: 0.9238 - val_accuracy: 0.8090\n",
            "Epoch 17/20\n",
            "16/16 [==============================] - 1s 59ms/step - loss: 0.1593 - accuracy: 0.9529 - val_loss: 0.9459 - val_accuracy: 0.8120\n",
            "Epoch 18/20\n",
            "16/16 [==============================] - 1s 68ms/step - loss: 0.1491 - accuracy: 0.9550 - val_loss: 0.9515 - val_accuracy: 0.8120\n",
            "Epoch 19/20\n",
            "16/16 [==============================] - 1s 60ms/step - loss: 0.1421 - accuracy: 0.9568 - val_loss: 0.9551 - val_accuracy: 0.8120\n",
            "Epoch 20/20\n",
            "16/16 [==============================] - 1s 53ms/step - loss: 0.1351 - accuracy: 0.9564 - val_loss: 1.0027 - val_accuracy: 0.7950\n"
          ]
        }
      ]
    },
    {
      "cell_type": "code",
      "source": [
        "loss = history.history[\"loss\"]\n",
        "val_loss = history.history[\"val_loss\"]\n",
        "epochs = range(1, len(loss)+1)\n",
        "plt.plot(epochs, loss, \"bo\", label=\"Training loss\")\n",
        "plt.plot(epochs, val_loss, \"b\", label=\"Validation loss\")\n",
        "plt.title(\"Training and validation loss\")\n",
        "plt.xlabel(\"Epochs\")\n",
        "plt.ylabel(\"Loss\")\n",
        "plt.legend()\n",
        "plt.show()"
      ],
      "metadata": {
        "colab": {
          "base_uri": "https://localhost:8080/",
          "height": 472
        },
        "id": "qpTydie8_-i8",
        "outputId": "985a2111-f559-4545-bd88-2427c71b4ccc"
      },
      "execution_count": 14,
      "outputs": [
        {
          "output_type": "display_data",
          "data": {
            "text/plain": [
              "<Figure size 640x480 with 1 Axes>"
            ],
            "image/png": "[encoded data removed]"
          },
          "metadata": {}
        }
      ]
    },
    {
      "cell_type": "code",
      "source": [
        "plt.clf()\n",
        "acc = history.history[\"accuracy\"]\n",
        "val_acc = history.history[\"val_accuracy\"]\n",
        "plt.plot(epochs, acc, \"bo\", label=\"Training loss\")\n",
        "plt.plot(epochs, val_acc, \"b\", label=\"Validation loss\")\n",
        "plt.title(\"Training and validation loss\")\n",
        "plt.xlabel(\"Epochs\")\n",
        "plt.ylabel(\"Accuracy\")\n",
        "plt.legend()\n",
        "plt.show()"
      ],
      "metadata": {
        "colab": {
          "base_uri": "https://localhost:8080/",
          "height": 472
        },
        "id": "yJOudSmPArY_",
        "outputId": "7531457b-cd8a-4009-da50-c481590d0f35"
      },
      "execution_count": 15,
      "outputs": [
        {
          "output_type": "display_data",
          "data": {
            "text/plain": [
              "<Figure size 640x480 with 1 Axes>"
            ],
            "image/png": "[encoded data removed]"
          },
          "metadata": {}
        }
      ]
    },
    {
      "cell_type": "code",
      "source": [
        "model=keras.Sequential([\n",
        "    layers.Dense(64, activation=\"relu\"),\n",
        "    layers.Dense(64, activation=\"relu\"),\n",
        "    layers.Dense(46, activation=\"softmax\")\n",
        "])\n",
        "model.compile(optimizer=\"rmsprop\",\n",
        "              loss=\"categorical_crossentropy\",\n",
        "              metrics=[\"accuracy\"])\n",
        "model.fit(x_train,\n",
        "          y_train,\n",
        "          epochs=9,\n",
        "          batch_size=512)\n",
        "results=model.evaluate(x_test, y_test)"
      ],
      "metadata": {
        "colab": {
          "base_uri": "https://localhost:8080/"
        },
        "id": "k9yFefCHBBDg",
        "outputId": "bce0d97d-ae2b-4186-d604-65e124348851"
      },
      "execution_count": 16,
      "outputs": [
        {
          "output_type": "stream",
          "name": "stdout",
          "text": [
            "Epoch 1/9\n",
            "18/18 [==============================] - 2s 53ms/step - loss: 2.6150 - accuracy: 0.4516\n",
            "Epoch 2/9\n",
            "18/18 [==============================] - 1s 56ms/step - loss: 1.4990 - accuracy: 0.6788\n",
            "Epoch 3/9\n",
            "18/18 [==============================] - 1s 59ms/step - loss: 1.1507 - accuracy: 0.7566\n",
            "Epoch 4/9\n",
            "18/18 [==============================] - 1s 59ms/step - loss: 0.9320 - accuracy: 0.8042\n",
            "Epoch 5/9\n",
            "18/18 [==============================] - 1s 69ms/step - loss: 0.7687 - accuracy: 0.8343\n",
            "Epoch 6/9\n",
            "18/18 [==============================] - 2s 89ms/step - loss: 0.6343 - accuracy: 0.8634\n",
            "Epoch 7/9\n",
            "18/18 [==============================] - 1s 76ms/step - loss: 0.5244 - accuracy: 0.8868\n",
            "Epoch 8/9\n",
            "18/18 [==============================] - 1s 51ms/step - loss: 0.4374 - accuracy: 0.9041\n",
            "Epoch 9/9\n",
            "18/18 [==============================] - 1s 55ms/step - loss: 0.3666 - accuracy: 0.9206\n",
            "71/71 [==============================] - 0s 3ms/step - loss: 0.9078 - accuracy: 0.7965\n"
          ]
        }
      ]
    },
    {
      "cell_type": "code",
      "source": [
        "results"
      ],
      "metadata": {
        "colab": {
          "base_uri": "https://localhost:8080/"
        },
        "id": "Wrl21maiB2ly",
        "outputId": "f910d6f2-f005-4fae-d19a-94fd4073e6b0"
      },
      "execution_count": 17,
      "outputs": [
        {
          "output_type": "execute_result",
          "data": {
            "text/plain": [
              "[0.9077856540679932, 0.7965271472930908]"
            ]
          },
          "metadata": {},
          "execution_count": 17
        }
      ]
    }
  ]
}