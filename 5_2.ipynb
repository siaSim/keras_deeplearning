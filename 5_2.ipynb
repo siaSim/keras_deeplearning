{
  "nbformat": 4,
  "nbformat_minor": 0,
  "metadata": {
    "colab": {
      "provenance": [],
      "authorship_tag": "ABX9TyPQOuMlGDS/naDQajA5VNq9",
      "include_colab_link": true
    },
    "kernelspec": {
      "name": "python3",
      "display_name": "Python 3"
    },
    "language_info": {
      "name": "python"
    }
  },
  "cells": [
    {
      "cell_type": "markdown",
      "metadata": {
        "id": "view-in-github",
        "colab_type": "text"
      },
      "source": [
        "<a href=\"https://colab.research.google.com/github/siaSim/keras_deeplearning/blob/main/5_2.ipynb\" target=\"_parent\"><img src=\"https://colab.research.google.com/assets/colab-badge.svg\" alt=\"Open In Colab\"/></a>"
      ]
    },
    {
      "cell_type": "markdown",
      "source": [
        "# **5.1 일반화 : 머신 러닝의 목표 **\n",
        "**5.1.1 과소적합과 과대적합**"
      ],
      "metadata": {
        "id": "JxOKGy1G4rCP"
      }
    },
    {
      "cell_type": "markdown",
      "source": [
        "MNIST에 백색 잡음 픽셀과 0픽셀 추가하기"
      ],
      "metadata": {
        "id": "s8RJZQ4KzKj0"
      }
    },
    {
      "cell_type": "code",
      "execution_count": 1,
      "metadata": {
        "colab": {
          "base_uri": "https://localhost:8080/"
        },
        "id": "KDKu5-RPzEKZ",
        "outputId": "c05c6e99-6a8d-4f14-da15-c35687565370"
      },
      "outputs": [
        {
          "output_type": "stream",
          "name": "stdout",
          "text": [
            "Downloading data from https://storage.googleapis.com/tensorflow/tf-keras-datasets/mnist.npz\n",
            "11490434/11490434 [==============================] - 0s 0us/step\n"
          ]
        }
      ],
      "source": [
        "from tensorflow.keras.datasets import mnist\n",
        "import numpy as np\n",
        "\n",
        "(train_images, train_labels), _= mnist.load_data()\n",
        "train_images = train_images.reshape((60000, 28*28))\n",
        "tarin_images = train_images.astype(\"float32\")/255\n",
        "train_images_with_noise_channels = np.concatenate(\n",
        "    [train_images, np.random.random((len(train_images), 784))], axis=1)\n",
        "train_images_with_zeros_channels = np.concatenate(\n",
        "    [train_images, np.zeros((len(train_images), 784))], axis=1)"
      ]
    },
    {
      "cell_type": "markdown",
      "source": [
        "백색 잡음과 0을 추가한 MNIST 데이터에서 모델 훈련하기"
      ],
      "metadata": {
        "id": "Q2V8mxDI48Py"
      }
    },
    {
      "cell_type": "code",
      "source": [
        "from tensorflow import keras\n",
        "from tensorflow.keras import layers\n",
        "\n",
        "def get_model():\n",
        "  model = keras.Sequential([\n",
        "      layers.Dense(512, activation=\"relu\"),\n",
        "      layers.Dense(10, activation=\"softmax\")\n",
        "      ])\n",
        "  model.compile(optimizer=\"rmsprop\",\n",
        "                loss=\"sparse_categorical_crossentropy\",\n",
        "                metrics=[\"accuracy\"])\n",
        "  return model\n",
        "\n",
        "model = get_model()\n",
        "history_noise = model.fit(\n",
        "    train_images_with_noise_channels, train_labels,\n",
        "    epochs=10,\n",
        "    batch_size = 128,\n",
        "    validation_split=0.2)\n",
        "\n",
        "model = get_model()\n",
        "history_zeros = model.fit(\n",
        "    train_images_with_zeros_channels, train_labels,\n",
        "    epochs=10,\n",
        "    batch_size = 128,\n",
        "    validation_split=0.2)\n"
      ],
      "metadata": {
        "colab": {
          "base_uri": "https://localhost:8080/"
        },
        "id": "j1K6NXZG0Lzo",
        "outputId": "10a83912-a9b4-48f4-f112-657a49565640"
      },
      "execution_count": 2,
      "outputs": [
        {
          "output_type": "stream",
          "name": "stdout",
          "text": [
            "Epoch 1/10\n",
            "375/375 [==============================] - 8s 18ms/step - loss: 5.5501 - accuracy: 0.8886 - val_loss: 1.0468 - val_accuracy: 0.9242\n",
            "Epoch 2/10\n",
            "375/375 [==============================] - 7s 18ms/step - loss: 0.6870 - accuracy: 0.9471 - val_loss: 0.7208 - val_accuracy: 0.9521\n",
            "Epoch 3/10\n",
            "375/375 [==============================] - 4s 10ms/step - loss: 0.4546 - accuracy: 0.9620 - val_loss: 0.5738 - val_accuracy: 0.9597\n",
            "Epoch 4/10\n",
            "375/375 [==============================] - 4s 10ms/step - loss: 0.3439 - accuracy: 0.9699 - val_loss: 0.5931 - val_accuracy: 0.9582\n",
            "Epoch 5/10\n",
            "375/375 [==============================] - 4s 11ms/step - loss: 0.2981 - accuracy: 0.9743 - val_loss: 0.7588 - val_accuracy: 0.9579\n",
            "Epoch 6/10\n",
            "375/375 [==============================] - 4s 10ms/step - loss: 0.2642 - accuracy: 0.9773 - val_loss: 0.6750 - val_accuracy: 0.9668\n",
            "Epoch 7/10\n",
            "375/375 [==============================] - 4s 10ms/step - loss: 0.2154 - accuracy: 0.9820 - val_loss: 0.8114 - val_accuracy: 0.9606\n",
            "Epoch 8/10\n",
            "375/375 [==============================] - 4s 12ms/step - loss: 0.2111 - accuracy: 0.9828 - val_loss: 0.7620 - val_accuracy: 0.9672\n",
            "Epoch 9/10\n",
            "375/375 [==============================] - 4s 10ms/step - loss: 0.2081 - accuracy: 0.9846 - val_loss: 0.8085 - val_accuracy: 0.9666\n",
            "Epoch 10/10\n",
            "375/375 [==============================] - 4s 10ms/step - loss: 0.1701 - accuracy: 0.9866 - val_loss: 1.0097 - val_accuracy: 0.9657\n",
            "Epoch 1/10\n",
            "375/375 [==============================] - 5s 12ms/step - loss: 5.7699 - accuracy: 0.8894 - val_loss: 0.8888 - val_accuracy: 0.9327\n",
            "Epoch 2/10\n",
            "375/375 [==============================] - 4s 10ms/step - loss: 0.6271 - accuracy: 0.9501 - val_loss: 0.6108 - val_accuracy: 0.9549\n",
            "Epoch 3/10\n",
            "375/375 [==============================] - 4s 11ms/step - loss: 0.4287 - accuracy: 0.9613 - val_loss: 0.6748 - val_accuracy: 0.9552\n",
            "Epoch 4/10\n",
            "375/375 [==============================] - 4s 12ms/step - loss: 0.3316 - accuracy: 0.9696 - val_loss: 0.6430 - val_accuracy: 0.9596\n",
            "Epoch 5/10\n",
            "375/375 [==============================] - 4s 11ms/step - loss: 0.2952 - accuracy: 0.9755 - val_loss: 0.7044 - val_accuracy: 0.9661\n",
            "Epoch 6/10\n",
            "375/375 [==============================] - 4s 11ms/step - loss: 0.2710 - accuracy: 0.9784 - val_loss: 0.6676 - val_accuracy: 0.9691\n",
            "Epoch 7/10\n",
            "375/375 [==============================] - 4s 12ms/step - loss: 0.2356 - accuracy: 0.9814 - val_loss: 0.7212 - val_accuracy: 0.9647\n",
            "Epoch 8/10\n",
            "375/375 [==============================] - 4s 10ms/step - loss: 0.2106 - accuracy: 0.9831 - val_loss: 0.7211 - val_accuracy: 0.9634\n",
            "Epoch 9/10\n",
            "375/375 [==============================] - 4s 11ms/step - loss: 0.1755 - accuracy: 0.9854 - val_loss: 0.7691 - val_accuracy: 0.9637\n",
            "Epoch 10/10\n",
            "375/375 [==============================] - 4s 11ms/step - loss: 0.2005 - accuracy: 0.9861 - val_loss: 0.7090 - val_accuracy: 0.9701\n"
          ]
        }
      ]
    },
    {
      "cell_type": "markdown",
      "source": [
        "검증 정확도 비교 그래프 그리기"
      ],
      "metadata": {
        "id": "6hfyiJar5AmZ"
      }
    },
    {
      "cell_type": "code",
      "source": [
        "import matplotlib.pyplot as plt\n",
        "\n",
        "val_acc_noise = history_noise.history[\"val_accuracy\"]\n",
        "val_acc_zeros = history_zeros.history[\"val_accuracy\"]\n",
        "epochs=range(1,11)\n",
        "plt.plot(epochs, val_acc_noise, \"b-\",\n",
        "         label=\"Validation accuracy with noise channels\")\n",
        "plt.plot(epochs, val_acc_zeros, \"b--\",\n",
        "         label=\"Validation accuracy with zeros channels\")\n",
        "plt.xlabel(\"Epochs\")\n",
        "plt.ylabel(\"Accuracy\")\n",
        "plt.legend()\n",
        "plt.show()"
      ],
      "metadata": {
        "colab": {
          "base_uri": "https://localhost:8080/",
          "height": 449
        },
        "id": "1E4o9ehF3JBi",
        "outputId": "d9adcf3e-f9d3-4e94-b5b9-f9588b717821"
      },
      "execution_count": 3,
      "outputs": [
        {
          "output_type": "display_data",
          "data": {
            "text/plain": [
              "<Figure size 640x480 with 1 Axes>"
            ],
            "image/png": "[encoded data removed]"
          },
          "metadata": {}
        }
      ]
    },
    {
      "cell_type": "code",
      "source": [
        "(train_images, train_labels), _ = mnist.load_data()\n",
        "train_images = train_images.reshape((60000, 28*28))\n",
        "train_images = train_images.astype(\"float32\")/255\n",
        "\n",
        "random_train_labels = train_labels[:]\n",
        "np.random.shuffle(random_train_labels)\n",
        "\n",
        "model = keras.Sequential([\n",
        "    layers.Dense(512, activation=\"relu\"),\n",
        "    layers.Dense(10, activation=\"softmax\")\n",
        "])\n",
        "model.compile(optimizer=\"rmsprop\",\n",
        "              loss=\"sparse_categorical_crossentropy\",\n",
        "              metrics=[\"accuracy\"])\n",
        "model.fit(train_images, random_train_labels,\n",
        "          epochs=100,\n",
        "          batch_size=128,\n",
        "          validation_split=0.2)"
      ],
      "metadata": {
        "colab": {
          "base_uri": "https://localhost:8080/"
        },
        "id": "Z0YzK5qHDDrd",
        "outputId": "584e6e32-810c-4e35-ce85-2c3cf6861e8b"
      },
      "execution_count": 4,
      "outputs": [
        {
          "output_type": "stream",
          "name": "stdout",
          "text": [
            "Epoch 1/100\n",
            "375/375 [==============================] - 3s 7ms/step - loss: 2.3158 - accuracy: 0.1031 - val_loss: 2.3034 - val_accuracy: 0.1074\n",
            "Epoch 2/100\n",
            "375/375 [==============================] - 2s 6ms/step - loss: 2.2992 - accuracy: 0.1156 - val_loss: 2.3126 - val_accuracy: 0.1026\n",
            "Epoch 3/100\n",
            "375/375 [==============================] - 2s 6ms/step - loss: 2.2911 - accuracy: 0.1272 - val_loss: 2.3167 - val_accuracy: 0.0997\n",
            "Epoch 4/100\n",
            "375/375 [==============================] - 2s 6ms/step - loss: 2.2782 - accuracy: 0.1406 - val_loss: 2.3314 - val_accuracy: 0.1002\n",
            "Epoch 5/100\n",
            "375/375 [==============================] - 2s 7ms/step - loss: 2.2637 - accuracy: 0.1517 - val_loss: 2.3452 - val_accuracy: 0.0969\n",
            "Epoch 6/100\n",
            "375/375 [==============================] - 2s 6ms/step - loss: 2.2440 - accuracy: 0.1647 - val_loss: 2.3573 - val_accuracy: 0.0967\n",
            "Epoch 7/100\n",
            "375/375 [==============================] - 2s 6ms/step - loss: 2.2206 - accuracy: 0.1802 - val_loss: 2.3753 - val_accuracy: 0.0952\n",
            "Epoch 8/100\n",
            "375/375 [==============================] - 2s 6ms/step - loss: 2.1954 - accuracy: 0.1942 - val_loss: 2.3839 - val_accuracy: 0.1012\n",
            "Epoch 9/100\n",
            "375/375 [==============================] - 2s 6ms/step - loss: 2.1661 - accuracy: 0.2111 - val_loss: 2.4112 - val_accuracy: 0.0949\n",
            "Epoch 10/100\n",
            "375/375 [==============================] - 2s 7ms/step - loss: 2.1345 - accuracy: 0.2276 - val_loss: 2.4344 - val_accuracy: 0.0986\n",
            "Epoch 11/100\n",
            "375/375 [==============================] - 3s 7ms/step - loss: 2.1003 - accuracy: 0.2436 - val_loss: 2.4579 - val_accuracy: 0.0914\n",
            "Epoch 12/100\n",
            "375/375 [==============================] - 2s 6ms/step - loss: 2.0642 - accuracy: 0.2605 - val_loss: 2.4873 - val_accuracy: 0.0969\n",
            "Epoch 13/100\n",
            "375/375 [==============================] - 2s 6ms/step - loss: 2.0280 - accuracy: 0.2796 - val_loss: 2.5056 - val_accuracy: 0.0950\n",
            "Epoch 14/100\n",
            "375/375 [==============================] - 2s 6ms/step - loss: 1.9908 - accuracy: 0.2939 - val_loss: 2.5424 - val_accuracy: 0.0950\n",
            "Epoch 15/100\n",
            "375/375 [==============================] - 2s 6ms/step - loss: 1.9500 - accuracy: 0.3113 - val_loss: 2.5751 - val_accuracy: 0.0974\n",
            "Epoch 16/100\n",
            "375/375 [==============================] - 3s 7ms/step - loss: 1.9121 - accuracy: 0.3308 - val_loss: 2.5965 - val_accuracy: 0.0970\n",
            "Epoch 17/100\n",
            "375/375 [==============================] - 2s 6ms/step - loss: 1.8715 - accuracy: 0.3440 - val_loss: 2.6379 - val_accuracy: 0.0955\n",
            "Epoch 18/100\n",
            "375/375 [==============================] - 2s 6ms/step - loss: 1.8328 - accuracy: 0.3589 - val_loss: 2.6737 - val_accuracy: 0.0943\n",
            "Epoch 19/100\n",
            "375/375 [==============================] - 2s 6ms/step - loss: 1.7950 - accuracy: 0.3747 - val_loss: 2.7259 - val_accuracy: 0.0972\n",
            "Epoch 20/100\n",
            "375/375 [==============================] - 2s 6ms/step - loss: 1.7558 - accuracy: 0.3892 - val_loss: 2.7620 - val_accuracy: 0.0988\n",
            "Epoch 21/100\n",
            "375/375 [==============================] - 3s 7ms/step - loss: 1.7172 - accuracy: 0.4070 - val_loss: 2.8097 - val_accuracy: 0.0961\n",
            "Epoch 22/100\n",
            "375/375 [==============================] - 2s 6ms/step - loss: 1.6788 - accuracy: 0.4183 - val_loss: 2.8383 - val_accuracy: 0.0953\n",
            "Epoch 23/100\n",
            "375/375 [==============================] - 2s 6ms/step - loss: 1.6423 - accuracy: 0.4359 - val_loss: 2.8914 - val_accuracy: 0.0939\n",
            "Epoch 24/100\n",
            "375/375 [==============================] - 2s 6ms/step - loss: 1.6072 - accuracy: 0.4476 - val_loss: 2.9304 - val_accuracy: 0.0947\n",
            "Epoch 25/100\n",
            "375/375 [==============================] - 2s 6ms/step - loss: 1.5706 - accuracy: 0.4614 - val_loss: 2.9819 - val_accuracy: 0.0953\n",
            "Epoch 26/100\n",
            "375/375 [==============================] - 3s 8ms/step - loss: 1.5360 - accuracy: 0.4761 - val_loss: 3.0417 - val_accuracy: 0.0973\n",
            "Epoch 27/100\n",
            "375/375 [==============================] - 2s 6ms/step - loss: 1.5017 - accuracy: 0.4884 - val_loss: 3.0654 - val_accuracy: 0.0931\n",
            "Epoch 28/100\n",
            "375/375 [==============================] - 2s 6ms/step - loss: 1.4699 - accuracy: 0.4992 - val_loss: 3.1410 - val_accuracy: 0.0957\n",
            "Epoch 29/100\n",
            "375/375 [==============================] - 2s 6ms/step - loss: 1.4381 - accuracy: 0.5101 - val_loss: 3.1930 - val_accuracy: 0.0965\n",
            "Epoch 30/100\n",
            "375/375 [==============================] - 2s 6ms/step - loss: 1.4044 - accuracy: 0.5231 - val_loss: 3.2379 - val_accuracy: 0.0964\n",
            "Epoch 31/100\n",
            "375/375 [==============================] - 3s 7ms/step - loss: 1.3752 - accuracy: 0.5338 - val_loss: 3.2779 - val_accuracy: 0.0978\n",
            "Epoch 32/100\n",
            "375/375 [==============================] - 2s 6ms/step - loss: 1.3454 - accuracy: 0.5438 - val_loss: 3.3416 - val_accuracy: 0.0985\n",
            "Epoch 33/100\n",
            "375/375 [==============================] - 2s 6ms/step - loss: 1.3143 - accuracy: 0.5560 - val_loss: 3.3740 - val_accuracy: 0.0978\n",
            "Epoch 34/100\n",
            "375/375 [==============================] - 2s 6ms/step - loss: 1.2875 - accuracy: 0.5648 - val_loss: 3.4416 - val_accuracy: 0.0950\n",
            "Epoch 35/100\n",
            "375/375 [==============================] - 2s 6ms/step - loss: 1.2595 - accuracy: 0.5732 - val_loss: 3.4824 - val_accuracy: 0.0936\n",
            "Epoch 36/100\n",
            "375/375 [==============================] - 3s 7ms/step - loss: 1.2318 - accuracy: 0.5871 - val_loss: 3.5734 - val_accuracy: 0.0986\n",
            "Epoch 37/100\n",
            "375/375 [==============================] - 2s 6ms/step - loss: 1.2067 - accuracy: 0.5966 - val_loss: 3.6161 - val_accuracy: 0.0986\n",
            "Epoch 38/100\n",
            "375/375 [==============================] - 2s 6ms/step - loss: 1.1796 - accuracy: 0.6054 - val_loss: 3.6525 - val_accuracy: 0.0959\n",
            "Epoch 39/100\n",
            "375/375 [==============================] - 2s 6ms/step - loss: 1.1547 - accuracy: 0.6124 - val_loss: 3.7056 - val_accuracy: 0.0961\n",
            "Epoch 40/100\n",
            "375/375 [==============================] - 2s 6ms/step - loss: 1.1295 - accuracy: 0.6225 - val_loss: 3.7728 - val_accuracy: 0.0977\n",
            "Epoch 41/100\n",
            "375/375 [==============================] - 3s 7ms/step - loss: 1.1054 - accuracy: 0.6324 - val_loss: 3.8316 - val_accuracy: 0.0964\n",
            "Epoch 42/100\n",
            "375/375 [==============================] - 2s 6ms/step - loss: 1.0825 - accuracy: 0.6396 - val_loss: 3.8782 - val_accuracy: 0.1004\n",
            "Epoch 43/100\n",
            "375/375 [==============================] - 3s 7ms/step - loss: 1.0602 - accuracy: 0.6459 - val_loss: 3.9710 - val_accuracy: 0.0997\n",
            "Epoch 44/100\n",
            "375/375 [==============================] - 3s 8ms/step - loss: 1.0366 - accuracy: 0.6568 - val_loss: 4.0098 - val_accuracy: 0.0962\n",
            "Epoch 45/100\n",
            "375/375 [==============================] - 3s 7ms/step - loss: 1.0139 - accuracy: 0.6628 - val_loss: 4.0958 - val_accuracy: 0.0977\n",
            "Epoch 46/100\n",
            "375/375 [==============================] - 3s 8ms/step - loss: 0.9936 - accuracy: 0.6712 - val_loss: 4.1665 - val_accuracy: 0.0992\n",
            "Epoch 47/100\n",
            "375/375 [==============================] - 3s 8ms/step - loss: 0.9732 - accuracy: 0.6789 - val_loss: 4.2041 - val_accuracy: 0.1003\n",
            "Epoch 48/100\n",
            "375/375 [==============================] - 3s 8ms/step - loss: 0.9516 - accuracy: 0.6855 - val_loss: 4.2779 - val_accuracy: 0.1001\n",
            "Epoch 49/100\n",
            "375/375 [==============================] - 2s 7ms/step - loss: 0.9312 - accuracy: 0.6935 - val_loss: 4.3706 - val_accuracy: 0.1013\n",
            "Epoch 50/100\n",
            "375/375 [==============================] - 3s 9ms/step - loss: 0.9127 - accuracy: 0.6983 - val_loss: 4.4139 - val_accuracy: 0.0975\n",
            "Epoch 51/100\n",
            "375/375 [==============================] - 2s 6ms/step - loss: 0.8953 - accuracy: 0.7056 - val_loss: 4.5072 - val_accuracy: 0.0991\n",
            "Epoch 52/100\n",
            "375/375 [==============================] - 3s 9ms/step - loss: 0.8766 - accuracy: 0.7132 - val_loss: 4.5263 - val_accuracy: 0.0983\n",
            "Epoch 53/100\n",
            "375/375 [==============================] - 4s 11ms/step - loss: 0.8550 - accuracy: 0.7198 - val_loss: 4.5802 - val_accuracy: 0.0996\n",
            "Epoch 54/100\n",
            "375/375 [==============================] - 4s 10ms/step - loss: 0.8414 - accuracy: 0.7243 - val_loss: 4.7003 - val_accuracy: 0.0993\n",
            "Epoch 55/100\n",
            "375/375 [==============================] - 3s 8ms/step - loss: 0.8227 - accuracy: 0.7321 - val_loss: 4.7757 - val_accuracy: 0.0989\n",
            "Epoch 56/100\n",
            "375/375 [==============================] - 3s 7ms/step - loss: 0.8057 - accuracy: 0.7383 - val_loss: 4.7765 - val_accuracy: 0.1003\n",
            "Epoch 57/100\n",
            "375/375 [==============================] - 4s 9ms/step - loss: 0.7888 - accuracy: 0.7420 - val_loss: 4.8758 - val_accuracy: 0.0978\n",
            "Epoch 58/100\n",
            "375/375 [==============================] - 3s 7ms/step - loss: 0.7749 - accuracy: 0.7459 - val_loss: 4.9430 - val_accuracy: 0.0996\n",
            "Epoch 59/100\n",
            "375/375 [==============================] - 2s 6ms/step - loss: 0.7556 - accuracy: 0.7555 - val_loss: 5.0098 - val_accuracy: 0.0997\n",
            "Epoch 60/100\n",
            "375/375 [==============================] - 2s 6ms/step - loss: 0.7419 - accuracy: 0.7590 - val_loss: 5.0791 - val_accuracy: 0.0965\n",
            "Epoch 61/100\n",
            "375/375 [==============================] - 3s 8ms/step - loss: 0.7267 - accuracy: 0.7642 - val_loss: 5.1409 - val_accuracy: 0.0980\n",
            "Epoch 62/100\n",
            "375/375 [==============================] - 3s 7ms/step - loss: 0.7111 - accuracy: 0.7698 - val_loss: 5.1998 - val_accuracy: 0.0967\n",
            "Epoch 63/100\n",
            "375/375 [==============================] - 2s 6ms/step - loss: 0.6993 - accuracy: 0.7719 - val_loss: 5.3094 - val_accuracy: 0.1002\n",
            "Epoch 64/100\n",
            "375/375 [==============================] - 2s 6ms/step - loss: 0.6825 - accuracy: 0.7805 - val_loss: 5.3530 - val_accuracy: 0.0993\n",
            "Epoch 65/100\n",
            "375/375 [==============================] - 2s 6ms/step - loss: 0.6697 - accuracy: 0.7831 - val_loss: 5.4474 - val_accuracy: 0.0993\n",
            "Epoch 66/100\n",
            "375/375 [==============================] - 2s 6ms/step - loss: 0.6559 - accuracy: 0.7881 - val_loss: 5.5322 - val_accuracy: 0.0975\n",
            "Epoch 67/100\n",
            "375/375 [==============================] - 3s 7ms/step - loss: 0.6452 - accuracy: 0.7926 - val_loss: 5.6222 - val_accuracy: 0.0959\n",
            "Epoch 68/100\n",
            "375/375 [==============================] - 2s 6ms/step - loss: 0.6307 - accuracy: 0.7973 - val_loss: 5.6739 - val_accuracy: 0.0987\n",
            "Epoch 69/100\n",
            "375/375 [==============================] - 2s 6ms/step - loss: 0.6193 - accuracy: 0.7991 - val_loss: 5.7513 - val_accuracy: 0.0988\n",
            "Epoch 70/100\n",
            "375/375 [==============================] - 2s 6ms/step - loss: 0.6072 - accuracy: 0.8047 - val_loss: 5.7958 - val_accuracy: 0.0997\n",
            "Epoch 71/100\n",
            "375/375 [==============================] - 2s 6ms/step - loss: 0.5939 - accuracy: 0.8106 - val_loss: 5.8696 - val_accuracy: 0.0968\n",
            "Epoch 72/100\n",
            "375/375 [==============================] - 3s 7ms/step - loss: 0.5809 - accuracy: 0.8163 - val_loss: 5.9475 - val_accuracy: 0.0964\n",
            "Epoch 73/100\n",
            "375/375 [==============================] - 2s 6ms/step - loss: 0.5724 - accuracy: 0.8167 - val_loss: 6.0411 - val_accuracy: 0.0970\n",
            "Epoch 74/100\n",
            "375/375 [==============================] - 2s 6ms/step - loss: 0.5591 - accuracy: 0.8239 - val_loss: 6.0675 - val_accuracy: 0.0973\n",
            "Epoch 75/100\n",
            "375/375 [==============================] - 2s 6ms/step - loss: 0.5496 - accuracy: 0.8257 - val_loss: 6.1524 - val_accuracy: 0.0972\n",
            "Epoch 76/100\n",
            "375/375 [==============================] - 2s 6ms/step - loss: 0.5377 - accuracy: 0.8307 - val_loss: 6.2370 - val_accuracy: 0.0958\n",
            "Epoch 77/100\n",
            "375/375 [==============================] - 3s 7ms/step - loss: 0.5294 - accuracy: 0.8317 - val_loss: 6.3158 - val_accuracy: 0.0998\n",
            "Epoch 78/100\n",
            "375/375 [==============================] - 2s 6ms/step - loss: 0.5168 - accuracy: 0.8378 - val_loss: 6.3644 - val_accuracy: 0.0980\n",
            "Epoch 79/100\n",
            "375/375 [==============================] - 2s 6ms/step - loss: 0.5060 - accuracy: 0.8417 - val_loss: 6.4616 - val_accuracy: 0.0978\n",
            "Epoch 80/100\n",
            "375/375 [==============================] - 2s 6ms/step - loss: 0.4974 - accuracy: 0.8415 - val_loss: 6.5781 - val_accuracy: 0.0942\n",
            "Epoch 81/100\n",
            "375/375 [==============================] - 2s 6ms/step - loss: 0.4866 - accuracy: 0.8466 - val_loss: 6.6559 - val_accuracy: 0.0949\n",
            "Epoch 82/100\n",
            "375/375 [==============================] - 4s 10ms/step - loss: 0.4767 - accuracy: 0.8499 - val_loss: 6.7214 - val_accuracy: 0.0997\n",
            "Epoch 83/100\n",
            "375/375 [==============================] - 2s 6ms/step - loss: 0.4707 - accuracy: 0.8529 - val_loss: 6.7796 - val_accuracy: 0.1012\n",
            "Epoch 84/100\n",
            "375/375 [==============================] - 2s 6ms/step - loss: 0.4594 - accuracy: 0.8570 - val_loss: 6.8740 - val_accuracy: 0.0989\n",
            "Epoch 85/100\n",
            "375/375 [==============================] - 2s 6ms/step - loss: 0.4501 - accuracy: 0.8594 - val_loss: 6.9481 - val_accuracy: 0.0982\n",
            "Epoch 86/100\n",
            "375/375 [==============================] - 2s 6ms/step - loss: 0.4418 - accuracy: 0.8629 - val_loss: 7.0112 - val_accuracy: 0.0988\n",
            "Epoch 87/100\n",
            "375/375 [==============================] - 3s 7ms/step - loss: 0.4345 - accuracy: 0.8646 - val_loss: 7.0850 - val_accuracy: 0.0964\n",
            "Epoch 88/100\n",
            "375/375 [==============================] - 2s 6ms/step - loss: 0.4276 - accuracy: 0.8668 - val_loss: 7.1898 - val_accuracy: 0.0953\n",
            "Epoch 89/100\n",
            "375/375 [==============================] - 4s 10ms/step - loss: 0.4172 - accuracy: 0.8712 - val_loss: 7.2283 - val_accuracy: 0.0958\n",
            "Epoch 90/100\n",
            "375/375 [==============================] - 2s 6ms/step - loss: 0.4111 - accuracy: 0.8723 - val_loss: 7.2381 - val_accuracy: 0.0956\n",
            "Epoch 91/100\n",
            "375/375 [==============================] - 3s 7ms/step - loss: 0.4030 - accuracy: 0.8755 - val_loss: 7.3783 - val_accuracy: 0.0986\n",
            "Epoch 92/100\n",
            "375/375 [==============================] - 2s 6ms/step - loss: 0.3933 - accuracy: 0.8788 - val_loss: 7.4433 - val_accuracy: 0.0978\n",
            "Epoch 93/100\n",
            "375/375 [==============================] - 2s 6ms/step - loss: 0.3882 - accuracy: 0.8799 - val_loss: 7.5506 - val_accuracy: 0.0967\n",
            "Epoch 94/100\n",
            "375/375 [==============================] - 2s 6ms/step - loss: 0.3811 - accuracy: 0.8811 - val_loss: 7.5653 - val_accuracy: 0.0964\n",
            "Epoch 95/100\n",
            "375/375 [==============================] - 2s 6ms/step - loss: 0.3735 - accuracy: 0.8849 - val_loss: 7.6940 - val_accuracy: 0.0995\n",
            "Epoch 96/100\n",
            "375/375 [==============================] - 3s 7ms/step - loss: 0.3671 - accuracy: 0.8861 - val_loss: 7.7090 - val_accuracy: 0.0979\n",
            "Epoch 97/100\n",
            "375/375 [==============================] - 2s 6ms/step - loss: 0.3586 - accuracy: 0.8895 - val_loss: 7.7889 - val_accuracy: 0.0988\n",
            "Epoch 98/100\n",
            "375/375 [==============================] - 2s 6ms/step - loss: 0.3523 - accuracy: 0.8919 - val_loss: 7.9138 - val_accuracy: 0.0941\n",
            "Epoch 99/100\n",
            "375/375 [==============================] - 2s 6ms/step - loss: 0.3465 - accuracy: 0.8938 - val_loss: 7.9823 - val_accuracy: 0.0953\n",
            "Epoch 100/100\n",
            "375/375 [==============================] - 2s 6ms/step - loss: 0.3410 - accuracy: 0.8947 - val_loss: 8.0628 - val_accuracy: 0.0967\n"
          ]
        },
        {
          "output_type": "execute_result",
          "data": {
            "text/plain": [
              "<keras.src.callbacks.History at 0x78efc2dbc280>"
            ]
          },
          "metadata": {},
          "execution_count": 4
        }
      ]
    },
    {
      "cell_type": "markdown",
      "source": [
        "5-5 홀드아웃 검증 구현 예"
      ],
      "metadata": {
        "id": "HnPerdcC1ouY"
      }
    },
    {
      "cell_type": "code",
      "source": [
        "num_validation_samples =10000\n",
        "np.random.shuffle(data)\n",
        "validation_data = data[:num_validation_samples] # 검증세트\n",
        "training_data = data[num_validation_samples:] # 훈련세트\n",
        "model = get_model() # 훈련세트에서 훈련 후 검증세트로 평가\n",
        "model.fit(training_data, ...)\n",
        "validation_score = model.evaluate(validation_data, ...)\n",
        "... # 과정반복\n",
        "model = get_model() #모델 다시 훈련\n",
        "model.fit(np.concatenate([training_data, validation_data]), ...)\n",
        "test_score = model.evaluate(test_data, ...)"
      ],
      "metadata": {
        "id": "G3Y-2z0758y7"
      },
      "execution_count": null,
      "outputs": []
    },
    {
      "cell_type": "markdown",
      "source": [
        "5-6 K-겹 교차 검증 구현 예"
      ],
      "metadata": {
        "id": "xDrBOXis1wGb"
      }
    },
    {
      "cell_type": "code",
      "source": [
        "k=3\n",
        "num_validation_samples = len(data)//k\n",
        "np.random.shuffle(data)\n",
        "calidation_scores = []\n",
        "for fold in range(k):\n",
        "  validation_data = data[num_validation_samples*fold:\n",
        "                         num_validation_samples*(fold+1)] #검증데이터 선택\n",
        "  training_data=np.concatenate(\n",
        "      data[:num_validation_samples*fold],\n",
        "      data[num_validation_samples*(fold+1):])\n",
        "  model=get_model() #훈련되지 않은 새로운 모델 만듦\n",
        "  model.fit(training_data, ...)\n",
        "  validation_score=model.evaluate(validation_data, ...)\n",
        "  validation_scores.append(validation_score)\n",
        "validation_score=np.average(validation_scores) #검증점수:K개의 폴드 검증 점수 평균\n",
        "model = get_model()\n",
        "model.fit(data, ...)\n",
        "test_score = model.evaluate(test_data, ...) #테스트 데이터 제외 전체 데이터로 최종 모델 훈련"
      ],
      "metadata": {
        "id": "YaVcdc8l1zwy"
      },
      "execution_count": null,
      "outputs": []
    }
  ]
}