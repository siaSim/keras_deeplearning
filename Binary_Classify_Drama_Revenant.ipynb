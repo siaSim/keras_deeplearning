{
  "cells": [
    {
      "cell_type": "markdown",
      "metadata": {
        "id": "view-in-github",
        "colab_type": "text"
      },
      "source": [
        "<a href=\"https://colab.research.google.com/github/siaSim/keras_deeplearning/blob/main/Binary_Classify_Drama_Revenant.ipynb\" target=\"_parent\"><img src=\"https://colab.research.google.com/assets/colab-badge.svg\" alt=\"Open In Colab\"/></a>"
      ]
    },
    {
      "cell_type": "code",
      "execution_count": 1,
      "metadata": {
        "id": "Sj5A-nPQR82Z"
      },
      "outputs": [],
      "source": [
        "import requests #HTTP 요청을 위해 사용하는 파이썬 라이브러리\n",
        "from bs4 import BeautifulSoup #웹 사이트에서 데이터를 추출하는 웹 스크래핑 라이브러리\n",
        "import time #시간 데이터 처리 모듈\n",
        "import csv #CSV형식의 데이터를 읽고 쓰는"
      ]
    },
    {
      "cell_type": "code",
      "source": [
        "need_reviews_cnt = 1000\n",
        "reviews = []\n",
        "review_data=[]"
      ],
      "metadata": {
        "id": "NhiVjf5T-pbQ"
      },
      "execution_count": 2,
      "outputs": []
    },
    {
      "cell_type": "code",
      "execution_count": 6,
      "metadata": {
        "id": "mgFYQIOPTLcM"
      },
      "outputs": [],
      "source": [
        "#page를 1부터 1씩 증가하며 URL을 다음 페이지로 바꿈\n",
        "for page in range(1,500):\n",
        "  url= f'https://pedia.watcha.com/ko-KR/contents/tRX5drD/comments'\n",
        "  #get : request로 urldml html문서의 내용 요청\n",
        "  html = requests.get(url)\n",
        "  #html을 받아온 문서를 .content로 지정 후 soup객체로 변환\n",
        "  soup = BeautifulSoup(html.content, 'html.parser')\n",
        "  #find_all : 지정한 태그의 내용을 모두 찾아 리스트로 변환\n",
        "  reviews =  soup.find_all(\"td\",{\"class\":\"title\"})"
      ]
    },
    {
      "cell_type": "code",
      "source": [
        "#한 페이지의 리뷰 리스트의 리뷰를 하나씩 보면서 데이터 추출\n",
        "for review in reviews:\n",
        "    sentence = review.find(\"a\",{\"class\":\"css-lf9mls4-StylelessLocalLink eovgsd01\"}).get(\"css-lf9mls4-StylelessLocalLink eovgsd01\").split(\"', '\")[2]\n",
        "    if sentence != \"\":\n",
        "        score = review.find(\"em\").get_text()\n",
        "        review_data.append([movie, sentence, int(score)])\n",
        "        need_reviews_cnt-=1\n",
        "    #현재까지 수집된 리뷰가 목표 수집 리뷰보다 많아진 경우 크롤링 중지\n",
        "    if need_reviews_cnt < 0:\n",
        "        break\n",
        "    #다음 페이지를 조회하기 전 0.5초 시간 차를 두기\n",
        "    time.sleep(0.5)"
      ],
      "metadata": {
        "id": "0N5jyaY7zusT"
      },
      "execution_count": null,
      "outputs": []
    },
    {
      "cell_type": "code",
      "source": [
        "columns_name=[\"ID\", \"sentence\"]\n",
        "with open (\"dramareview.csv\", \"w\", newline=\"\", encoding = 'utf8') as f:\n",
        "  write = csv.writer(f)\n",
        "  write.writerow(columns_name)\n",
        "  write.writerows(review_data)"
      ],
      "metadata": {
        "id": "DtUgx-xL5YYy"
      },
      "execution_count": null,
      "outputs": []
    }
  ],
  "metadata": {
    "colab": {
      "provenance": [],
      "authorship_tag": "ABX9TyMrFpBDIqh6Lierm3yNVxhc",
      "include_colab_link": true
    },
    "kernelspec": {
      "display_name": "Python 3",
      "name": "python3"
    },
    "language_info": {
      "name": "python"
    }
  },
  "nbformat": 4,
  "nbformat_minor": 0
}